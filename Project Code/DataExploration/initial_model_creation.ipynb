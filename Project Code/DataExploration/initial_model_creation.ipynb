{
 "cells": [
  {
   "cell_type": "code",
   "execution_count": 10,
   "metadata": {},
   "outputs": [],
   "source": [
    "import pandas as pd\n",
    "import numpy as np\n",
    "import statsmodels.formula.api as smf\n",
    "import statsmodels.api as sm\n",
    "from statsmodels.tools.tools import add_constant\n",
    "from statsmodels.stats.outliers_influence import variance_inflation_factor\n",
    "import matplotlib.pyplot as plt\n",
    "import seaborn as sns\n",
    "from sklearn.model_selection import train_test_split\n",
    "from sklearn.linear_model import LogisticRegression, LinearRegression\n",
    "from sklearn.metrics import classification_report, confusion_matrix, roc_curve, auc, precision_recall_curve\n"
   ]
  },
  {
   "cell_type": "code",
   "execution_count": 11,
   "metadata": {},
   "outputs": [
    {
     "name": "stderr",
     "output_type": "stream",
     "text": [
      "/var/folders/j1/6w3brg1548b8nh3hd3xp_x840000gn/T/ipykernel_16071/1524892990.py:13: FutureWarning: The default value of regex will change from True to False in a future version. In addition, single character regular expressions will *not* be treated as literal strings when regex=True.\n",
      "  full_data.columns = full_data.columns.str.replace('?', '')\n"
     ]
    },
    {
     "data": {
      "text/html": [
       "<div>\n",
       "<style scoped>\n",
       "    .dataframe tbody tr th:only-of-type {\n",
       "        vertical-align: middle;\n",
       "    }\n",
       "\n",
       "    .dataframe tbody tr th {\n",
       "        vertical-align: top;\n",
       "    }\n",
       "\n",
       "    .dataframe thead th {\n",
       "        text-align: right;\n",
       "    }\n",
       "</style>\n",
       "<table border=\"1\" class=\"dataframe\">\n",
       "  <thead>\n",
       "    <tr style=\"text-align: right;\">\n",
       "      <th></th>\n",
       "      <th>poisonous</th>\n",
       "      <th>cap_shape</th>\n",
       "      <th>cap_surface</th>\n",
       "      <th>cap_color</th>\n",
       "      <th>bruises</th>\n",
       "      <th>odor</th>\n",
       "      <th>gill_attachment</th>\n",
       "      <th>gill_spacing</th>\n",
       "      <th>gill_size</th>\n",
       "      <th>gill_color</th>\n",
       "      <th>...</th>\n",
       "      <th>stalk_surface_below_ring</th>\n",
       "      <th>stalk_color_above_ring</th>\n",
       "      <th>stalk_color_below_ring</th>\n",
       "      <th>veil_type</th>\n",
       "      <th>veil_color</th>\n",
       "      <th>ring_number</th>\n",
       "      <th>ring_type</th>\n",
       "      <th>spore_print_color</th>\n",
       "      <th>population</th>\n",
       "      <th>habitat</th>\n",
       "    </tr>\n",
       "  </thead>\n",
       "  <tbody>\n",
       "    <tr>\n",
       "      <th>0</th>\n",
       "      <td>False</td>\n",
       "      <td>CONVEX</td>\n",
       "      <td>SMOOTH</td>\n",
       "      <td>WHITE</td>\n",
       "      <td>BRUISES</td>\n",
       "      <td>ALMOND</td>\n",
       "      <td>FREE</td>\n",
       "      <td>CROWDED</td>\n",
       "      <td>NARROW</td>\n",
       "      <td>WHITE</td>\n",
       "      <td>...</td>\n",
       "      <td>SMOOTH</td>\n",
       "      <td>WHITE</td>\n",
       "      <td>WHITE</td>\n",
       "      <td>PARTIAL</td>\n",
       "      <td>WHITE</td>\n",
       "      <td>ONE</td>\n",
       "      <td>PENDANT</td>\n",
       "      <td>PURPLE</td>\n",
       "      <td>SEVERAL</td>\n",
       "      <td>WOODS</td>\n",
       "    </tr>\n",
       "    <tr>\n",
       "      <th>1</th>\n",
       "      <td>False</td>\n",
       "      <td>CONVEX</td>\n",
       "      <td>SMOOTH</td>\n",
       "      <td>WHITE</td>\n",
       "      <td>BRUISES</td>\n",
       "      <td>ALMOND</td>\n",
       "      <td>FREE</td>\n",
       "      <td>CROWDED</td>\n",
       "      <td>NARROW</td>\n",
       "      <td>WHITE</td>\n",
       "      <td>...</td>\n",
       "      <td>SMOOTH</td>\n",
       "      <td>WHITE</td>\n",
       "      <td>WHITE</td>\n",
       "      <td>PARTIAL</td>\n",
       "      <td>WHITE</td>\n",
       "      <td>ONE</td>\n",
       "      <td>PENDANT</td>\n",
       "      <td>BROWN</td>\n",
       "      <td>SEVERAL</td>\n",
       "      <td>WOODS</td>\n",
       "    </tr>\n",
       "    <tr>\n",
       "      <th>2</th>\n",
       "      <td>False</td>\n",
       "      <td>CONVEX</td>\n",
       "      <td>SMOOTH</td>\n",
       "      <td>WHITE</td>\n",
       "      <td>BRUISES</td>\n",
       "      <td>ALMOND</td>\n",
       "      <td>FREE</td>\n",
       "      <td>CROWDED</td>\n",
       "      <td>NARROW</td>\n",
       "      <td>PINK</td>\n",
       "      <td>...</td>\n",
       "      <td>SMOOTH</td>\n",
       "      <td>WHITE</td>\n",
       "      <td>WHITE</td>\n",
       "      <td>PARTIAL</td>\n",
       "      <td>WHITE</td>\n",
       "      <td>ONE</td>\n",
       "      <td>PENDANT</td>\n",
       "      <td>PURPLE</td>\n",
       "      <td>SEVERAL</td>\n",
       "      <td>WOODS</td>\n",
       "    </tr>\n",
       "    <tr>\n",
       "      <th>3</th>\n",
       "      <td>False</td>\n",
       "      <td>CONVEX</td>\n",
       "      <td>SMOOTH</td>\n",
       "      <td>WHITE</td>\n",
       "      <td>BRUISES</td>\n",
       "      <td>ALMOND</td>\n",
       "      <td>FREE</td>\n",
       "      <td>CROWDED</td>\n",
       "      <td>NARROW</td>\n",
       "      <td>PINK</td>\n",
       "      <td>...</td>\n",
       "      <td>SMOOTH</td>\n",
       "      <td>WHITE</td>\n",
       "      <td>WHITE</td>\n",
       "      <td>PARTIAL</td>\n",
       "      <td>WHITE</td>\n",
       "      <td>ONE</td>\n",
       "      <td>PENDANT</td>\n",
       "      <td>BROWN</td>\n",
       "      <td>SEVERAL</td>\n",
       "      <td>WOODS</td>\n",
       "    </tr>\n",
       "    <tr>\n",
       "      <th>4</th>\n",
       "      <td>False</td>\n",
       "      <td>CONVEX</td>\n",
       "      <td>SMOOTH</td>\n",
       "      <td>WHITE</td>\n",
       "      <td>BRUISES</td>\n",
       "      <td>ALMOND</td>\n",
       "      <td>FREE</td>\n",
       "      <td>CROWDED</td>\n",
       "      <td>NARROW</td>\n",
       "      <td>BROWN</td>\n",
       "      <td>...</td>\n",
       "      <td>SMOOTH</td>\n",
       "      <td>WHITE</td>\n",
       "      <td>WHITE</td>\n",
       "      <td>PARTIAL</td>\n",
       "      <td>WHITE</td>\n",
       "      <td>ONE</td>\n",
       "      <td>PENDANT</td>\n",
       "      <td>PURPLE</td>\n",
       "      <td>SEVERAL</td>\n",
       "      <td>WOODS</td>\n",
       "    </tr>\n",
       "  </tbody>\n",
       "</table>\n",
       "<p>5 rows × 23 columns</p>\n",
       "</div>"
      ],
      "text/plain": [
       "   poisonous cap_shape cap_surface cap_color  bruises    odor gill_attachment  \\\n",
       "0      False    CONVEX      SMOOTH     WHITE  BRUISES  ALMOND            FREE   \n",
       "1      False    CONVEX      SMOOTH     WHITE  BRUISES  ALMOND            FREE   \n",
       "2      False    CONVEX      SMOOTH     WHITE  BRUISES  ALMOND            FREE   \n",
       "3      False    CONVEX      SMOOTH     WHITE  BRUISES  ALMOND            FREE   \n",
       "4      False    CONVEX      SMOOTH     WHITE  BRUISES  ALMOND            FREE   \n",
       "\n",
       "  gill_spacing gill_size gill_color  ... stalk_surface_below_ring  \\\n",
       "0      CROWDED    NARROW      WHITE  ...                   SMOOTH   \n",
       "1      CROWDED    NARROW      WHITE  ...                   SMOOTH   \n",
       "2      CROWDED    NARROW       PINK  ...                   SMOOTH   \n",
       "3      CROWDED    NARROW       PINK  ...                   SMOOTH   \n",
       "4      CROWDED    NARROW      BROWN  ...                   SMOOTH   \n",
       "\n",
       "  stalk_color_above_ring stalk_color_below_ring veil_type veil_color  \\\n",
       "0                  WHITE                  WHITE   PARTIAL      WHITE   \n",
       "1                  WHITE                  WHITE   PARTIAL      WHITE   \n",
       "2                  WHITE                  WHITE   PARTIAL      WHITE   \n",
       "3                  WHITE                  WHITE   PARTIAL      WHITE   \n",
       "4                  WHITE                  WHITE   PARTIAL      WHITE   \n",
       "\n",
       "  ring_number ring_type spore_print_color population habitat  \n",
       "0         ONE   PENDANT            PURPLE    SEVERAL   WOODS  \n",
       "1         ONE   PENDANT             BROWN    SEVERAL   WOODS  \n",
       "2         ONE   PENDANT            PURPLE    SEVERAL   WOODS  \n",
       "3         ONE   PENDANT             BROWN    SEVERAL   WOODS  \n",
       "4         ONE   PENDANT            PURPLE    SEVERAL   WOODS  \n",
       "\n",
       "[5 rows x 23 columns]"
      ]
     },
     "execution_count": 11,
     "metadata": {},
     "output_type": "execute_result"
    }
   ],
   "source": [
    "# read in the data\n",
    "full_data = pd.read_csv('../Data/expanded_clean.csv', index_col=0)\n",
    "\n",
    "# rename the 'class' column to 'poisonous' for clarity\n",
    "# and convert to a binary variable\n",
    "full_data.rename(columns={'class':'poisonous'}, inplace=True)\n",
    "full_data['poisonous'] = full_data['poisonous'] == 'POISONOUS'\n",
    "\n",
    "# Replace all '-' characters in the headers with '_'\n",
    "full_data.columns = full_data.columns.str.replace('-', '_')\n",
    "\n",
    "# Remove a ? from the headers\n",
    "full_data.columns = full_data.columns.str.replace('?', '')\n",
    "\n",
    "full_data.head()"
   ]
  },
  {
   "cell_type": "code",
   "execution_count": 12,
   "metadata": {},
   "outputs": [],
   "source": [
    "#Function to compute confusion matrix and prediction accuracy\n",
    "def confusion_matrix_data(data,actual_values,model,cutoff=0.5):\n",
    "    pred_values = model.predict(data)\n",
    "    bins=np.array([0,cutoff,1])\n",
    "    cm = np.histogram2d(actual_values, pred_values, bins=bins)[0]\n",
    "    cm_df = pd.DataFrame(cm)\n",
    "    cm_df.columns = ['Predicted 0','Predicted 1']\n",
    "    cm_df = cm_df.rename(index={0: 'Actual 0',1:'Actual 1'})\n",
    "# Calculate the accuracy\n",
    "    accuracy = (cm[0,0]+cm[1,1])/cm.sum()\n",
    "    fnr = (cm[1,0])/(cm[1,0]+cm[1,1])\n",
    "    precision = (cm[1,1])/(cm[0,1]+cm[1,1])\n",
    "    fpr = (cm[0,1])/(cm[0,0]+cm[0,1])\n",
    "    tpr = (cm[1,1])/(cm[1,0]+cm[1,1])\n",
    "    fpr_roc, tpr_roc, auc_thresholds = roc_curve(actual_values, pred_values)\n",
    "    auc_value = (auc(fpr_roc, tpr_roc))# AUC of ROC\n",
    "    sns.heatmap(cm_df, annot=True, cmap='Blues', fmt='g')\n",
    "    plt.ylabel(\"Actual Values\")\n",
    "    plt.xlabel(\"Predicted Values\")\n",
    "    print(\"Classification accuracy = {:.1%}\".format(accuracy))\n",
    "    print(\"Precision = {:.1%}\".format(precision))\n",
    "    print(\"TPR or Recall = {:.1%}\".format(tpr))\n",
    "    print(\"FNR = {:.1%}\".format(fnr))\n",
    "    print(\"FPR = {:.1%}\".format(fpr))\n",
    "    print(\"ROC-AUC = {:.1%}\".format(auc_value))"
   ]
  },
  {
   "cell_type": "code",
   "execution_count": 29,
   "metadata": {},
   "outputs": [],
   "source": [
    "# Split the data into training and test sets\n",
    "train, test = train_test_split(full_data, test_size=0.15, random_state=100)"
   ]
  },
  {
   "cell_type": "markdown",
   "metadata": {},
   "source": [
    "# Model based on Odor\n",
    "We noticed during the EDA that the odor of the mushroom is highly correlated with the toxicity of the mushroom, with an almost perfect correlation. We will use this as our first model."
   ]
  },
  {
   "cell_type": "code",
   "execution_count": 30,
   "metadata": {},
   "outputs": [
    {
     "name": "stdout",
     "output_type": "stream",
     "text": [
      "Warning: Maximum number of iterations has been exceeded.\n",
      "         Current function value: 0.065608\n",
      "         Iterations: 35\n"
     ]
    },
    {
     "name": "stderr",
     "output_type": "stream",
     "text": [
      "/Users/josephprette/opt/anaconda3/lib/python3.9/site-packages/statsmodels/base/model.py:604: ConvergenceWarning: Maximum Likelihood optimization failed to converge. Check mle_retvals\n",
      "  warnings.warn(\"Maximum Likelihood optimization failed to \"\n"
     ]
    },
    {
     "data": {
      "text/html": [
       "<table class=\"simpletable\">\n",
       "<caption>Logit Regression Results</caption>\n",
       "<tr>\n",
       "  <th>Dep. Variable:</th>       <td>poisonous</td>    <th>  No. Observations:  </th>  <td>  7153</td> \n",
       "</tr>\n",
       "<tr>\n",
       "  <th>Model:</th>                 <td>Logit</td>      <th>  Df Residuals:      </th>  <td>  7151</td> \n",
       "</tr>\n",
       "<tr>\n",
       "  <th>Method:</th>                 <td>MLE</td>       <th>  Df Model:          </th>  <td>     1</td> \n",
       "</tr>\n",
       "<tr>\n",
       "  <th>Date:</th>            <td>Sun, 12 Mar 2023</td> <th>  Pseudo R-squ.:     </th>  <td>0.9050</td> \n",
       "</tr>\n",
       "<tr>\n",
       "  <th>Time:</th>                <td>17:01:20</td>     <th>  Log-Likelihood:    </th> <td> -469.30</td>\n",
       "</tr>\n",
       "<tr>\n",
       "  <th>converged:</th>             <td>False</td>      <th>  LL-Null:           </th> <td> -4941.2</td>\n",
       "</tr>\n",
       "<tr>\n",
       "  <th>Covariance Type:</th>     <td>nonrobust</td>    <th>  LLR p-value:       </th>  <td> 0.000</td> \n",
       "</tr>\n",
       "</table>\n",
       "<table class=\"simpletable\">\n",
       "<tr>\n",
       "      <td></td>         <th>coef</th>     <th>std err</th>      <th>z</th>      <th>P>|z|</th>  <th>[0.025</th>    <th>0.975]</th>  \n",
       "</tr>\n",
       "<tr>\n",
       "  <th>Intercept</th> <td>   -3.6334</td> <td>    0.101</td> <td>  -36.042</td> <td> 0.000</td> <td>   -3.831</td> <td>   -3.436</td>\n",
       "</tr>\n",
       "<tr>\n",
       "  <th>odor</th>      <td>   29.9791</td> <td> 9253.047</td> <td>    0.003</td> <td> 0.997</td> <td>-1.81e+04</td> <td> 1.82e+04</td>\n",
       "</tr>\n",
       "</table><br/><br/>Possibly complete quasi-separation: A fraction 0.45 of observations can be<br/>perfectly predicted. This might indicate that there is complete<br/>quasi-separation. In this case some parameters will not be identified."
      ],
      "text/plain": [
       "<class 'statsmodels.iolib.summary.Summary'>\n",
       "\"\"\"\n",
       "                           Logit Regression Results                           \n",
       "==============================================================================\n",
       "Dep. Variable:              poisonous   No. Observations:                 7153\n",
       "Model:                          Logit   Df Residuals:                     7151\n",
       "Method:                           MLE   Df Model:                            1\n",
       "Date:                Sun, 12 Mar 2023   Pseudo R-squ.:                  0.9050\n",
       "Time:                        17:01:20   Log-Likelihood:                -469.30\n",
       "converged:                      False   LL-Null:                       -4941.2\n",
       "Covariance Type:            nonrobust   LLR p-value:                     0.000\n",
       "==============================================================================\n",
       "                 coef    std err          z      P>|z|      [0.025      0.975]\n",
       "------------------------------------------------------------------------------\n",
       "Intercept     -3.6334      0.101    -36.042      0.000      -3.831      -3.436\n",
       "odor          29.9791   9253.047      0.003      0.997   -1.81e+04    1.82e+04\n",
       "==============================================================================\n",
       "\n",
       "Possibly complete quasi-separation: A fraction 0.45 of observations can be\n",
       "perfectly predicted. This might indicate that there is complete\n",
       "quasi-separation. In this case some parameters will not be identified.\n",
       "\"\"\""
      ]
     },
     "execution_count": 30,
     "metadata": {},
     "output_type": "execute_result"
    }
   ],
   "source": [
    "# Create a model to predict poisonous using odor\n",
    "\n",
    "train_1 = train.copy()\n",
    "\n",
    "# If odor is equal to ALMOND, ANISE, or NONE, set it to 0, else 1\n",
    "train_1['odor'] = train_1['odor'].apply(lambda x: 0 if x in ['ALMOND', 'ANISE', 'NONE'] else 1).astype(int)\n",
    "\n",
    "train_1['poisonous'] = train_1['poisonous'].astype(int)\n",
    "\n",
    "# Train a linear regression model\n",
    "model_1 = smf.logit(formula='poisonous~odor', data=train_1).fit()\n",
    "model_1.summary()"
   ]
  },
  {
   "cell_type": "code",
   "execution_count": 31,
   "metadata": {},
   "outputs": [
    {
     "name": "stdout",
     "output_type": "stream",
     "text": [
      "Classification accuracy = 98.5%\n",
      "Precision = 100.0%\n",
      "TPR or Recall = 96.8%\n",
      "FNR = 3.2%\n",
      "FPR = 0.0%\n",
      "ROC-AUC = 98.4%\n"
     ]
    },
    {
     "data": {
      "image/png": "[encoded data removed]",
      "text/plain": [
       "<Figure size 432x288 with 2 Axes>"
      ]
     },
     "metadata": {
      "needs_background": "light"
     },
     "output_type": "display_data"
    }
   ],
   "source": [
    "# Print the confusion matrix for test_1\n",
    "test_1 = test.copy()\n",
    "test_1['odor'] = test_1['odor'].apply(lambda x: 0 if x in ['ALMOND', 'ANISE', 'NONE'] else 1).astype(int)\n",
    "test_1['poisonous'] = test_1['poisonous'].astype(int)\n",
    "\n",
    "confusion_matrix_data(test_1[['odor']], test_1['poisonous'], model_1)"
   ]
  },
  {
   "cell_type": "markdown",
   "metadata": {},
   "source": [
    "According to the confusion matrix run on the test data, the model is able to correctly predict 98.5% of the mushrooms, with 100% precision and 96.8% recall.\n",
    "\n",
    "This is a very good model for our purposes."
   ]
  },
  {
   "cell_type": "markdown",
   "metadata": {},
   "source": [
    "# Model based on visual features\n",
    "We will now try to create a model without the odor feature, and instead use the visual features of the mushroom. "
   ]
  },
  {
   "cell_type": "code",
   "execution_count": 32,
   "metadata": {},
   "outputs": [
    {
     "data": {
      "text/html": [
       "<div>\n",
       "<style scoped>\n",
       "    .dataframe tbody tr th:only-of-type {\n",
       "        vertical-align: middle;\n",
       "    }\n",
       "\n",
       "    .dataframe tbody tr th {\n",
       "        vertical-align: top;\n",
       "    }\n",
       "\n",
       "    .dataframe thead th {\n",
       "        text-align: right;\n",
       "    }\n",
       "</style>\n",
       "<table border=\"1\" class=\"dataframe\">\n",
       "  <thead>\n",
       "    <tr style=\"text-align: right;\">\n",
       "      <th></th>\n",
       "      <th>poisonous</th>\n",
       "      <th>cap_shape</th>\n",
       "      <th>cap_surface</th>\n",
       "      <th>cap_color</th>\n",
       "      <th>bruises</th>\n",
       "      <th>odor</th>\n",
       "      <th>gill_attachment</th>\n",
       "      <th>gill_spacing</th>\n",
       "      <th>gill_size</th>\n",
       "      <th>gill_color</th>\n",
       "      <th>...</th>\n",
       "      <th>stalk_surface_below_ring</th>\n",
       "      <th>stalk_color_above_ring</th>\n",
       "      <th>stalk_color_below_ring</th>\n",
       "      <th>veil_type</th>\n",
       "      <th>veil_color</th>\n",
       "      <th>ring_number</th>\n",
       "      <th>ring_type</th>\n",
       "      <th>spore_print_color</th>\n",
       "      <th>population</th>\n",
       "      <th>habitat</th>\n",
       "    </tr>\n",
       "  </thead>\n",
       "  <tbody>\n",
       "    <tr>\n",
       "      <th>5321</th>\n",
       "      <td>True</td>\n",
       "      <td>FLAT</td>\n",
       "      <td>SCALY</td>\n",
       "      <td>YELLOW</td>\n",
       "      <td>NO</td>\n",
       "      <td>FOUL</td>\n",
       "      <td>FREE</td>\n",
       "      <td>CLOSE</td>\n",
       "      <td>BROAD</td>\n",
       "      <td>PINK</td>\n",
       "      <td>...</td>\n",
       "      <td>SILKY</td>\n",
       "      <td>BROWN</td>\n",
       "      <td>BUFF</td>\n",
       "      <td>PARTIAL</td>\n",
       "      <td>WHITE</td>\n",
       "      <td>ONE</td>\n",
       "      <td>LARGE</td>\n",
       "      <td>CHOCOLATE</td>\n",
       "      <td>SOLITARY</td>\n",
       "      <td>PATHS</td>\n",
       "    </tr>\n",
       "    <tr>\n",
       "      <th>6411</th>\n",
       "      <td>True</td>\n",
       "      <td>CONVEX</td>\n",
       "      <td>SCALY</td>\n",
       "      <td>RED</td>\n",
       "      <td>NO</td>\n",
       "      <td>FOUL</td>\n",
       "      <td>FREE</td>\n",
       "      <td>CLOSE</td>\n",
       "      <td>NARROW</td>\n",
       "      <td>BUFF</td>\n",
       "      <td>...</td>\n",
       "      <td>SILKY</td>\n",
       "      <td>PINK</td>\n",
       "      <td>WHITE</td>\n",
       "      <td>PARTIAL</td>\n",
       "      <td>WHITE</td>\n",
       "      <td>ONE</td>\n",
       "      <td>EVANESCENT</td>\n",
       "      <td>WHITE</td>\n",
       "      <td>SEVERAL</td>\n",
       "      <td>PATHS</td>\n",
       "    </tr>\n",
       "    <tr>\n",
       "      <th>1812</th>\n",
       "      <td>False</td>\n",
       "      <td>FLAT</td>\n",
       "      <td>SMOOTH</td>\n",
       "      <td>GRAY</td>\n",
       "      <td>NO</td>\n",
       "      <td>NONE</td>\n",
       "      <td>FREE</td>\n",
       "      <td>CROWDED</td>\n",
       "      <td>BROAD</td>\n",
       "      <td>CHOCOLATE</td>\n",
       "      <td>...</td>\n",
       "      <td>FIBROUS</td>\n",
       "      <td>WHITE</td>\n",
       "      <td>WHITE</td>\n",
       "      <td>PARTIAL</td>\n",
       "      <td>WHITE</td>\n",
       "      <td>ONE</td>\n",
       "      <td>EVANESCENT</td>\n",
       "      <td>BLACK</td>\n",
       "      <td>SCATTERED</td>\n",
       "      <td>GRASSES</td>\n",
       "    </tr>\n",
       "    <tr>\n",
       "      <th>7873</th>\n",
       "      <td>True</td>\n",
       "      <td>KNOBBED</td>\n",
       "      <td>SCALY</td>\n",
       "      <td>RED</td>\n",
       "      <td>NO</td>\n",
       "      <td>MUSTY</td>\n",
       "      <td>FREE</td>\n",
       "      <td>CLOSE</td>\n",
       "      <td>BROAD</td>\n",
       "      <td>YELLOW</td>\n",
       "      <td>...</td>\n",
       "      <td>SCALY</td>\n",
       "      <td>CINNAMON</td>\n",
       "      <td>CINNAMON</td>\n",
       "      <td>PARTIAL</td>\n",
       "      <td>WHITE</td>\n",
       "      <td>NONE</td>\n",
       "      <td>NONE</td>\n",
       "      <td>WHITE</td>\n",
       "      <td>CLUSTERED</td>\n",
       "      <td>WOODS</td>\n",
       "    </tr>\n",
       "    <tr>\n",
       "      <th>2197</th>\n",
       "      <td>False</td>\n",
       "      <td>CONVEX</td>\n",
       "      <td>FIBROUS</td>\n",
       "      <td>GRAY</td>\n",
       "      <td>BRUISES</td>\n",
       "      <td>NONE</td>\n",
       "      <td>FREE</td>\n",
       "      <td>CLOSE</td>\n",
       "      <td>BROAD</td>\n",
       "      <td>WHITE</td>\n",
       "      <td>...</td>\n",
       "      <td>SMOOTH</td>\n",
       "      <td>PINK</td>\n",
       "      <td>GRAY</td>\n",
       "      <td>PARTIAL</td>\n",
       "      <td>WHITE</td>\n",
       "      <td>ONE</td>\n",
       "      <td>PENDANT</td>\n",
       "      <td>BLACK</td>\n",
       "      <td>SEVERAL</td>\n",
       "      <td>WOODS</td>\n",
       "    </tr>\n",
       "    <tr>\n",
       "      <th>...</th>\n",
       "      <td>...</td>\n",
       "      <td>...</td>\n",
       "      <td>...</td>\n",
       "      <td>...</td>\n",
       "      <td>...</td>\n",
       "      <td>...</td>\n",
       "      <td>...</td>\n",
       "      <td>...</td>\n",
       "      <td>...</td>\n",
       "      <td>...</td>\n",
       "      <td>...</td>\n",
       "      <td>...</td>\n",
       "      <td>...</td>\n",
       "      <td>...</td>\n",
       "      <td>...</td>\n",
       "      <td>...</td>\n",
       "      <td>...</td>\n",
       "      <td>...</td>\n",
       "      <td>...</td>\n",
       "      <td>...</td>\n",
       "      <td>...</td>\n",
       "    </tr>\n",
       "    <tr>\n",
       "      <th>350</th>\n",
       "      <td>False</td>\n",
       "      <td>BELL</td>\n",
       "      <td>SCALY</td>\n",
       "      <td>YELLOW</td>\n",
       "      <td>BRUISES</td>\n",
       "      <td>ANISE</td>\n",
       "      <td>FREE</td>\n",
       "      <td>CLOSE</td>\n",
       "      <td>BROAD</td>\n",
       "      <td>BROWN</td>\n",
       "      <td>...</td>\n",
       "      <td>SMOOTH</td>\n",
       "      <td>WHITE</td>\n",
       "      <td>WHITE</td>\n",
       "      <td>PARTIAL</td>\n",
       "      <td>WHITE</td>\n",
       "      <td>ONE</td>\n",
       "      <td>PENDANT</td>\n",
       "      <td>BROWN</td>\n",
       "      <td>NUMEROUS</td>\n",
       "      <td>MEADOWS</td>\n",
       "    </tr>\n",
       "    <tr>\n",
       "      <th>79</th>\n",
       "      <td>False</td>\n",
       "      <td>FLAT</td>\n",
       "      <td>FIBROUS</td>\n",
       "      <td>WHITE</td>\n",
       "      <td>BRUISES</td>\n",
       "      <td>ANISE</td>\n",
       "      <td>FREE</td>\n",
       "      <td>CROWDED</td>\n",
       "      <td>NARROW</td>\n",
       "      <td>WHITE</td>\n",
       "      <td>...</td>\n",
       "      <td>SMOOTH</td>\n",
       "      <td>WHITE</td>\n",
       "      <td>WHITE</td>\n",
       "      <td>PARTIAL</td>\n",
       "      <td>WHITE</td>\n",
       "      <td>ONE</td>\n",
       "      <td>PENDANT</td>\n",
       "      <td>BROWN</td>\n",
       "      <td>SEVERAL</td>\n",
       "      <td>WOODS</td>\n",
       "    </tr>\n",
       "    <tr>\n",
       "      <th>8039</th>\n",
       "      <td>False</td>\n",
       "      <td>CONVEX</td>\n",
       "      <td>FIBROUS</td>\n",
       "      <td>WHITE</td>\n",
       "      <td>NO</td>\n",
       "      <td>NONE</td>\n",
       "      <td>FREE</td>\n",
       "      <td>CROWDED</td>\n",
       "      <td>BROAD</td>\n",
       "      <td>WHITE</td>\n",
       "      <td>...</td>\n",
       "      <td>SILKY</td>\n",
       "      <td>WHITE</td>\n",
       "      <td>WHITE</td>\n",
       "      <td>PARTIAL</td>\n",
       "      <td>WHITE</td>\n",
       "      <td>TWO</td>\n",
       "      <td>PENDANT</td>\n",
       "      <td>WHITE</td>\n",
       "      <td>NUMEROUS</td>\n",
       "      <td>GRASSES</td>\n",
       "    </tr>\n",
       "    <tr>\n",
       "      <th>6936</th>\n",
       "      <td>True</td>\n",
       "      <td>FLAT</td>\n",
       "      <td>SMOOTH</td>\n",
       "      <td>BROWN</td>\n",
       "      <td>NO</td>\n",
       "      <td>SPICY</td>\n",
       "      <td>FREE</td>\n",
       "      <td>CLOSE</td>\n",
       "      <td>NARROW</td>\n",
       "      <td>BUFF</td>\n",
       "      <td>...</td>\n",
       "      <td>SILKY</td>\n",
       "      <td>WHITE</td>\n",
       "      <td>PINK</td>\n",
       "      <td>PARTIAL</td>\n",
       "      <td>WHITE</td>\n",
       "      <td>ONE</td>\n",
       "      <td>EVANESCENT</td>\n",
       "      <td>WHITE</td>\n",
       "      <td>SEVERAL</td>\n",
       "      <td>PATHS</td>\n",
       "    </tr>\n",
       "    <tr>\n",
       "      <th>5640</th>\n",
       "      <td>True</td>\n",
       "      <td>FLAT</td>\n",
       "      <td>SMOOTH</td>\n",
       "      <td>GRAY</td>\n",
       "      <td>BRUISES</td>\n",
       "      <td>FOUL</td>\n",
       "      <td>FREE</td>\n",
       "      <td>CLOSE</td>\n",
       "      <td>BROAD</td>\n",
       "      <td>WHITE</td>\n",
       "      <td>...</td>\n",
       "      <td>SMOOTH</td>\n",
       "      <td>WHITE</td>\n",
       "      <td>WHITE</td>\n",
       "      <td>PARTIAL</td>\n",
       "      <td>WHITE</td>\n",
       "      <td>ONE</td>\n",
       "      <td>PENDANT</td>\n",
       "      <td>CHOCOLATE</td>\n",
       "      <td>SCATTERED</td>\n",
       "      <td>URBAN</td>\n",
       "    </tr>\n",
       "  </tbody>\n",
       "</table>\n",
       "<p>7153 rows × 23 columns</p>\n",
       "</div>"
      ],
      "text/plain": [
       "      poisonous cap_shape cap_surface cap_color  bruises   odor  \\\n",
       "5321       True      FLAT       SCALY    YELLOW       NO   FOUL   \n",
       "6411       True    CONVEX       SCALY       RED       NO   FOUL   \n",
       "1812      False      FLAT      SMOOTH      GRAY       NO   NONE   \n",
       "7873       True   KNOBBED       SCALY       RED       NO  MUSTY   \n",
       "2197      False    CONVEX     FIBROUS      GRAY  BRUISES   NONE   \n",
       "...         ...       ...         ...       ...      ...    ...   \n",
       "350       False      BELL       SCALY    YELLOW  BRUISES  ANISE   \n",
       "79        False      FLAT     FIBROUS     WHITE  BRUISES  ANISE   \n",
       "8039      False    CONVEX     FIBROUS     WHITE       NO   NONE   \n",
       "6936       True      FLAT      SMOOTH     BROWN       NO  SPICY   \n",
       "5640       True      FLAT      SMOOTH      GRAY  BRUISES   FOUL   \n",
       "\n",
       "     gill_attachment gill_spacing gill_size gill_color  ...  \\\n",
       "5321            FREE        CLOSE     BROAD       PINK  ...   \n",
       "6411            FREE        CLOSE    NARROW       BUFF  ...   \n",
       "1812            FREE      CROWDED     BROAD  CHOCOLATE  ...   \n",
       "7873            FREE        CLOSE     BROAD     YELLOW  ...   \n",
       "2197            FREE        CLOSE     BROAD      WHITE  ...   \n",
       "...              ...          ...       ...        ...  ...   \n",
       "350             FREE        CLOSE     BROAD      BROWN  ...   \n",
       "79              FREE      CROWDED    NARROW      WHITE  ...   \n",
       "8039            FREE      CROWDED     BROAD      WHITE  ...   \n",
       "6936            FREE        CLOSE    NARROW       BUFF  ...   \n",
       "5640            FREE        CLOSE     BROAD      WHITE  ...   \n",
       "\n",
       "     stalk_surface_below_ring stalk_color_above_ring stalk_color_below_ring  \\\n",
       "5321                    SILKY                  BROWN                   BUFF   \n",
       "6411                    SILKY                   PINK                  WHITE   \n",
       "1812                  FIBROUS                  WHITE                  WHITE   \n",
       "7873                    SCALY               CINNAMON               CINNAMON   \n",
       "2197                   SMOOTH                   PINK                   GRAY   \n",
       "...                       ...                    ...                    ...   \n",
       "350                    SMOOTH                  WHITE                  WHITE   \n",
       "79                     SMOOTH                  WHITE                  WHITE   \n",
       "8039                    SILKY                  WHITE                  WHITE   \n",
       "6936                    SILKY                  WHITE                   PINK   \n",
       "5640                   SMOOTH                  WHITE                  WHITE   \n",
       "\n",
       "     veil_type veil_color ring_number   ring_type spore_print_color  \\\n",
       "5321   PARTIAL      WHITE         ONE       LARGE         CHOCOLATE   \n",
       "6411   PARTIAL      WHITE         ONE  EVANESCENT             WHITE   \n",
       "1812   PARTIAL      WHITE         ONE  EVANESCENT             BLACK   \n",
       "7873   PARTIAL      WHITE        NONE        NONE             WHITE   \n",
       "2197   PARTIAL      WHITE         ONE     PENDANT             BLACK   \n",
       "...        ...        ...         ...         ...               ...   \n",
       "350    PARTIAL      WHITE         ONE     PENDANT             BROWN   \n",
       "79     PARTIAL      WHITE         ONE     PENDANT             BROWN   \n",
       "8039   PARTIAL      WHITE         TWO     PENDANT             WHITE   \n",
       "6936   PARTIAL      WHITE         ONE  EVANESCENT             WHITE   \n",
       "5640   PARTIAL      WHITE         ONE     PENDANT         CHOCOLATE   \n",
       "\n",
       "     population  habitat  \n",
       "5321   SOLITARY    PATHS  \n",
       "6411    SEVERAL    PATHS  \n",
       "1812  SCATTERED  GRASSES  \n",
       "7873  CLUSTERED    WOODS  \n",
       "2197    SEVERAL    WOODS  \n",
       "...         ...      ...  \n",
       "350    NUMEROUS  MEADOWS  \n",
       "79      SEVERAL    WOODS  \n",
       "8039   NUMEROUS  GRASSES  \n",
       "6936    SEVERAL    PATHS  \n",
       "5640  SCATTERED    URBAN  \n",
       "\n",
       "[7153 rows x 23 columns]"
      ]
     },
     "execution_count": 32,
     "metadata": {},
     "output_type": "execute_result"
    }
   ],
   "source": [
    "train"
   ]
  },
  {
   "cell_type": "code",
   "execution_count": 33,
   "metadata": {},
   "outputs": [
    {
     "name": "stdout",
     "output_type": "stream",
     "text": [
      "poisonous ~ cap_shape + cap_surface + cap_color + bruises + gill_attachment + gill_spacing + gill_size + stalk_color_above_ring\n",
      "Warning: Maximum number of iterations has been exceeded.\n",
      "         Current function value: 0.134357\n",
      "         Iterations: 35\n"
     ]
    },
    {
     "name": "stderr",
     "output_type": "stream",
     "text": [
      "/Users/josephprette/opt/anaconda3/lib/python3.9/site-packages/statsmodels/base/model.py:604: ConvergenceWarning: Maximum Likelihood optimization failed to converge. Check mle_retvals\n",
      "  warnings.warn(\"Maximum Likelihood optimization failed to \"\n"
     ]
    },
    {
     "data": {
      "text/html": [
       "<table class=\"simpletable\">\n",
       "<caption>Logit Regression Results</caption>\n",
       "<tr>\n",
       "  <th>Dep. Variable:</th>       <td>poisonous</td>    <th>  No. Observations:  </th>  <td>  7153</td> \n",
       "</tr>\n",
       "<tr>\n",
       "  <th>Model:</th>                 <td>Logit</td>      <th>  Df Residuals:      </th>  <td>  7123</td> \n",
       "</tr>\n",
       "<tr>\n",
       "  <th>Method:</th>                 <td>MLE</td>       <th>  Df Model:          </th>  <td>    29</td> \n",
       "</tr>\n",
       "<tr>\n",
       "  <th>Date:</th>            <td>Sun, 12 Mar 2023</td> <th>  Pseudo R-squ.:     </th>  <td>0.8055</td> \n",
       "</tr>\n",
       "<tr>\n",
       "  <th>Time:</th>                <td>17:01:27</td>     <th>  Log-Likelihood:    </th> <td> -961.06</td>\n",
       "</tr>\n",
       "<tr>\n",
       "  <th>converged:</th>             <td>False</td>      <th>  LL-Null:           </th> <td> -4941.2</td>\n",
       "</tr>\n",
       "<tr>\n",
       "  <th>Covariance Type:</th>     <td>nonrobust</td>    <th>  LLR p-value:       </th>  <td> 0.000</td> \n",
       "</tr>\n",
       "</table>\n",
       "<table class=\"simpletable\">\n",
       "<tr>\n",
       "                   <td></td>                     <th>coef</th>     <th>std err</th>      <th>z</th>      <th>P>|z|</th>  <th>[0.025</th>    <th>0.975]</th>  \n",
       "</tr>\n",
       "<tr>\n",
       "  <th>Intercept</th>                          <td>   -2.9838</td> <td> 5.23e+06</td> <td>-5.71e-07</td> <td> 1.000</td> <td>-1.02e+07</td> <td> 1.02e+07</td>\n",
       "</tr>\n",
       "<tr>\n",
       "  <th>cap_shape[T.CONICAL]</th>               <td>   28.5980</td> <td>  1.7e+05</td> <td>    0.000</td> <td> 1.000</td> <td>-3.32e+05</td> <td> 3.32e+05</td>\n",
       "</tr>\n",
       "<tr>\n",
       "  <th>cap_shape[T.CONVEX]</th>                <td>    1.2061</td> <td>    0.242</td> <td>    4.976</td> <td> 0.000</td> <td>    0.731</td> <td>    1.681</td>\n",
       "</tr>\n",
       "<tr>\n",
       "  <th>cap_shape[T.FLAT]</th>                  <td>    1.5940</td> <td>    0.251</td> <td>    6.350</td> <td> 0.000</td> <td>    1.102</td> <td>    2.086</td>\n",
       "</tr>\n",
       "<tr>\n",
       "  <th>cap_shape[T.KNOBBED]</th>               <td>    0.3657</td> <td>    0.409</td> <td>    0.895</td> <td> 0.371</td> <td>   -0.436</td> <td>    1.167</td>\n",
       "</tr>\n",
       "<tr>\n",
       "  <th>cap_shape[T.SUNKEN]</th>                <td>  -20.3935</td> <td>  950.638</td> <td>   -0.021</td> <td> 0.983</td> <td>-1883.610</td> <td> 1842.822</td>\n",
       "</tr>\n",
       "<tr>\n",
       "  <th>cap_surface[T.GROOVES]</th>             <td>   25.9307</td> <td> 1.74e+04</td> <td>    0.001</td> <td> 0.999</td> <td> -3.4e+04</td> <td> 3.41e+04</td>\n",
       "</tr>\n",
       "<tr>\n",
       "  <th>cap_surface[T.SCALY]</th>               <td>    1.2492</td> <td>    0.201</td> <td>    6.221</td> <td> 0.000</td> <td>    0.856</td> <td>    1.643</td>\n",
       "</tr>\n",
       "<tr>\n",
       "  <th>cap_surface[T.SMOOTH]</th>              <td>    3.6315</td> <td>    0.247</td> <td>   14.709</td> <td> 0.000</td> <td>    3.148</td> <td>    4.115</td>\n",
       "</tr>\n",
       "<tr>\n",
       "  <th>cap_color[T.BUFF]</th>                  <td>    5.9038</td> <td>    0.404</td> <td>   14.599</td> <td> 0.000</td> <td>    5.111</td> <td>    6.696</td>\n",
       "</tr>\n",
       "<tr>\n",
       "  <th>cap_color[T.CINNAMON]</th>              <td>  -11.2793</td> <td>  322.188</td> <td>   -0.035</td> <td> 0.972</td> <td> -642.757</td> <td>  620.198</td>\n",
       "</tr>\n",
       "<tr>\n",
       "  <th>cap_color[T.GRAY]</th>                  <td>    3.0607</td> <td>    0.300</td> <td>   10.206</td> <td> 0.000</td> <td>    2.473</td> <td>    3.649</td>\n",
       "</tr>\n",
       "<tr>\n",
       "  <th>cap_color[T.GREEN]</th>                 <td>  -24.2186</td> <td> 7175.505</td> <td>   -0.003</td> <td> 0.997</td> <td>-1.41e+04</td> <td>  1.4e+04</td>\n",
       "</tr>\n",
       "<tr>\n",
       "  <th>cap_color[T.PINK]</th>                  <td>    4.9986</td> <td>    0.394</td> <td>   12.698</td> <td> 0.000</td> <td>    4.227</td> <td>    5.770</td>\n",
       "</tr>\n",
       "<tr>\n",
       "  <th>cap_color[T.PURPLE]</th>                <td>  -48.3165</td> <td> 1.32e+09</td> <td>-3.67e-08</td> <td> 1.000</td> <td>-2.58e+09</td> <td> 2.58e+09</td>\n",
       "</tr>\n",
       "<tr>\n",
       "  <th>cap_color[T.RED]</th>                   <td>    0.5070</td> <td>    0.374</td> <td>    1.354</td> <td> 0.176</td> <td>   -0.227</td> <td>    1.241</td>\n",
       "</tr>\n",
       "<tr>\n",
       "  <th>cap_color[T.WHITE]</th>                 <td>    3.3804</td> <td>    0.299</td> <td>   11.288</td> <td> 0.000</td> <td>    2.793</td> <td>    3.967</td>\n",
       "</tr>\n",
       "<tr>\n",
       "  <th>cap_color[T.YELLOW]</th>                <td>    2.6737</td> <td>    0.302</td> <td>    8.854</td> <td> 0.000</td> <td>    2.082</td> <td>    3.266</td>\n",
       "</tr>\n",
       "<tr>\n",
       "  <th>bruises[T.NO]</th>                      <td>    3.6642</td> <td>    0.192</td> <td>   19.041</td> <td> 0.000</td> <td>    3.287</td> <td>    4.041</td>\n",
       "</tr>\n",
       "<tr>\n",
       "  <th>gill_attachment[T.FREE]</th>            <td>   -1.8739</td> <td> 5.23e+06</td> <td>-3.58e-07</td> <td> 1.000</td> <td>-1.02e+07</td> <td> 1.02e+07</td>\n",
       "</tr>\n",
       "<tr>\n",
       "  <th>gill_spacing[T.CROWDED]</th>            <td>   -6.5551</td> <td>    0.260</td> <td>  -25.257</td> <td> 0.000</td> <td>   -7.064</td> <td>   -6.046</td>\n",
       "</tr>\n",
       "<tr>\n",
       "  <th>gill_size[T.NARROW]</th>                <td>    5.8011</td> <td>    0.262</td> <td>   22.157</td> <td> 0.000</td> <td>    5.288</td> <td>    6.314</td>\n",
       "</tr>\n",
       "<tr>\n",
       "  <th>stalk_color_above_ring[T.BUFF]</th>     <td>   18.9084</td> <td> 3853.728</td> <td>    0.005</td> <td> 0.996</td> <td>-7534.260</td> <td> 7572.077</td>\n",
       "</tr>\n",
       "<tr>\n",
       "  <th>stalk_color_above_ring[T.CINNAMON]</th> <td>   40.3027</td> <td> 1.83e+06</td> <td>  2.2e-05</td> <td> 1.000</td> <td>-3.59e+06</td> <td> 3.59e+06</td>\n",
       "</tr>\n",
       "<tr>\n",
       "  <th>stalk_color_above_ring[T.GRAY]</th>     <td>  -22.3081</td> <td> 4213.556</td> <td>   -0.005</td> <td> 0.996</td> <td>-8280.726</td> <td> 8236.110</td>\n",
       "</tr>\n",
       "<tr>\n",
       "  <th>stalk_color_above_ring[T.ORANGE]</th>   <td>  -30.0583</td> <td> 5.23e+06</td> <td>-5.75e-06</td> <td> 1.000</td> <td>-1.02e+07</td> <td> 1.02e+07</td>\n",
       "</tr>\n",
       "<tr>\n",
       "  <th>stalk_color_above_ring[T.PINK]</th>     <td>   -1.5333</td> <td>    0.328</td> <td>   -4.679</td> <td> 0.000</td> <td>   -2.176</td> <td>   -0.891</td>\n",
       "</tr>\n",
       "<tr>\n",
       "  <th>stalk_color_above_ring[T.RED]</th>      <td>  -61.0719</td> <td>  2.3e+11</td> <td>-2.65e-10</td> <td> 1.000</td> <td>-4.51e+11</td> <td> 4.51e+11</td>\n",
       "</tr>\n",
       "<tr>\n",
       "  <th>stalk_color_above_ring[T.WHITE]</th>    <td>   -3.5346</td> <td>    0.372</td> <td>   -9.493</td> <td> 0.000</td> <td>   -4.264</td> <td>   -2.805</td>\n",
       "</tr>\n",
       "<tr>\n",
       "  <th>stalk_color_above_ring[T.YELLOW]</th>   <td>   22.1214</td> <td> 8.77e+04</td> <td>    0.000</td> <td> 1.000</td> <td>-1.72e+05</td> <td> 1.72e+05</td>\n",
       "</tr>\n",
       "</table><br/><br/>Possibly complete quasi-separation: A fraction 0.19 of observations can be<br/>perfectly predicted. This might indicate that there is complete<br/>quasi-separation. In this case some parameters will not be identified."
      ],
      "text/plain": [
       "<class 'statsmodels.iolib.summary.Summary'>\n",
       "\"\"\"\n",
       "                           Logit Regression Results                           \n",
       "==============================================================================\n",
       "Dep. Variable:              poisonous   No. Observations:                 7153\n",
       "Model:                          Logit   Df Residuals:                     7123\n",
       "Method:                           MLE   Df Model:                           29\n",
       "Date:                Sun, 12 Mar 2023   Pseudo R-squ.:                  0.8055\n",
       "Time:                        17:01:27   Log-Likelihood:                -961.06\n",
       "converged:                      False   LL-Null:                       -4941.2\n",
       "Covariance Type:            nonrobust   LLR p-value:                     0.000\n",
       "======================================================================================================\n",
       "                                         coef    std err          z      P>|z|      [0.025      0.975]\n",
       "------------------------------------------------------------------------------------------------------\n",
       "Intercept                             -2.9838   5.23e+06  -5.71e-07      1.000   -1.02e+07    1.02e+07\n",
       "cap_shape[T.CONICAL]                  28.5980    1.7e+05      0.000      1.000   -3.32e+05    3.32e+05\n",
       "cap_shape[T.CONVEX]                    1.2061      0.242      4.976      0.000       0.731       1.681\n",
       "cap_shape[T.FLAT]                      1.5940      0.251      6.350      0.000       1.102       2.086\n",
       "cap_shape[T.KNOBBED]                   0.3657      0.409      0.895      0.371      -0.436       1.167\n",
       "cap_shape[T.SUNKEN]                  -20.3935    950.638     -0.021      0.983   -1883.610    1842.822\n",
       "cap_surface[T.GROOVES]                25.9307   1.74e+04      0.001      0.999    -3.4e+04    3.41e+04\n",
       "cap_surface[T.SCALY]                   1.2492      0.201      6.221      0.000       0.856       1.643\n",
       "cap_surface[T.SMOOTH]                  3.6315      0.247     14.709      0.000       3.148       4.115\n",
       "cap_color[T.BUFF]                      5.9038      0.404     14.599      0.000       5.111       6.696\n",
       "cap_color[T.CINNAMON]                -11.2793    322.188     -0.035      0.972    -642.757     620.198\n",
       "cap_color[T.GRAY]                      3.0607      0.300     10.206      0.000       2.473       3.649\n",
       "cap_color[T.GREEN]                   -24.2186   7175.505     -0.003      0.997   -1.41e+04     1.4e+04\n",
       "cap_color[T.PINK]                      4.9986      0.394     12.698      0.000       4.227       5.770\n",
       "cap_color[T.PURPLE]                  -48.3165   1.32e+09  -3.67e-08      1.000   -2.58e+09    2.58e+09\n",
       "cap_color[T.RED]                       0.5070      0.374      1.354      0.176      -0.227       1.241\n",
       "cap_color[T.WHITE]                     3.3804      0.299     11.288      0.000       2.793       3.967\n",
       "cap_color[T.YELLOW]                    2.6737      0.302      8.854      0.000       2.082       3.266\n",
       "bruises[T.NO]                          3.6642      0.192     19.041      0.000       3.287       4.041\n",
       "gill_attachment[T.FREE]               -1.8739   5.23e+06  -3.58e-07      1.000   -1.02e+07    1.02e+07\n",
       "gill_spacing[T.CROWDED]               -6.5551      0.260    -25.257      0.000      -7.064      -6.046\n",
       "gill_size[T.NARROW]                    5.8011      0.262     22.157      0.000       5.288       6.314\n",
       "stalk_color_above_ring[T.BUFF]        18.9084   3853.728      0.005      0.996   -7534.260    7572.077\n",
       "stalk_color_above_ring[T.CINNAMON]    40.3027   1.83e+06    2.2e-05      1.000   -3.59e+06    3.59e+06\n",
       "stalk_color_above_ring[T.GRAY]       -22.3081   4213.556     -0.005      0.996   -8280.726    8236.110\n",
       "stalk_color_above_ring[T.ORANGE]     -30.0583   5.23e+06  -5.75e-06      1.000   -1.02e+07    1.02e+07\n",
       "stalk_color_above_ring[T.PINK]        -1.5333      0.328     -4.679      0.000      -2.176      -0.891\n",
       "stalk_color_above_ring[T.RED]        -61.0719    2.3e+11  -2.65e-10      1.000   -4.51e+11    4.51e+11\n",
       "stalk_color_above_ring[T.WHITE]       -3.5346      0.372     -9.493      0.000      -4.264      -2.805\n",
       "stalk_color_above_ring[T.YELLOW]      22.1214   8.77e+04      0.000      1.000   -1.72e+05    1.72e+05\n",
       "======================================================================================================\n",
       "\n",
       "Possibly complete quasi-separation: A fraction 0.19 of observations can be\n",
       "perfectly predicted. This might indicate that there is complete\n",
       "quasi-separation. In this case some parameters will not be identified.\n",
       "\"\"\""
      ]
     },
     "execution_count": 33,
     "metadata": {},
     "output_type": "execute_result"
    }
   ],
   "source": [
    "train_2 = train.copy()\n",
    "\n",
    "train_2['poisonous'] = train_2['poisonous'].astype(int)\n",
    "\n",
    "columns_to_use = ['cap_shape', 'cap_surface', 'cap_color', 'bruises',\n",
    "                  'gill_attachment', 'gill_spacing', 'gill_size', 'stalk_color_above_ring']\n",
    "\n",
    "formula = 'poisonous ~ ' + ' + '.join(columns_to_use)\n",
    "\n",
    "print(formula)\n",
    "\n",
    "# Train a linear regression model\n",
    "model_2 = smf.logit(formula=formula, data=train_2).fit()\n",
    "model_2.summary()"
   ]
  },
  {
   "cell_type": "code",
   "execution_count": 222,
   "metadata": {},
   "outputs": [
    {
     "name": "stderr",
     "output_type": "stream",
     "text": [
      "<ipython-input-222-6cbc57fb0873>:15: RuntimeWarning: invalid value encountered in scalar divide\n",
      "  percentage = p.get_height() / (p.get_height() + p.get_y())\n",
      "<ipython-input-222-6cbc57fb0873>:15: RuntimeWarning: invalid value encountered in scalar divide\n",
      "  percentage = p.get_height() / (p.get_height() + p.get_y())\n",
      "<ipython-input-222-6cbc57fb0873>:15: RuntimeWarning: invalid value encountered in scalar divide\n",
      "  percentage = p.get_height() / (p.get_height() + p.get_y())\n",
      "<ipython-input-222-6cbc57fb0873>:15: RuntimeWarning: invalid value encountered in scalar divide\n",
      "  percentage = p.get_height() / (p.get_height() + p.get_y())\n"
     ]
    },
    {
     "data": {
      "text/plain": [
       "<Figure size 432x288 with 0 Axes>"
      ]
     },
     "metadata": {},
     "output_type": "display_data"
    },
    {
     "data": {
      "image/png": "[encoded data removed]",
      "text/plain": [
       "<Figure size 432x288 with 1 Axes>"
      ]
     },
     "metadata": {
      "needs_background": "light"
     },
     "output_type": "display_data"
    },
    {
     "data": {
      "text/plain": [
       "<Figure size 432x288 with 0 Axes>"
      ]
     },
     "metadata": {},
     "output_type": "display_data"
    },
    {
     "data": {
      "image/png": "[encoded data removed]",
      "text/plain": [
       "<Figure size 432x288 with 1 Axes>"
      ]
     },
     "metadata": {
      "needs_background": "light"
     },
     "output_type": "display_data"
    },
    {
     "data": {
      "text/plain": [
       "<Figure size 432x288 with 0 Axes>"
      ]
     },
     "metadata": {},
     "output_type": "display_data"
    },
    {
     "data": {
      "image/png": "[encoded data removed]",
      "text/plain": [
       "<Figure size 432x288 with 1 Axes>"
      ]
     },
     "metadata": {
      "needs_background": "light"
     },
     "output_type": "display_data"
    },
    {
     "data": {
      "text/plain": [
       "<Figure size 432x288 with 0 Axes>"
      ]
     },
     "metadata": {},
     "output_type": "display_data"
    },
    {
     "data": {
      "image/png": "[encoded data removed]",
      "text/plain": [
       "<Figure size 432x288 with 1 Axes>"
      ]
     },
     "metadata": {
      "needs_background": "light"
     },
     "output_type": "display_data"
    },
    {
     "data": {
      "text/plain": [
       "<Figure size 432x288 with 0 Axes>"
      ]
     },
     "metadata": {},
     "output_type": "display_data"
    },
    {
     "data": {
      "image/png": "[encoded data removed]",
      "text/plain": [
       "<Figure size 432x288 with 1 Axes>"
      ]
     },
     "metadata": {
      "needs_background": "light"
     },
     "output_type": "display_data"
    },
    {
     "data": {
      "text/plain": [
       "<Figure size 432x288 with 0 Axes>"
      ]
     },
     "metadata": {},
     "output_type": "display_data"
    },
    {
     "data": {
      "image/png": "[encoded data removed]",
      "text/plain": [
       "<Figure size 432x288 with 1 Axes>"
      ]
     },
     "metadata": {
      "needs_background": "light"
     },
     "output_type": "display_data"
    },
    {
     "data": {
      "text/plain": [
       "<Figure size 432x288 with 0 Axes>"
      ]
     },
     "metadata": {},
     "output_type": "display_data"
    },
    {
     "data": {
      "image/png": "[encoded data removed]",
      "text/plain": [
       "<Figure size 432x288 with 1 Axes>"
      ]
     },
     "metadata": {
      "needs_background": "light"
     },
     "output_type": "display_data"
    },
    {
     "data": {
      "text/plain": [
       "<Figure size 432x288 with 0 Axes>"
      ]
     },
     "metadata": {},
     "output_type": "display_data"
    },
    {
     "data": {
      "image/png": "[encoded data removed]",
      "text/plain": [
       "<Figure size 432x288 with 1 Axes>"
      ]
     },
     "metadata": {
      "needs_background": "light"
     },
     "output_type": "display_data"
    }
   ],
   "source": [
    "# For each column used in the model, plot a bar graph of the fields and the proportions that are poisonous\n",
    "# Draw the percentage of poisonous mushrooms for each column in each bar\n",
    "for column in columns_to_use:\n",
    "    plt.figure()\n",
    "     # Draw the percentage of poisonous mushrooms for each column in each bar as a number floating on top of the bar\n",
    "    # main_df.groupby(col)['class'].value_counts().unstack().plot(kind='bar', stacked=True, ax=axs.flat[main_df.columns.get_loc(col)])\n",
    "\n",
    "    ax = train_2.groupby(column)['poisonous'].value_counts().unstack().plot(kind='bar', stacked=True)\n",
    "\n",
    "    # Rotate the x-axis labels\n",
    "    ax.set_xticklabels(ax.get_xticklabels(), rotation=0)\n",
    "\n",
    "    # Above each stacked bar, draw the percentage of poisonous mushrooms\n",
    "    for p in ax.patches:\n",
    "        percentage = p.get_height() / (p.get_height() + p.get_y())\n",
    "\n",
    "        # If percentage is nan, convert to 0 or 1 depending on the value of p.get_height()\n",
    "        if np.isnan(percentage):\n",
    "            if p.get_height() == 0:\n",
    "                percentage = 0\n",
    "            else:\n",
    "                percentage = 1\n",
    "\n",
    "        if percentage > 0.99:\n",
    "            continue\n",
    "\n",
    "        x = p.get_x() + p.get_width() / 2\n",
    "        y = p.get_y() + p.get_height() / 2\n",
    "        ax.annotate('{:.1%}'.format(percentage), (x, y), ha='center', va='center', size=12, xytext=(0, 5), textcoords='offset points')\n",
    "   \n",
    "    "
   ]
  },
  {
   "cell_type": "code",
   "execution_count": 189,
   "metadata": {},
   "outputs": [
    {
     "data": {
      "text/plain": [
       "Index(['poisonous', 'cap_shape', 'cap_surface', 'cap_color', 'bruises', 'odor',\n",
       "       'gill_attachment', 'gill_spacing', 'gill_size', 'gill_color',\n",
       "       'stalk_shape', 'stalk_root', 'stalk_surface_above_ring',\n",
       "       'stalk_surface_below_ring', 'stalk_color_above_ring',\n",
       "       'stalk_color_below_ring', 'veil_type', 'veil_color', 'ring_number',\n",
       "       'ring_type', 'spore_print_color', 'population', 'habitat'],\n",
       "      dtype='object')"
      ]
     },
     "execution_count": 189,
     "metadata": {},
     "output_type": "execute_result"
    }
   ],
   "source": [
    "full_data.columns"
   ]
  },
  {
   "cell_type": "code",
   "execution_count": 190,
   "metadata": {},
   "outputs": [
    {
     "name": "stdout",
     "output_type": "stream",
     "text": [
      "Classification accuracy = 96.7%\n",
      "Precision = 95.4%\n",
      "TPR or Recall = 97.7%\n",
      "FNR = 2.3%\n",
      "FPR = 4.2%\n",
      "ROC-AUC = 98.8%\n"
     ]
    },
    {
     "data": {
      "image/png": "[encoded data removed]",
      "text/plain": [
       "<Figure size 432x288 with 2 Axes>"
      ]
     },
     "metadata": {
      "needs_background": "light"
     },
     "output_type": "display_data"
    }
   ],
   "source": [
    "# Test the model on the test set\n",
    "test_2 = test.copy()\n",
    "test_2['poisonous'] = test_2['poisonous'].astype(int)\n",
    "\n",
    "confusion_matrix_data(test_2[columns_to_use], test_2['poisonous'], model_2, cutoff=0.4)"
   ]
  },
  {
   "cell_type": "code",
   "execution_count": 191,
   "metadata": {},
   "outputs": [],
   "source": [
    "def plot_precision_vs_threshold(precision, recall, thresholds):\n",
    "    plt.plot(thresholds, precision[:-1], \"b--\", label=\"Precision\")\n",
    "    plt.plot(thresholds, recall[:-1], \"g-\", label=\"Recall\")\n",
    "    plt.xlabel(\"Threshold\")\n",
    "    plt.legend(loc=\"upper left\")\n",
    "    plt.ylabel(\"Precision/Recall\")"
   ]
  },
  {
   "cell_type": "code",
   "execution_count": 192,
   "metadata": {},
   "outputs": [
    {
     "name": "stdout",
     "output_type": "stream",
     "text": [
      "When the threshold is 0.98047\n",
      "the precision is 0.96576\n",
      "the recall is 0.95677\n",
      "maximizing_threshold is 0.98047\n"
     ]
    },
    {
     "data": {
      "text/plain": [
       "<AxesSubplot:xlabel='Threshold', ylabel='Precision/Recall'>"
      ]
     },
     "execution_count": 192,
     "metadata": {},
     "output_type": "execute_result"
    },
    {
     "data": {
      "image/png": "[encoded data removed]",
      "text/plain": [
       "<Figure size 432x288 with 1 Axes>"
      ]
     },
     "metadata": {
      "needs_background": "light"
     },
     "output_type": "display_data"
    }
   ],
   "source": [
    "# Find the optimal cutoff\n",
    "y = train_2['poisonous']\n",
    "y_predict = model_2.predict(train_2)\n",
    "p, r, prc_thresholds = precision_recall_curve(train_2['poisonous'], model_2.predict(train_2))\n",
    "\n",
    "fpr, tpr, thresholds = roc_curve(y, y_predict)\n",
    "\n",
    "plot_precision_vs_threshold(p, r, prc_thresholds)\n",
    "\n",
    "maximizing_threshold = thresholds[np.argmax(p[:-1] * r[:-1])]\n",
    "\n",
    "print(f\"When the threshold is {round(maximizing_threshold, 5)}\")\n",
    "print(f\"the precision is {round(p[np.argmin(np.abs(thresholds - maximizing_threshold))], 5)}\")\n",
    "print(f\"the recall is {round(r[np.argmin(np.abs(thresholds - maximizing_threshold))], 5)}\")\n",
    "print(f\"maximizing_threshold is {round(maximizing_threshold, 5)}\")\n",
    "\n",
    "# Find the point in precision where threshold is closest to maximizing_threshold\n",
    "\n",
    "y0 = p[np.argmin(np.abs(thresholds - maximizing_threshold))]\n",
    "y1 = r[np.argmin(np.abs(thresholds - maximizing_threshold))]\n",
    "\n",
    "sns.scatterplot(x=[maximizing_threshold], y=[y0], color='red', s=100)\n",
    "sns.scatterplot(x=[maximizing_threshold], y=[y1], color='red', s=100)"
   ]
  },
  {
   "cell_type": "code",
   "execution_count": 194,
   "metadata": {},
   "outputs": [
    {
     "data": {
      "text/plain": [
       "174"
      ]
     },
     "execution_count": 194,
     "metadata": {},
     "output_type": "execute_result"
    }
   ],
   "source": [
    "p.size"
   ]
  },
  {
   "cell_type": "code",
   "execution_count": 195,
   "metadata": {},
   "outputs": [
    {
     "data": {
      "text/plain": [
       "174"
      ]
     },
     "execution_count": 195,
     "metadata": {},
     "output_type": "execute_result"
    }
   ],
   "source": [
    "r.size"
   ]
  },
  {
   "cell_type": "code",
   "execution_count": 196,
   "metadata": {},
   "outputs": [
    {
     "data": {
      "text/plain": [
       "236"
      ]
     },
     "execution_count": 196,
     "metadata": {},
     "output_type": "execute_result"
    }
   ],
   "source": [
    "fpr.size"
   ]
  },
  {
   "cell_type": "code",
   "execution_count": null,
   "metadata": {},
   "outputs": [],
   "source": []
  }
 ],
 "metadata": {
  "kernelspec": {
   "display_name": "Python 3 (ipykernel)",
   "language": "python",
   "name": "python3"
  },
  "language_info": {
   "codemirror_mode": {
    "name": "ipython",
    "version": 3
   },
   "file_extension": ".py",
   "mimetype": "text/x-python",
   "name": "python",
   "nbconvert_exporter": "python",
   "pygments_lexer": "ipython3",
   "version": "3.8.8"
  },
  "vscode": {
   "interpreter": {
    "hash": "47ea6657bc5d540db56e3fbbda68a7540d2052ff663c65ac9f44adddb4291163"
   }
  }
 },
 "nbformat": 4,
 "nbformat_minor": 2
}
