{
 "cells": [
  {
   "cell_type": "markdown",
   "id": "5ea7b4aa",
   "metadata": {},
   "source": [
    "# Mushroom Classification\n",
    "#### Team: Shake Shack \n",
    "#### Contributors: Jackson Bremen, Lucy Han, Joseph Prette, Chanel Sun"
   ]
  },
  {
   "cell_type": "markdown",
   "id": "fd1926fb",
   "metadata": {},
   "source": [
    "0. edibility: edible=e,poisonous=p\n",
    "1. cap-shape: bell=b,conical=c,convex=x,flat=f, knobbed=k,sunken=s\n",
    "2. cap-surface: fibrous=f,grooves=g,scaly=y,smooth=s\n",
    "3. cap-color: brown=n,buff=b,cinnamon=c,gray=g,green=r, pink=p,purple=u,red=e,white=w,yellow=y\n",
    "4. bruises?: bruises=t,no=f\n",
    "5. odor: almond=a,anise=l,creosote=c,fishy=y,foul=f, musty=m,none=n,pungent=p,spicy=s\n",
    "6. gill-attachment: attached=a,descending=d,free=f,notched=n\n",
    "7. gill-spacing: close=c,crowded=w,distant=d\n",
    "8. gill-size: broad=b,narrow=n\n",
    "9. gill-color: black=k,brown=n,buff=b,chocolate=h,gray=g, green=r,orange=o,pink=p,purple=u,red=e, white=w,yellow=y\n",
    "10. stalk-shape: enlarging=e,tapering=t\n",
    "11. stalk-root: bulbous=b,club=c,cup=u,equal=e, rhizomorphs=z,rooted=r,missing=?\n",
    "12. stalk-surface-above-ring: fibrous=f,scaly=y,silky=k,smooth=s\n",
    "13. stalk-surface-below-ring: fibrous=f,scaly=y,silky=k,smooth=s\n",
    "14. stalk-color-above-ring: brown=n,buff=b,cinnamon=c,gray=g,orange=o, pink=p,red=e,white=w,yellow=y\n",
    "15. stalk-color-below-ring: brown=n,buff=b,cinnamon=c,gray=g,orange=o, pink=p,red=e,white=w,yellow=y\n",
    "16. veil-type: partial=p,universal=u\n",
    "17. veil-color: brown=n,orange=o,white=w,yellow=y\n",
    "18. ring-number: none=n,one=o,two=t\n",
    "19. ring-type: cobwebby=c,evanescent=e,flaring=f,large=l, none=n,pendant=p,sheathing=s,zone=z\n",
    "20. spore-print-color: black=k,brown=n,buff=b,chocolate=h,green=r, orange=o,purple=u,white=w,yellow=y\n",
    "21. population: abundant=a,clustered=c,numerous=n, scattered=s,several=v,solitary=y\n",
    "22. habitat: grasses=g,leaves=l,meadows=m,paths=p, urban=u,waste=w,woods=d"
   ]
  },
  {
   "cell_type": "markdown",
   "id": "0e8f539c",
   "metadata": {},
   "source": [
    "## Load Data"
   ]
  },
  {
   "cell_type": "code",
   "execution_count": 1,
   "id": "ec41a203",
   "metadata": {},
   "outputs": [],
   "source": [
    "import pandas as pd\n",
    "import numpy as np\n",
    "import seaborn as sns\n",
    "import matplotlib.pyplot as plt\n",
    "import statsmodels.formula.api as sm\n",
    "from sklearn.metrics import precision_recall_curve\n",
    "from sklearn.metrics import roc_curve, auc"
   ]
  },
  {
   "cell_type": "code",
   "execution_count": 2,
   "id": "12a795b0",
   "metadata": {},
   "outputs": [
    {
     "data": {
      "text/html": [
       "<div>\n",
       "<style scoped>\n",
       "    .dataframe tbody tr th:only-of-type {\n",
       "        vertical-align: middle;\n",
       "    }\n",
       "\n",
       "    .dataframe tbody tr th {\n",
       "        vertical-align: top;\n",
       "    }\n",
       "\n",
       "    .dataframe thead th {\n",
       "        text-align: right;\n",
       "    }\n",
       "</style>\n",
       "<table border=\"1\" class=\"dataframe\">\n",
       "  <thead>\n",
       "    <tr style=\"text-align: right;\">\n",
       "      <th></th>\n",
       "      <th>0</th>\n",
       "      <th>1</th>\n",
       "      <th>2</th>\n",
       "      <th>3</th>\n",
       "      <th>4</th>\n",
       "      <th>5</th>\n",
       "      <th>6</th>\n",
       "      <th>7</th>\n",
       "      <th>8</th>\n",
       "      <th>9</th>\n",
       "      <th>...</th>\n",
       "      <th>13</th>\n",
       "      <th>14</th>\n",
       "      <th>15</th>\n",
       "      <th>16</th>\n",
       "      <th>17</th>\n",
       "      <th>18</th>\n",
       "      <th>19</th>\n",
       "      <th>20</th>\n",
       "      <th>21</th>\n",
       "      <th>22</th>\n",
       "    </tr>\n",
       "  </thead>\n",
       "  <tbody>\n",
       "    <tr>\n",
       "      <th>0</th>\n",
       "      <td>EDIBLE</td>\n",
       "      <td>CONVEX</td>\n",
       "      <td>SMOOTH</td>\n",
       "      <td>WHITE</td>\n",
       "      <td>BRUISES</td>\n",
       "      <td>ALMOND</td>\n",
       "      <td>FREE</td>\n",
       "      <td>CROWDED</td>\n",
       "      <td>NARROW</td>\n",
       "      <td>WHITE</td>\n",
       "      <td>...</td>\n",
       "      <td>SMOOTH</td>\n",
       "      <td>WHITE</td>\n",
       "      <td>WHITE</td>\n",
       "      <td>PARTIAL</td>\n",
       "      <td>WHITE</td>\n",
       "      <td>ONE</td>\n",
       "      <td>PENDANT</td>\n",
       "      <td>PURPLE</td>\n",
       "      <td>SEVERAL</td>\n",
       "      <td>WOODS</td>\n",
       "    </tr>\n",
       "    <tr>\n",
       "      <th>1</th>\n",
       "      <td>EDIBLE</td>\n",
       "      <td>CONVEX</td>\n",
       "      <td>SMOOTH</td>\n",
       "      <td>WHITE</td>\n",
       "      <td>BRUISES</td>\n",
       "      <td>ALMOND</td>\n",
       "      <td>FREE</td>\n",
       "      <td>CROWDED</td>\n",
       "      <td>NARROW</td>\n",
       "      <td>WHITE</td>\n",
       "      <td>...</td>\n",
       "      <td>SMOOTH</td>\n",
       "      <td>WHITE</td>\n",
       "      <td>WHITE</td>\n",
       "      <td>PARTIAL</td>\n",
       "      <td>WHITE</td>\n",
       "      <td>ONE</td>\n",
       "      <td>PENDANT</td>\n",
       "      <td>BROWN</td>\n",
       "      <td>SEVERAL</td>\n",
       "      <td>WOODS</td>\n",
       "    </tr>\n",
       "    <tr>\n",
       "      <th>2</th>\n",
       "      <td>EDIBLE</td>\n",
       "      <td>CONVEX</td>\n",
       "      <td>SMOOTH</td>\n",
       "      <td>WHITE</td>\n",
       "      <td>BRUISES</td>\n",
       "      <td>ALMOND</td>\n",
       "      <td>FREE</td>\n",
       "      <td>CROWDED</td>\n",
       "      <td>NARROW</td>\n",
       "      <td>PINK</td>\n",
       "      <td>...</td>\n",
       "      <td>SMOOTH</td>\n",
       "      <td>WHITE</td>\n",
       "      <td>WHITE</td>\n",
       "      <td>PARTIAL</td>\n",
       "      <td>WHITE</td>\n",
       "      <td>ONE</td>\n",
       "      <td>PENDANT</td>\n",
       "      <td>PURPLE</td>\n",
       "      <td>SEVERAL</td>\n",
       "      <td>WOODS</td>\n",
       "    </tr>\n",
       "    <tr>\n",
       "      <th>3</th>\n",
       "      <td>EDIBLE</td>\n",
       "      <td>CONVEX</td>\n",
       "      <td>SMOOTH</td>\n",
       "      <td>WHITE</td>\n",
       "      <td>BRUISES</td>\n",
       "      <td>ALMOND</td>\n",
       "      <td>FREE</td>\n",
       "      <td>CROWDED</td>\n",
       "      <td>NARROW</td>\n",
       "      <td>PINK</td>\n",
       "      <td>...</td>\n",
       "      <td>SMOOTH</td>\n",
       "      <td>WHITE</td>\n",
       "      <td>WHITE</td>\n",
       "      <td>PARTIAL</td>\n",
       "      <td>WHITE</td>\n",
       "      <td>ONE</td>\n",
       "      <td>PENDANT</td>\n",
       "      <td>BROWN</td>\n",
       "      <td>SEVERAL</td>\n",
       "      <td>WOODS</td>\n",
       "    </tr>\n",
       "    <tr>\n",
       "      <th>4</th>\n",
       "      <td>EDIBLE</td>\n",
       "      <td>CONVEX</td>\n",
       "      <td>SMOOTH</td>\n",
       "      <td>WHITE</td>\n",
       "      <td>BRUISES</td>\n",
       "      <td>ALMOND</td>\n",
       "      <td>FREE</td>\n",
       "      <td>CROWDED</td>\n",
       "      <td>NARROW</td>\n",
       "      <td>BROWN</td>\n",
       "      <td>...</td>\n",
       "      <td>SMOOTH</td>\n",
       "      <td>WHITE</td>\n",
       "      <td>WHITE</td>\n",
       "      <td>PARTIAL</td>\n",
       "      <td>WHITE</td>\n",
       "      <td>ONE</td>\n",
       "      <td>PENDANT</td>\n",
       "      <td>PURPLE</td>\n",
       "      <td>SEVERAL</td>\n",
       "      <td>WOODS</td>\n",
       "    </tr>\n",
       "  </tbody>\n",
       "</table>\n",
       "<p>5 rows × 23 columns</p>\n",
       "</div>"
      ],
      "text/plain": [
       "       0       1       2      3        4       5     6        7       8   \\\n",
       "0  EDIBLE  CONVEX  SMOOTH  WHITE  BRUISES  ALMOND  FREE  CROWDED  NARROW   \n",
       "1  EDIBLE  CONVEX  SMOOTH  WHITE  BRUISES  ALMOND  FREE  CROWDED  NARROW   \n",
       "2  EDIBLE  CONVEX  SMOOTH  WHITE  BRUISES  ALMOND  FREE  CROWDED  NARROW   \n",
       "3  EDIBLE  CONVEX  SMOOTH  WHITE  BRUISES  ALMOND  FREE  CROWDED  NARROW   \n",
       "4  EDIBLE  CONVEX  SMOOTH  WHITE  BRUISES  ALMOND  FREE  CROWDED  NARROW   \n",
       "\n",
       "      9   ...      13     14     15       16     17   18       19      20  \\\n",
       "0  WHITE  ...  SMOOTH  WHITE  WHITE  PARTIAL  WHITE  ONE  PENDANT  PURPLE   \n",
       "1  WHITE  ...  SMOOTH  WHITE  WHITE  PARTIAL  WHITE  ONE  PENDANT   BROWN   \n",
       "2   PINK  ...  SMOOTH  WHITE  WHITE  PARTIAL  WHITE  ONE  PENDANT  PURPLE   \n",
       "3   PINK  ...  SMOOTH  WHITE  WHITE  PARTIAL  WHITE  ONE  PENDANT   BROWN   \n",
       "4  BROWN  ...  SMOOTH  WHITE  WHITE  PARTIAL  WHITE  ONE  PENDANT  PURPLE   \n",
       "\n",
       "        21     22  \n",
       "0  SEVERAL  WOODS  \n",
       "1  SEVERAL  WOODS  \n",
       "2  SEVERAL  WOODS  \n",
       "3  SEVERAL  WOODS  \n",
       "4  SEVERAL  WOODS  \n",
       "\n",
       "[5 rows x 23 columns]"
      ]
     },
     "execution_count": 2,
     "metadata": {},
     "output_type": "execute_result"
    }
   ],
   "source": [
    "train = pd.read_csv('./Data/expanded', delimiter='\\t', header=None, names=['characteristics'])\n",
    "train = train['characteristics'].str.split(',', expand=True)\n",
    "train = train.drop(range(7)).reset_index(drop=True)\n",
    "train.head()"
   ]
  },
  {
   "cell_type": "code",
   "execution_count": 3,
   "id": "494c7da9",
   "metadata": {},
   "outputs": [
    {
     "data": {
      "text/html": [
       "<div>\n",
       "<style scoped>\n",
       "    .dataframe tbody tr th:only-of-type {\n",
       "        vertical-align: middle;\n",
       "    }\n",
       "\n",
       "    .dataframe tbody tr th {\n",
       "        vertical-align: top;\n",
       "    }\n",
       "\n",
       "    .dataframe thead th {\n",
       "        text-align: right;\n",
       "    }\n",
       "</style>\n",
       "<table border=\"1\" class=\"dataframe\">\n",
       "  <thead>\n",
       "    <tr style=\"text-align: right;\">\n",
       "      <th></th>\n",
       "      <th>edibility</th>\n",
       "      <th>cap_shape</th>\n",
       "      <th>cap_surface</th>\n",
       "      <th>cap_color</th>\n",
       "      <th>bruises</th>\n",
       "      <th>odor</th>\n",
       "      <th>gill_attachment</th>\n",
       "      <th>gill_spacing</th>\n",
       "      <th>gill_size</th>\n",
       "      <th>gill_color</th>\n",
       "      <th>...</th>\n",
       "      <th>stalk_surface_below_ring</th>\n",
       "      <th>stalk_color_above_ring</th>\n",
       "      <th>stalk_color_below_ring</th>\n",
       "      <th>veil_type</th>\n",
       "      <th>veil_color</th>\n",
       "      <th>ring_number</th>\n",
       "      <th>ring_type</th>\n",
       "      <th>spore_print_color</th>\n",
       "      <th>population</th>\n",
       "      <th>habitat</th>\n",
       "    </tr>\n",
       "  </thead>\n",
       "  <tbody>\n",
       "    <tr>\n",
       "      <th>0</th>\n",
       "      <td>EDIBLE</td>\n",
       "      <td>CONVEX</td>\n",
       "      <td>SMOOTH</td>\n",
       "      <td>WHITE</td>\n",
       "      <td>BRUISES</td>\n",
       "      <td>ALMOND</td>\n",
       "      <td>FREE</td>\n",
       "      <td>CROWDED</td>\n",
       "      <td>NARROW</td>\n",
       "      <td>WHITE</td>\n",
       "      <td>...</td>\n",
       "      <td>SMOOTH</td>\n",
       "      <td>WHITE</td>\n",
       "      <td>WHITE</td>\n",
       "      <td>PARTIAL</td>\n",
       "      <td>WHITE</td>\n",
       "      <td>ONE</td>\n",
       "      <td>PENDANT</td>\n",
       "      <td>PURPLE</td>\n",
       "      <td>SEVERAL</td>\n",
       "      <td>WOODS</td>\n",
       "    </tr>\n",
       "    <tr>\n",
       "      <th>1</th>\n",
       "      <td>EDIBLE</td>\n",
       "      <td>CONVEX</td>\n",
       "      <td>SMOOTH</td>\n",
       "      <td>WHITE</td>\n",
       "      <td>BRUISES</td>\n",
       "      <td>ALMOND</td>\n",
       "      <td>FREE</td>\n",
       "      <td>CROWDED</td>\n",
       "      <td>NARROW</td>\n",
       "      <td>WHITE</td>\n",
       "      <td>...</td>\n",
       "      <td>SMOOTH</td>\n",
       "      <td>WHITE</td>\n",
       "      <td>WHITE</td>\n",
       "      <td>PARTIAL</td>\n",
       "      <td>WHITE</td>\n",
       "      <td>ONE</td>\n",
       "      <td>PENDANT</td>\n",
       "      <td>BROWN</td>\n",
       "      <td>SEVERAL</td>\n",
       "      <td>WOODS</td>\n",
       "    </tr>\n",
       "    <tr>\n",
       "      <th>2</th>\n",
       "      <td>EDIBLE</td>\n",
       "      <td>CONVEX</td>\n",
       "      <td>SMOOTH</td>\n",
       "      <td>WHITE</td>\n",
       "      <td>BRUISES</td>\n",
       "      <td>ALMOND</td>\n",
       "      <td>FREE</td>\n",
       "      <td>CROWDED</td>\n",
       "      <td>NARROW</td>\n",
       "      <td>PINK</td>\n",
       "      <td>...</td>\n",
       "      <td>SMOOTH</td>\n",
       "      <td>WHITE</td>\n",
       "      <td>WHITE</td>\n",
       "      <td>PARTIAL</td>\n",
       "      <td>WHITE</td>\n",
       "      <td>ONE</td>\n",
       "      <td>PENDANT</td>\n",
       "      <td>PURPLE</td>\n",
       "      <td>SEVERAL</td>\n",
       "      <td>WOODS</td>\n",
       "    </tr>\n",
       "    <tr>\n",
       "      <th>3</th>\n",
       "      <td>EDIBLE</td>\n",
       "      <td>CONVEX</td>\n",
       "      <td>SMOOTH</td>\n",
       "      <td>WHITE</td>\n",
       "      <td>BRUISES</td>\n",
       "      <td>ALMOND</td>\n",
       "      <td>FREE</td>\n",
       "      <td>CROWDED</td>\n",
       "      <td>NARROW</td>\n",
       "      <td>PINK</td>\n",
       "      <td>...</td>\n",
       "      <td>SMOOTH</td>\n",
       "      <td>WHITE</td>\n",
       "      <td>WHITE</td>\n",
       "      <td>PARTIAL</td>\n",
       "      <td>WHITE</td>\n",
       "      <td>ONE</td>\n",
       "      <td>PENDANT</td>\n",
       "      <td>BROWN</td>\n",
       "      <td>SEVERAL</td>\n",
       "      <td>WOODS</td>\n",
       "    </tr>\n",
       "    <tr>\n",
       "      <th>4</th>\n",
       "      <td>EDIBLE</td>\n",
       "      <td>CONVEX</td>\n",
       "      <td>SMOOTH</td>\n",
       "      <td>WHITE</td>\n",
       "      <td>BRUISES</td>\n",
       "      <td>ALMOND</td>\n",
       "      <td>FREE</td>\n",
       "      <td>CROWDED</td>\n",
       "      <td>NARROW</td>\n",
       "      <td>BROWN</td>\n",
       "      <td>...</td>\n",
       "      <td>SMOOTH</td>\n",
       "      <td>WHITE</td>\n",
       "      <td>WHITE</td>\n",
       "      <td>PARTIAL</td>\n",
       "      <td>WHITE</td>\n",
       "      <td>ONE</td>\n",
       "      <td>PENDANT</td>\n",
       "      <td>PURPLE</td>\n",
       "      <td>SEVERAL</td>\n",
       "      <td>WOODS</td>\n",
       "    </tr>\n",
       "  </tbody>\n",
       "</table>\n",
       "<p>5 rows × 23 columns</p>\n",
       "</div>"
      ],
      "text/plain": [
       "  edibility cap_shape cap_surface cap_color  bruises    odor gill_attachment  \\\n",
       "0    EDIBLE    CONVEX      SMOOTH     WHITE  BRUISES  ALMOND            FREE   \n",
       "1    EDIBLE    CONVEX      SMOOTH     WHITE  BRUISES  ALMOND            FREE   \n",
       "2    EDIBLE    CONVEX      SMOOTH     WHITE  BRUISES  ALMOND            FREE   \n",
       "3    EDIBLE    CONVEX      SMOOTH     WHITE  BRUISES  ALMOND            FREE   \n",
       "4    EDIBLE    CONVEX      SMOOTH     WHITE  BRUISES  ALMOND            FREE   \n",
       "\n",
       "  gill_spacing gill_size gill_color  ... stalk_surface_below_ring  \\\n",
       "0      CROWDED    NARROW      WHITE  ...                   SMOOTH   \n",
       "1      CROWDED    NARROW      WHITE  ...                   SMOOTH   \n",
       "2      CROWDED    NARROW       PINK  ...                   SMOOTH   \n",
       "3      CROWDED    NARROW       PINK  ...                   SMOOTH   \n",
       "4      CROWDED    NARROW      BROWN  ...                   SMOOTH   \n",
       "\n",
       "  stalk_color_above_ring stalk_color_below_ring veil_type veil_color  \\\n",
       "0                  WHITE                  WHITE   PARTIAL      WHITE   \n",
       "1                  WHITE                  WHITE   PARTIAL      WHITE   \n",
       "2                  WHITE                  WHITE   PARTIAL      WHITE   \n",
       "3                  WHITE                  WHITE   PARTIAL      WHITE   \n",
       "4                  WHITE                  WHITE   PARTIAL      WHITE   \n",
       "\n",
       "  ring_number ring_type spore_print_color population habitat  \n",
       "0         ONE   PENDANT            PURPLE    SEVERAL   WOODS  \n",
       "1         ONE   PENDANT             BROWN    SEVERAL   WOODS  \n",
       "2         ONE   PENDANT            PURPLE    SEVERAL   WOODS  \n",
       "3         ONE   PENDANT             BROWN    SEVERAL   WOODS  \n",
       "4         ONE   PENDANT            PURPLE    SEVERAL   WOODS  \n",
       "\n",
       "[5 rows x 23 columns]"
      ]
     },
     "execution_count": 3,
     "metadata": {},
     "output_type": "execute_result"
    }
   ],
   "source": [
    "# implement descriptive column names\n",
    "column_names = ['edibility','cap_shape', 'cap_surface', 'cap_color', 'bruises', \n",
    "                'odor', 'gill_attachment', 'gill_spacing', 'gill_size', 'gill_color', \n",
    "                'stalk_shape', 'stalk_root', 'stalk_surface_above_ring', 'stalk_surface_below_ring', \n",
    "                'stalk_color_above_ring', 'stalk_color_below_ring', 'veil_type', 'veil_color', \n",
    "                'ring_number', 'ring_type', 'spore_print_color', 'population','habitat']\n",
    "train.columns = column_names\n",
    "train.head()"
   ]
  },
  {
   "cell_type": "markdown",
   "id": "f02308dc",
   "metadata": {},
   "source": [
    "## Data Exploration"
   ]
  },
  {
   "cell_type": "code",
   "execution_count": 4,
   "id": "98ac1aa7",
   "metadata": {},
   "outputs": [
    {
     "name": "stdout",
     "output_type": "stream",
     "text": [
      "The dataset has 8417 entries, with 23 characteristics\n"
     ]
    }
   ],
   "source": [
    "# get dimensions of the data set\n",
    "original_shape = train.shape\n",
    "print('The dataset has {} entries, with {} characteristics'.format(original_shape[0], original_shape[1]))"
   ]
  },
  {
   "cell_type": "code",
   "execution_count": 5,
   "id": "be717623",
   "metadata": {
    "scrolled": true
   },
   "outputs": [
    {
     "data": {
      "text/html": [
       "<div>\n",
       "<style scoped>\n",
       "    .dataframe tbody tr th:only-of-type {\n",
       "        vertical-align: middle;\n",
       "    }\n",
       "\n",
       "    .dataframe tbody tr th {\n",
       "        vertical-align: top;\n",
       "    }\n",
       "\n",
       "    .dataframe thead th {\n",
       "        text-align: right;\n",
       "    }\n",
       "</style>\n",
       "<table border=\"1\" class=\"dataframe\">\n",
       "  <thead>\n",
       "    <tr style=\"text-align: right;\">\n",
       "      <th></th>\n",
       "      <th>edibility</th>\n",
       "      <th>cap_shape</th>\n",
       "      <th>cap_surface</th>\n",
       "      <th>cap_color</th>\n",
       "      <th>bruises</th>\n",
       "      <th>odor</th>\n",
       "      <th>gill_attachment</th>\n",
       "      <th>gill_spacing</th>\n",
       "      <th>gill_size</th>\n",
       "      <th>gill_color</th>\n",
       "      <th>stalk_shape</th>\n",
       "      <th>stalk_root</th>\n",
       "      <th>stalk_surface_above_ring</th>\n",
       "      <th>stalk_surface_below_ring</th>\n",
       "      <th>stalk_color_above_ring</th>\n",
       "      <th>stalk_color_below_ring</th>\n",
       "      <th>veil_type</th>\n",
       "      <th>veil_color</th>\n",
       "      <th>ring_number</th>\n",
       "      <th>ring_type</th>\n",
       "      <th>spore_print_color</th>\n",
       "      <th>population</th>\n",
       "      <th>habitat</th>\n",
       "    </tr>\n",
       "  </thead>\n",
       "  <tbody>\n",
       "    <tr>\n",
       "      <th>count</th>\n",
       "      <td>8417</td>\n",
       "      <td>8416</td>\n",
       "      <td>8416</td>\n",
       "      <td>8416</td>\n",
       "      <td>8416</td>\n",
       "      <td>8416</td>\n",
       "      <td>8416</td>\n",
       "      <td>8416</td>\n",
       "      <td>8416</td>\n",
       "      <td>8416</td>\n",
       "      <td>8416</td>\n",
       "      <td>8416</td>\n",
       "      <td>8416</td>\n",
       "      <td>8416</td>\n",
       "      <td>8416</td>\n",
       "      <td>8416</td>\n",
       "      <td>8416</td>\n",
       "      <td>8416</td>\n",
       "      <td>8416</td>\n",
       "      <td>8416</td>\n",
       "      <td>8416</td>\n",
       "      <td>8416</td>\n",
       "      <td>8416</td>\n",
       "    </tr>\n",
       "    <tr>\n",
       "      <th>unique</th>\n",
       "      <td>3</td>\n",
       "      <td>6</td>\n",
       "      <td>4</td>\n",
       "      <td>10</td>\n",
       "      <td>2</td>\n",
       "      <td>9</td>\n",
       "      <td>2</td>\n",
       "      <td>2</td>\n",
       "      <td>2</td>\n",
       "      <td>12</td>\n",
       "      <td>2</td>\n",
       "      <td>5</td>\n",
       "      <td>4</td>\n",
       "      <td>4</td>\n",
       "      <td>9</td>\n",
       "      <td>9</td>\n",
       "      <td>1</td>\n",
       "      <td>4</td>\n",
       "      <td>3</td>\n",
       "      <td>5</td>\n",
       "      <td>9</td>\n",
       "      <td>6</td>\n",
       "      <td>7</td>\n",
       "    </tr>\n",
       "    <tr>\n",
       "      <th>top</th>\n",
       "      <td>EDIBLE</td>\n",
       "      <td>CONVEX</td>\n",
       "      <td>SCALY</td>\n",
       "      <td>BROWN</td>\n",
       "      <td>NO</td>\n",
       "      <td>NONE</td>\n",
       "      <td>FREE</td>\n",
       "      <td>CLOSE</td>\n",
       "      <td>BROAD</td>\n",
       "      <td>BUFF</td>\n",
       "      <td>TAPERING</td>\n",
       "      <td>BULBOUS</td>\n",
       "      <td>SMOOTH</td>\n",
       "      <td>SMOOTH</td>\n",
       "      <td>WHITE</td>\n",
       "      <td>WHITE</td>\n",
       "      <td>PARTIAL</td>\n",
       "      <td>WHITE</td>\n",
       "      <td>ONE</td>\n",
       "      <td>PENDANT</td>\n",
       "      <td>WHITE</td>\n",
       "      <td>SEVERAL</td>\n",
       "      <td>WOODS</td>\n",
       "    </tr>\n",
       "    <tr>\n",
       "      <th>freq</th>\n",
       "      <td>4488</td>\n",
       "      <td>3796</td>\n",
       "      <td>3268</td>\n",
       "      <td>2320</td>\n",
       "      <td>5040</td>\n",
       "      <td>3808</td>\n",
       "      <td>8200</td>\n",
       "      <td>6824</td>\n",
       "      <td>5880</td>\n",
       "      <td>1728</td>\n",
       "      <td>4864</td>\n",
       "      <td>3800</td>\n",
       "      <td>5316</td>\n",
       "      <td>5076</td>\n",
       "      <td>4744</td>\n",
       "      <td>4640</td>\n",
       "      <td>8416</td>\n",
       "      <td>8216</td>\n",
       "      <td>7768</td>\n",
       "      <td>3968</td>\n",
       "      <td>2424</td>\n",
       "      <td>4064</td>\n",
       "      <td>3160</td>\n",
       "    </tr>\n",
       "  </tbody>\n",
       "</table>\n",
       "</div>"
      ],
      "text/plain": [
       "       edibility cap_shape cap_surface cap_color bruises  odor  \\\n",
       "count       8417      8416        8416      8416    8416  8416   \n",
       "unique         3         6           4        10       2     9   \n",
       "top       EDIBLE    CONVEX       SCALY     BROWN      NO  NONE   \n",
       "freq        4488      3796        3268      2320    5040  3808   \n",
       "\n",
       "       gill_attachment gill_spacing gill_size gill_color stalk_shape  \\\n",
       "count             8416         8416      8416       8416        8416   \n",
       "unique               2            2         2         12           2   \n",
       "top               FREE        CLOSE     BROAD       BUFF    TAPERING   \n",
       "freq              8200         6824      5880       1728        4864   \n",
       "\n",
       "       stalk_root stalk_surface_above_ring stalk_surface_below_ring  \\\n",
       "count        8416                     8416                     8416   \n",
       "unique          5                        4                        4   \n",
       "top       BULBOUS                   SMOOTH                   SMOOTH   \n",
       "freq         3800                     5316                     5076   \n",
       "\n",
       "       stalk_color_above_ring stalk_color_below_ring veil_type veil_color  \\\n",
       "count                    8416                   8416      8416       8416   \n",
       "unique                      9                      9         1          4   \n",
       "top                     WHITE                  WHITE   PARTIAL      WHITE   \n",
       "freq                     4744                   4640      8416       8216   \n",
       "\n",
       "       ring_number ring_type spore_print_color population habitat  \n",
       "count         8416      8416              8416       8416    8416  \n",
       "unique           3         5                 9          6       7  \n",
       "top            ONE   PENDANT             WHITE    SEVERAL   WOODS  \n",
       "freq          7768      3968              2424       4064    3160  "
      ]
     },
     "execution_count": 5,
     "metadata": {},
     "output_type": "execute_result"
    }
   ],
   "source": [
    "# set the data to show all columns when displaying\n",
    "pd.set_option('display.max_columns', None)\n",
    "train.describe()"
   ]
  },
  {
   "cell_type": "code",
   "execution_count": 6,
   "id": "023bf960",
   "metadata": {
    "scrolled": true
   },
   "outputs": [
    {
     "data": {
      "text/plain": [
       "edibility                   0\n",
       "cap_shape                   1\n",
       "cap_surface                 1\n",
       "cap_color                   1\n",
       "bruises                     1\n",
       "odor                        1\n",
       "gill_attachment             1\n",
       "gill_spacing                1\n",
       "gill_size                   1\n",
       "gill_color                  1\n",
       "stalk_shape                 1\n",
       "stalk_root                  1\n",
       "stalk_surface_above_ring    1\n",
       "stalk_surface_below_ring    1\n",
       "stalk_color_above_ring      1\n",
       "stalk_color_below_ring      1\n",
       "veil_type                   1\n",
       "veil_color                  1\n",
       "ring_number                 1\n",
       "ring_type                   1\n",
       "spore_print_color           1\n",
       "population                  1\n",
       "habitat                     1\n",
       "dtype: int64"
      ]
     },
     "execution_count": 6,
     "metadata": {},
     "output_type": "execute_result"
    }
   ],
   "source": [
    "# find how many values are NA or None\n",
    "train.isna().sum()"
   ]
  },
  {
   "cell_type": "markdown",
   "id": "65fb670b",
   "metadata": {},
   "source": [
    "<b><i>From this, we can see there is just one NA or None value for each column. This leads me to suspect that there is one row that is not correct, but we will look for all locations where a row is missing values.</i></b>"
   ]
  },
  {
   "cell_type": "code",
   "execution_count": 7,
   "id": "47834e23",
   "metadata": {
    "scrolled": true
   },
   "outputs": [
    {
     "data": {
      "text/html": [
       "<div>\n",
       "<style scoped>\n",
       "    .dataframe tbody tr th:only-of-type {\n",
       "        vertical-align: middle;\n",
       "    }\n",
       "\n",
       "    .dataframe tbody tr th {\n",
       "        vertical-align: top;\n",
       "    }\n",
       "\n",
       "    .dataframe thead th {\n",
       "        text-align: right;\n",
       "    }\n",
       "</style>\n",
       "<table border=\"1\" class=\"dataframe\">\n",
       "  <thead>\n",
       "    <tr style=\"text-align: right;\">\n",
       "      <th></th>\n",
       "      <th>edibility</th>\n",
       "      <th>cap_shape</th>\n",
       "      <th>cap_surface</th>\n",
       "      <th>cap_color</th>\n",
       "      <th>bruises</th>\n",
       "      <th>odor</th>\n",
       "      <th>gill_attachment</th>\n",
       "      <th>gill_spacing</th>\n",
       "      <th>gill_size</th>\n",
       "      <th>gill_color</th>\n",
       "      <th>stalk_shape</th>\n",
       "      <th>stalk_root</th>\n",
       "      <th>stalk_surface_above_ring</th>\n",
       "      <th>stalk_surface_below_ring</th>\n",
       "      <th>stalk_color_above_ring</th>\n",
       "      <th>stalk_color_below_ring</th>\n",
       "      <th>veil_type</th>\n",
       "      <th>veil_color</th>\n",
       "      <th>ring_number</th>\n",
       "      <th>ring_type</th>\n",
       "      <th>spore_print_color</th>\n",
       "      <th>population</th>\n",
       "      <th>habitat</th>\n",
       "    </tr>\n",
       "  </thead>\n",
       "  <tbody>\n",
       "    <tr>\n",
       "      <th>8416</th>\n",
       "      <td>----------------------------------------------...</td>\n",
       "      <td>None</td>\n",
       "      <td>None</td>\n",
       "      <td>None</td>\n",
       "      <td>None</td>\n",
       "      <td>None</td>\n",
       "      <td>None</td>\n",
       "      <td>None</td>\n",
       "      <td>None</td>\n",
       "      <td>None</td>\n",
       "      <td>None</td>\n",
       "      <td>None</td>\n",
       "      <td>None</td>\n",
       "      <td>None</td>\n",
       "      <td>None</td>\n",
       "      <td>None</td>\n",
       "      <td>None</td>\n",
       "      <td>None</td>\n",
       "      <td>None</td>\n",
       "      <td>None</td>\n",
       "      <td>None</td>\n",
       "      <td>None</td>\n",
       "      <td>None</td>\n",
       "    </tr>\n",
       "  </tbody>\n",
       "</table>\n",
       "</div>"
      ],
      "text/plain": [
       "                                              edibility cap_shape cap_surface  \\\n",
       "8416  ----------------------------------------------...      None        None   \n",
       "\n",
       "     cap_color bruises  odor gill_attachment gill_spacing gill_size  \\\n",
       "8416      None    None  None            None         None      None   \n",
       "\n",
       "     gill_color stalk_shape stalk_root stalk_surface_above_ring  \\\n",
       "8416       None        None       None                     None   \n",
       "\n",
       "     stalk_surface_below_ring stalk_color_above_ring stalk_color_below_ring  \\\n",
       "8416                     None                   None                   None   \n",
       "\n",
       "     veil_type veil_color ring_number ring_type spore_print_color population  \\\n",
       "8416      None       None        None      None              None       None   \n",
       "\n",
       "     habitat  \n",
       "8416    None  "
      ]
     },
     "execution_count": 7,
     "metadata": {},
     "output_type": "execute_result"
    }
   ],
   "source": [
    "train[train.isnull().any(axis=1)]"
   ]
  },
  {
   "cell_type": "markdown",
   "id": "50d57177",
   "metadata": {},
   "source": [
    "<b><i>As we see now, this suspicion was correct. There is one row containing each of these None values, the last one of the dataset. We will drop this row.</i></b>"
   ]
  },
  {
   "cell_type": "code",
   "execution_count": 8,
   "id": "9bb4a3e6",
   "metadata": {
    "scrolled": true
   },
   "outputs": [
    {
     "name": "stdout",
     "output_type": "stream",
     "text": [
      "The dataset has 8416 entries, with 23 characteristics\n",
      "1 row(s) were removed\n",
      "0 column(s) were removed\n"
     ]
    }
   ],
   "source": [
    "# drop rows (in this case just the one row) containing any NA or None values\n",
    "train = train.drop(train[train.isnull().any(axis=1)].index)\n",
    "\n",
    "# show shape has changed:\n",
    "updated_shape = train.shape\n",
    "print('The dataset has {} entries, with {} characteristics'.format(updated_shape[0], updated_shape[1]))\n",
    "print('{} row(s) were removed'.format(original_shape[0] - updated_shape[0]))\n",
    "print('{} column(s) were removed'.format(original_shape[1] - updated_shape[1]))"
   ]
  },
  {
   "cell_type": "code",
   "execution_count": 9,
   "id": "1c9b2ef7",
   "metadata": {},
   "outputs": [
    {
     "data": {
      "text/html": [
       "<div>\n",
       "<style scoped>\n",
       "    .dataframe tbody tr th:only-of-type {\n",
       "        vertical-align: middle;\n",
       "    }\n",
       "\n",
       "    .dataframe tbody tr th {\n",
       "        vertical-align: top;\n",
       "    }\n",
       "\n",
       "    .dataframe thead th {\n",
       "        text-align: right;\n",
       "    }\n",
       "</style>\n",
       "<table border=\"1\" class=\"dataframe\">\n",
       "  <thead>\n",
       "    <tr style=\"text-align: right;\">\n",
       "      <th></th>\n",
       "      <th>edibility</th>\n",
       "      <th>cap_shape</th>\n",
       "      <th>cap_surface</th>\n",
       "      <th>cap_color</th>\n",
       "      <th>bruises</th>\n",
       "      <th>odor</th>\n",
       "      <th>gill_attachment</th>\n",
       "      <th>gill_spacing</th>\n",
       "      <th>gill_size</th>\n",
       "      <th>gill_color</th>\n",
       "      <th>stalk_shape</th>\n",
       "      <th>stalk_root</th>\n",
       "      <th>stalk_surface_above_ring</th>\n",
       "      <th>stalk_surface_below_ring</th>\n",
       "      <th>stalk_color_above_ring</th>\n",
       "      <th>stalk_color_below_ring</th>\n",
       "      <th>veil_type</th>\n",
       "      <th>veil_color</th>\n",
       "      <th>ring_number</th>\n",
       "      <th>ring_type</th>\n",
       "      <th>spore_print_color</th>\n",
       "      <th>population</th>\n",
       "      <th>habitat</th>\n",
       "    </tr>\n",
       "  </thead>\n",
       "  <tbody>\n",
       "    <tr>\n",
       "      <th>count</th>\n",
       "      <td>8416</td>\n",
       "      <td>8416</td>\n",
       "      <td>8416</td>\n",
       "      <td>8416</td>\n",
       "      <td>8416</td>\n",
       "      <td>8416</td>\n",
       "      <td>8416</td>\n",
       "      <td>8416</td>\n",
       "      <td>8416</td>\n",
       "      <td>8416</td>\n",
       "      <td>8416</td>\n",
       "      <td>8416</td>\n",
       "      <td>8416</td>\n",
       "      <td>8416</td>\n",
       "      <td>8416</td>\n",
       "      <td>8416</td>\n",
       "      <td>8416</td>\n",
       "      <td>8416</td>\n",
       "      <td>8416</td>\n",
       "      <td>8416</td>\n",
       "      <td>8416</td>\n",
       "      <td>8416</td>\n",
       "      <td>8416</td>\n",
       "    </tr>\n",
       "    <tr>\n",
       "      <th>unique</th>\n",
       "      <td>2</td>\n",
       "      <td>6</td>\n",
       "      <td>4</td>\n",
       "      <td>10</td>\n",
       "      <td>2</td>\n",
       "      <td>9</td>\n",
       "      <td>2</td>\n",
       "      <td>2</td>\n",
       "      <td>2</td>\n",
       "      <td>12</td>\n",
       "      <td>2</td>\n",
       "      <td>5</td>\n",
       "      <td>4</td>\n",
       "      <td>4</td>\n",
       "      <td>9</td>\n",
       "      <td>9</td>\n",
       "      <td>1</td>\n",
       "      <td>4</td>\n",
       "      <td>3</td>\n",
       "      <td>5</td>\n",
       "      <td>9</td>\n",
       "      <td>6</td>\n",
       "      <td>7</td>\n",
       "    </tr>\n",
       "    <tr>\n",
       "      <th>top</th>\n",
       "      <td>EDIBLE</td>\n",
       "      <td>CONVEX</td>\n",
       "      <td>SCALY</td>\n",
       "      <td>BROWN</td>\n",
       "      <td>NO</td>\n",
       "      <td>NONE</td>\n",
       "      <td>FREE</td>\n",
       "      <td>CLOSE</td>\n",
       "      <td>BROAD</td>\n",
       "      <td>BUFF</td>\n",
       "      <td>TAPERING</td>\n",
       "      <td>BULBOUS</td>\n",
       "      <td>SMOOTH</td>\n",
       "      <td>SMOOTH</td>\n",
       "      <td>WHITE</td>\n",
       "      <td>WHITE</td>\n",
       "      <td>PARTIAL</td>\n",
       "      <td>WHITE</td>\n",
       "      <td>ONE</td>\n",
       "      <td>PENDANT</td>\n",
       "      <td>WHITE</td>\n",
       "      <td>SEVERAL</td>\n",
       "      <td>WOODS</td>\n",
       "    </tr>\n",
       "    <tr>\n",
       "      <th>freq</th>\n",
       "      <td>4488</td>\n",
       "      <td>3796</td>\n",
       "      <td>3268</td>\n",
       "      <td>2320</td>\n",
       "      <td>5040</td>\n",
       "      <td>3808</td>\n",
       "      <td>8200</td>\n",
       "      <td>6824</td>\n",
       "      <td>5880</td>\n",
       "      <td>1728</td>\n",
       "      <td>4864</td>\n",
       "      <td>3800</td>\n",
       "      <td>5316</td>\n",
       "      <td>5076</td>\n",
       "      <td>4744</td>\n",
       "      <td>4640</td>\n",
       "      <td>8416</td>\n",
       "      <td>8216</td>\n",
       "      <td>7768</td>\n",
       "      <td>3968</td>\n",
       "      <td>2424</td>\n",
       "      <td>4064</td>\n",
       "      <td>3160</td>\n",
       "    </tr>\n",
       "  </tbody>\n",
       "</table>\n",
       "</div>"
      ],
      "text/plain": [
       "       edibility cap_shape cap_surface cap_color bruises  odor  \\\n",
       "count       8416      8416        8416      8416    8416  8416   \n",
       "unique         2         6           4        10       2     9   \n",
       "top       EDIBLE    CONVEX       SCALY     BROWN      NO  NONE   \n",
       "freq        4488      3796        3268      2320    5040  3808   \n",
       "\n",
       "       gill_attachment gill_spacing gill_size gill_color stalk_shape  \\\n",
       "count             8416         8416      8416       8416        8416   \n",
       "unique               2            2         2         12           2   \n",
       "top               FREE        CLOSE     BROAD       BUFF    TAPERING   \n",
       "freq              8200         6824      5880       1728        4864   \n",
       "\n",
       "       stalk_root stalk_surface_above_ring stalk_surface_below_ring  \\\n",
       "count        8416                     8416                     8416   \n",
       "unique          5                        4                        4   \n",
       "top       BULBOUS                   SMOOTH                   SMOOTH   \n",
       "freq         3800                     5316                     5076   \n",
       "\n",
       "       stalk_color_above_ring stalk_color_below_ring veil_type veil_color  \\\n",
       "count                    8416                   8416      8416       8416   \n",
       "unique                      9                      9         1          4   \n",
       "top                     WHITE                  WHITE   PARTIAL      WHITE   \n",
       "freq                     4744                   4640      8416       8216   \n",
       "\n",
       "       ring_number ring_type spore_print_color population habitat  \n",
       "count         8416      8416              8416       8416    8416  \n",
       "unique           3         5                 9          6       7  \n",
       "top            ONE   PENDANT             WHITE    SEVERAL   WOODS  \n",
       "freq          7768      3968              2424       4064    3160  "
      ]
     },
     "execution_count": 9,
     "metadata": {},
     "output_type": "execute_result"
    }
   ],
   "source": [
    "# view the updated description of the data\n",
    "train.describe()"
   ]
  },
  {
   "cell_type": "code",
   "execution_count": 10,
   "id": "12a5403b",
   "metadata": {
    "scrolled": true
   },
   "outputs": [
    {
     "name": "stdout",
     "output_type": "stream",
     "text": [
      "CONVEX     3796\n",
      "FLAT       3292\n",
      "KNOBBED     840\n",
      "BELL        452\n",
      "SUNKEN       32\n",
      "CONICAL       4\n",
      "Name: cap_shape, dtype: int64\n",
      "\n",
      "SCALY      3268\n",
      "SMOOTH     2684\n",
      "FIBROUS    2460\n",
      "GROOVES       4\n",
      "Name: cap_surface, dtype: int64\n",
      "\n",
      "WHITE       4744\n",
      "PINK        1872\n",
      "GRAY         576\n",
      "BROWN        448\n",
      "BUFF         432\n",
      "ORANGE       192\n",
      "RED           96\n",
      "CINNAMON      48\n",
      "YELLOW         8\n",
      "Name: stalk_color_above_ring, dtype: int64\n",
      "\n",
      "WHITE     8216\n",
      "ORANGE      96\n",
      "BROWN       96\n",
      "YELLOW       8\n",
      "Name: veil_color, dtype: int64\n",
      "\n"
     ]
    }
   ],
   "source": [
    "# rare is commonly defined as < .1%, using .1% as threshold for values.\n",
    "col_with_rare = list()\n",
    "for col_name in train.columns:\n",
    "    for n in range(len(train[col_name].value_counts())):\n",
    "        if train[col_name].value_counts()[n] / train.shape[0] < 0.001:\n",
    "            col_with_rare.append(col_name)\n",
    "            print(train[col_name].value_counts())\n",
    "            print()\n",
    "            break;"
   ]
  },
  {
   "cell_type": "code",
   "execution_count": 11,
   "id": "3fb8e2a0",
   "metadata": {},
   "outputs": [
    {
     "data": {
      "text/plain": [
       "['cap_shape', 'cap_surface', 'stalk_color_above_ring', 'veil_color']"
      ]
     },
     "execution_count": 11,
     "metadata": {},
     "output_type": "execute_result"
    }
   ],
   "source": [
    "col_with_rare"
   ]
  },
  {
   "cell_type": "markdown",
   "id": "5902e361",
   "metadata": {},
   "source": [
    "<i><b>With the above information, we can see that it may be beneficial to look at the influence of particular rare occurances on a model, as they may have large influence despite being so rare. Some to take a look at due to their limited sample size are: `cap_shape`, `cap_surface`, `stalk_color_above_ring`, and `veil_color`.</b></i>"
   ]
  },
  {
   "cell_type": "markdown",
   "id": "fe8cec7a",
   "metadata": {},
   "source": [
    "## Data Preparation"
   ]
  },
  {
   "cell_type": "code",
   "execution_count": 12,
<<<<<<< Updated upstream
   "id": "9bfa34ea",
=======
   "id": "7709c293",
>>>>>>> Stashed changes
   "metadata": {
    "scrolled": true
   },
   "outputs": [
    {
     "data": {
      "text/plain": [
       "EDIBLE       4488\n",
       "POISONOUS    3928\n",
       "Name: edibility, dtype: int64"
      ]
     },
     "execution_count": 12,
     "metadata": {},
     "output_type": "execute_result"
    }
   ],
   "source": [
    "train.edibility.value_counts()"
   ]
  },
  {
   "cell_type": "markdown",
   "id": "aee56473",
   "metadata": {},
   "source": [
    "Our data is not severely imbalanced."
   ]
  },
  {
   "cell_type": "code",
   "execution_count": 13,
<<<<<<< Updated upstream
   "id": "a58cca78",
=======
   "id": "049a7cff",
>>>>>>> Stashed changes
   "metadata": {},
   "outputs": [],
   "source": [
    "# get dummy variables for two-level response\n",
    "def var_transform (data):\n",
    "    data['edibility']=data['edibility'].apply(lambda x: 1 if x=='EDIBLE' else 0)\n",
    "    data['odor']=data['odor'].apply(lambda x: 0 if x=='NONE' else 1)\n",
    "    return data"
   ]
  },
  {
   "cell_type": "code",
   "execution_count": 14,
<<<<<<< Updated upstream
   "id": "438dfca4",
=======
   "id": "15695667",
>>>>>>> Stashed changes
   "metadata": {
    "scrolled": false
   },
   "outputs": [
    {
     "data": {
      "text/html": [
       "<div>\n",
       "<style scoped>\n",
       "    .dataframe tbody tr th:only-of-type {\n",
       "        vertical-align: middle;\n",
       "    }\n",
       "\n",
       "    .dataframe tbody tr th {\n",
       "        vertical-align: top;\n",
       "    }\n",
       "\n",
       "    .dataframe thead th {\n",
       "        text-align: right;\n",
       "    }\n",
       "</style>\n",
       "<table border=\"1\" class=\"dataframe\">\n",
       "  <thead>\n",
       "    <tr style=\"text-align: right;\">\n",
       "      <th></th>\n",
       "      <th>edibility</th>\n",
       "      <th>cap_shape</th>\n",
       "      <th>cap_surface</th>\n",
       "      <th>cap_color</th>\n",
       "      <th>bruises</th>\n",
       "      <th>odor</th>\n",
       "      <th>gill_attachment</th>\n",
       "      <th>gill_spacing</th>\n",
       "      <th>gill_size</th>\n",
       "      <th>gill_color</th>\n",
       "      <th>stalk_shape</th>\n",
       "      <th>stalk_root</th>\n",
       "      <th>stalk_surface_above_ring</th>\n",
       "      <th>stalk_surface_below_ring</th>\n",
       "      <th>stalk_color_above_ring</th>\n",
       "      <th>stalk_color_below_ring</th>\n",
       "      <th>veil_type</th>\n",
       "      <th>veil_color</th>\n",
       "      <th>ring_number</th>\n",
       "      <th>ring_type</th>\n",
       "      <th>spore_print_color</th>\n",
       "      <th>population</th>\n",
       "      <th>habitat</th>\n",
       "    </tr>\n",
       "  </thead>\n",
       "  <tbody>\n",
       "    <tr>\n",
       "      <th>0</th>\n",
       "      <td>1</td>\n",
       "      <td>CONVEX</td>\n",
       "      <td>SMOOTH</td>\n",
       "      <td>WHITE</td>\n",
       "      <td>BRUISES</td>\n",
       "      <td>1</td>\n",
       "      <td>FREE</td>\n",
       "      <td>CROWDED</td>\n",
       "      <td>NARROW</td>\n",
       "      <td>WHITE</td>\n",
       "      <td>TAPERING</td>\n",
       "      <td>BULBOUS</td>\n",
       "      <td>SMOOTH</td>\n",
       "      <td>SMOOTH</td>\n",
       "      <td>WHITE</td>\n",
       "      <td>WHITE</td>\n",
       "      <td>PARTIAL</td>\n",
       "      <td>WHITE</td>\n",
       "      <td>ONE</td>\n",
       "      <td>PENDANT</td>\n",
       "      <td>PURPLE</td>\n",
       "      <td>SEVERAL</td>\n",
       "      <td>WOODS</td>\n",
       "    </tr>\n",
       "    <tr>\n",
       "      <th>1</th>\n",
       "      <td>1</td>\n",
       "      <td>CONVEX</td>\n",
       "      <td>SMOOTH</td>\n",
       "      <td>WHITE</td>\n",
       "      <td>BRUISES</td>\n",
       "      <td>1</td>\n",
       "      <td>FREE</td>\n",
       "      <td>CROWDED</td>\n",
       "      <td>NARROW</td>\n",
       "      <td>WHITE</td>\n",
       "      <td>TAPERING</td>\n",
       "      <td>BULBOUS</td>\n",
       "      <td>SMOOTH</td>\n",
       "      <td>SMOOTH</td>\n",
       "      <td>WHITE</td>\n",
       "      <td>WHITE</td>\n",
       "      <td>PARTIAL</td>\n",
       "      <td>WHITE</td>\n",
       "      <td>ONE</td>\n",
       "      <td>PENDANT</td>\n",
       "      <td>BROWN</td>\n",
       "      <td>SEVERAL</td>\n",
       "      <td>WOODS</td>\n",
       "    </tr>\n",
       "    <tr>\n",
       "      <th>2</th>\n",
       "      <td>1</td>\n",
       "      <td>CONVEX</td>\n",
       "      <td>SMOOTH</td>\n",
       "      <td>WHITE</td>\n",
       "      <td>BRUISES</td>\n",
       "      <td>1</td>\n",
       "      <td>FREE</td>\n",
       "      <td>CROWDED</td>\n",
       "      <td>NARROW</td>\n",
       "      <td>PINK</td>\n",
       "      <td>TAPERING</td>\n",
       "      <td>BULBOUS</td>\n",
       "      <td>SMOOTH</td>\n",
       "      <td>SMOOTH</td>\n",
       "      <td>WHITE</td>\n",
       "      <td>WHITE</td>\n",
       "      <td>PARTIAL</td>\n",
       "      <td>WHITE</td>\n",
       "      <td>ONE</td>\n",
       "      <td>PENDANT</td>\n",
       "      <td>PURPLE</td>\n",
       "      <td>SEVERAL</td>\n",
       "      <td>WOODS</td>\n",
       "    </tr>\n",
       "    <tr>\n",
       "      <th>3</th>\n",
       "      <td>1</td>\n",
       "      <td>CONVEX</td>\n",
       "      <td>SMOOTH</td>\n",
       "      <td>WHITE</td>\n",
       "      <td>BRUISES</td>\n",
       "      <td>1</td>\n",
       "      <td>FREE</td>\n",
       "      <td>CROWDED</td>\n",
       "      <td>NARROW</td>\n",
       "      <td>PINK</td>\n",
       "      <td>TAPERING</td>\n",
       "      <td>BULBOUS</td>\n",
       "      <td>SMOOTH</td>\n",
       "      <td>SMOOTH</td>\n",
       "      <td>WHITE</td>\n",
       "      <td>WHITE</td>\n",
       "      <td>PARTIAL</td>\n",
       "      <td>WHITE</td>\n",
       "      <td>ONE</td>\n",
       "      <td>PENDANT</td>\n",
       "      <td>BROWN</td>\n",
       "      <td>SEVERAL</td>\n",
       "      <td>WOODS</td>\n",
       "    </tr>\n",
       "    <tr>\n",
       "      <th>4</th>\n",
       "      <td>1</td>\n",
       "      <td>CONVEX</td>\n",
       "      <td>SMOOTH</td>\n",
       "      <td>WHITE</td>\n",
       "      <td>BRUISES</td>\n",
       "      <td>1</td>\n",
       "      <td>FREE</td>\n",
       "      <td>CROWDED</td>\n",
       "      <td>NARROW</td>\n",
       "      <td>BROWN</td>\n",
       "      <td>TAPERING</td>\n",
       "      <td>BULBOUS</td>\n",
       "      <td>SMOOTH</td>\n",
       "      <td>SMOOTH</td>\n",
       "      <td>WHITE</td>\n",
       "      <td>WHITE</td>\n",
       "      <td>PARTIAL</td>\n",
       "      <td>WHITE</td>\n",
       "      <td>ONE</td>\n",
       "      <td>PENDANT</td>\n",
       "      <td>PURPLE</td>\n",
       "      <td>SEVERAL</td>\n",
       "      <td>WOODS</td>\n",
       "    </tr>\n",
       "  </tbody>\n",
       "</table>\n",
       "</div>"
      ],
      "text/plain": [
       "   edibility cap_shape cap_surface cap_color  bruises  odor gill_attachment  \\\n",
       "0          1    CONVEX      SMOOTH     WHITE  BRUISES     1            FREE   \n",
       "1          1    CONVEX      SMOOTH     WHITE  BRUISES     1            FREE   \n",
       "2          1    CONVEX      SMOOTH     WHITE  BRUISES     1            FREE   \n",
       "3          1    CONVEX      SMOOTH     WHITE  BRUISES     1            FREE   \n",
       "4          1    CONVEX      SMOOTH     WHITE  BRUISES     1            FREE   \n",
       "\n",
       "  gill_spacing gill_size gill_color stalk_shape stalk_root  \\\n",
       "0      CROWDED    NARROW      WHITE    TAPERING    BULBOUS   \n",
       "1      CROWDED    NARROW      WHITE    TAPERING    BULBOUS   \n",
       "2      CROWDED    NARROW       PINK    TAPERING    BULBOUS   \n",
       "3      CROWDED    NARROW       PINK    TAPERING    BULBOUS   \n",
       "4      CROWDED    NARROW      BROWN    TAPERING    BULBOUS   \n",
       "\n",
       "  stalk_surface_above_ring stalk_surface_below_ring stalk_color_above_ring  \\\n",
       "0                   SMOOTH                   SMOOTH                  WHITE   \n",
       "1                   SMOOTH                   SMOOTH                  WHITE   \n",
       "2                   SMOOTH                   SMOOTH                  WHITE   \n",
       "3                   SMOOTH                   SMOOTH                  WHITE   \n",
       "4                   SMOOTH                   SMOOTH                  WHITE   \n",
       "\n",
       "  stalk_color_below_ring veil_type veil_color ring_number ring_type  \\\n",
       "0                  WHITE   PARTIAL      WHITE         ONE   PENDANT   \n",
       "1                  WHITE   PARTIAL      WHITE         ONE   PENDANT   \n",
       "2                  WHITE   PARTIAL      WHITE         ONE   PENDANT   \n",
       "3                  WHITE   PARTIAL      WHITE         ONE   PENDANT   \n",
       "4                  WHITE   PARTIAL      WHITE         ONE   PENDANT   \n",
       "\n",
       "  spore_print_color population habitat  \n",
       "0            PURPLE    SEVERAL   WOODS  \n",
       "1             BROWN    SEVERAL   WOODS  \n",
       "2            PURPLE    SEVERAL   WOODS  \n",
       "3             BROWN    SEVERAL   WOODS  \n",
       "4            PURPLE    SEVERAL   WOODS  "
      ]
     },
     "execution_count": 14,
     "metadata": {},
     "output_type": "execute_result"
    }
   ],
   "source": [
    "var_transform(train).head()"
   ]
  },
  {
   "cell_type": "code",
   "execution_count": 26,
   "id": "10779269",
   "metadata": {
    "scrolled": false
   },
   "outputs": [
    {
     "data": {
      "text/plain": [
       "0.5475285171102662"
      ]
     },
     "execution_count": 26,
     "metadata": {},
     "output_type": "execute_result"
    }
   ],
   "source": [
    "#approximately half of the data with odor, half without\n",
    "train.odor.mean()"
   ]
  },
  {
   "cell_type": "markdown",
   "id": "8e1e396f",
   "metadata": {},
   "source": [
    "Feature Engineering:\n",
    "- In the original data, mushrooms with odor are 100% edible, while around 96% of the mushrooms without odor are edible. To perform logistic regression on the predictor odor, we classify all odor into one aggregation, represented with a dummy variable 1. On the other hand, odorless would be represented as 0."
   ]
  },
  {
   "cell_type": "markdown",
   "id": "a5bfa29b",
   "metadata": {},
   "source": [
    "## EDA"
   ]
  },
  {
<<<<<<< Updated upstream
=======
   "cell_type": "code",
   "execution_count": 15,
   "id": "9667bc8c",
   "metadata": {
    "scrolled": true
   },
   "outputs": [
    {
     "data": {
      "text/plain": [
       "Index(['cap_shape', 'cap_surface', 'cap_color', 'bruises', 'odor',\n",
       "       'gill_attachment', 'gill_spacing', 'gill_size', 'gill_color',\n",
       "       'stalk_shape', 'stalk_root', 'stalk_surface_above_ring',\n",
       "       'stalk_surface_below_ring', 'stalk_color_above_ring',\n",
       "       'stalk_color_below_ring', 'veil_type', 'veil_color', 'ring_number',\n",
       "       'ring_type', 'spore_print_color', 'population', 'habitat'],\n",
       "      dtype='object')"
      ]
     },
     "execution_count": 15,
     "metadata": {},
     "output_type": "execute_result"
    }
   ],
   "source": [
    "predictors = train.columns[1:]\n",
    "predictors"
   ]
  },
  {
   "cell_type": "code",
   "execution_count": 16,
   "id": "e78cde3e",
   "metadata": {
    "scrolled": true
   },
   "outputs": [
    {
     "data": {
      "image/png": "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\n",
      "text/plain": [
       "<Figure size 1440x1440 with 24 Axes>"
      ]
     },
     "metadata": {
      "needs_background": "light"
     },
     "output_type": "display_data"
    }
   ],
   "source": [
    "fig, axs = plt.subplots(6, 4, figsize=(20, 20))\n",
    "for i, predictor in enumerate(predictors):\n",
    "    row = i // 4\n",
    "    col = i % 4\n",
    "    data = train[['edibility', predictor]].groupby([predictor], as_index=False).mean()\n",
    "    sns.barplot(x=predictor, y='edibility', data=data, ax=axs[row, col])\n",
    "    axs[row, col].set_title(f'{predictor}')\n",
    "    axs[row, col].set_xlabel('')\n",
    "    axs[row, col].set_ylabel('% edibility')\n",
    "    for rect in axs[row, col].patches:\n",
    "        height = rect.get_height()\n",
    "        axs[row, col].annotate(f'{height:.1%}', xy=(rect.get_x() + rect.get_width() / 2, height), \n",
    "                               xytext=(0, 3), textcoords='offset points', ha='center', va='bottom')\n",
    "plt.tight_layout()\n",
    "plt.show()"
   ]
  },
  {
   "cell_type": "code",
   "execution_count": 17,
   "id": "b222e4f2",
   "metadata": {
    "scrolled": false
   },
   "outputs": [
    {
     "data": {
      "text/plain": [
       "nan"
      ]
     },
     "execution_count": 17,
     "metadata": {},
     "output_type": "execute_result"
    }
   ],
   "source": [
    "train.loc[train.odor == 'NONE'].edibility.mean()"
   ]
  },
  {
>>>>>>> Stashed changes
   "cell_type": "markdown",
   "id": "57b8a8f0",
   "metadata": {},
   "source": [
    "## Model"
   ]
  },
  {
   "cell_type": "code",
<<<<<<< Updated upstream
   "execution_count": 15,
   "id": "d0b549a3",
=======
   "execution_count": 18,
   "id": "fe471e68",
>>>>>>> Stashed changes
   "metadata": {
    "scrolled": true
   },
   "outputs": [
    {
     "data": {
      "text/plain": [
       "Index(['edibility', 'cap_shape', 'cap_surface', 'cap_color', 'bruises', 'odor',\n",
       "       'gill_attachment', 'gill_spacing', 'gill_size', 'gill_color',\n",
       "       'stalk_shape', 'stalk_root', 'stalk_surface_above_ring',\n",
       "       'stalk_surface_below_ring', 'stalk_color_above_ring',\n",
       "       'stalk_color_below_ring', 'veil_type', 'veil_color', 'ring_number',\n",
       "       'ring_type', 'spore_print_color', 'population', 'habitat'],\n",
       "      dtype='object')"
      ]
     },
<<<<<<< Updated upstream
     "execution_count": 15,
=======
     "execution_count": 18,
>>>>>>> Stashed changes
     "metadata": {},
     "output_type": "execute_result"
    }
   ],
   "source": [
    "train.columns"
   ]
  },
  {
   "cell_type": "code",
<<<<<<< Updated upstream
   "execution_count": 16,
   "id": "d6595de9",
=======
   "execution_count": 29,
   "id": "e3ed04f5",
>>>>>>> Stashed changes
   "metadata": {
    "scrolled": true
   },
   "outputs": [
    {
     "name": "stdout",
     "output_type": "stream",
     "text": [
      "Warning: Maximum number of iterations has been exceeded.\n",
      "         Current function value: 0.196353\n",
      "         Iterations: 35\n"
     ]
    },
    {
     "name": "stderr",
     "output_type": "stream",
     "text": [
      "/Users/lucyhan/opt/anaconda3/lib/python3.9/site-packages/statsmodels/base/model.py:604: ConvergenceWarning: Maximum Likelihood optimization failed to converge. Check mle_retvals\n",
      "  warnings.warn(\"Maximum Likelihood optimization failed to \"\n"
     ]
    },
    {
     "data": {
      "text/html": [
       "<table class=\"simpletable\">\n",
       "<caption>Logit Regression Results</caption>\n",
       "<tr>\n",
       "  <th>Dep. Variable:</th>       <td>edibility</td>    <th>  No. Observations:  </th>  <td>  8416</td> \n",
       "</tr>\n",
       "<tr>\n",
       "  <th>Model:</th>                 <td>Logit</td>      <th>  Df Residuals:      </th>  <td>  8399</td> \n",
       "</tr>\n",
       "<tr>\n",
       "  <th>Method:</th>                 <td>MLE</td>       <th>  Df Model:          </th>  <td>    16</td> \n",
       "</tr>\n",
       "<tr>\n",
<<<<<<< Updated upstream
       "  <th>Date:</th>            <td>Mon, 27 Feb 2023</td> <th>  Pseudo R-squ.:     </th>  <td>0.1602</td> \n",
       "</tr>\n",
       "<tr>\n",
       "  <th>Time:</th>                <td>11:32:24</td>     <th>  Log-Likelihood:    </th> <td> -4883.5</td>\n",
=======
       "  <th>Date:</th>            <td>Tue, 28 Feb 2023</td> <th>  Pseudo R-squ.:     </th>  <td>0.7158</td> \n",
       "</tr>\n",
       "<tr>\n",
       "  <th>Time:</th>                <td>16:24:34</td>     <th>  Log-Likelihood:    </th> <td> -1652.5</td>\n",
>>>>>>> Stashed changes
       "</tr>\n",
       "<tr>\n",
       "  <th>converged:</th>             <td>False</td>      <th>  LL-Null:           </th> <td> -5814.9</td>\n",
       "</tr>\n",
       "<tr>\n",
       "  <th>Covariance Type:</th>     <td>nonrobust</td>    <th>  LLR p-value:       </th>  <td> 0.000</td> \n",
       "</tr>\n",
       "</table>\n",
       "<table class=\"simpletable\">\n",
       "<tr>\n",
       "            <td></td>               <th>coef</th>     <th>std err</th>      <th>z</th>      <th>P>|z|</th>  <th>[0.025</th>    <th>0.975]</th>  \n",
       "</tr>\n",
       "<tr>\n",
       "  <th>Intercept</th>             <td>    6.4460</td> <td>    0.227</td> <td>   28.383</td> <td> 0.000</td> <td>    6.001</td> <td>    6.891</td>\n",
       "</tr>\n",
       "<tr>\n",
       "  <th>habitat[T.LEAVES]</th>     <td>   -3.8802</td> <td>    0.300</td> <td>  -12.954</td> <td> 0.000</td> <td>   -4.467</td> <td>   -3.293</td>\n",
       "</tr>\n",
       "<tr>\n",
       "  <th>habitat[T.MEADOWS]</th>    <td>    2.6583</td> <td>    0.245</td> <td>   10.835</td> <td> 0.000</td> <td>    2.177</td> <td>    3.139</td>\n",
       "</tr>\n",
       "<tr>\n",
       "  <th>habitat[T.PATHS]</th>      <td>   -1.1457</td> <td>    0.137</td> <td>   -8.376</td> <td> 0.000</td> <td>   -1.414</td> <td>   -0.878</td>\n",
       "</tr>\n",
       "<tr>\n",
       "  <th>habitat[T.URBAN]</th>      <td>   -2.9265</td> <td>    0.288</td> <td>  -10.158</td> <td> 0.000</td> <td>   -3.491</td> <td>   -2.362</td>\n",
       "</tr>\n",
       "<tr>\n",
       "  <th>habitat[T.WASTE]</th>      <td>   41.6928</td> <td> 7378.323</td> <td>    0.006</td> <td> 0.995</td> <td>-1.44e+04</td> <td> 1.45e+04</td>\n",
       "</tr>\n",
       "<tr>\n",
       "  <th>habitat[T.WOODS]</th>      <td>   -1.4472</td> <td>    0.125</td> <td>  -11.532</td> <td> 0.000</td> <td>   -1.693</td> <td>   -1.201</td>\n",
       "</tr>\n",
       "<tr>\n",
       "  <th>cap_color[T.BUFF]</th>     <td>  -29.4166</td> <td> 7184.930</td> <td>   -0.004</td> <td> 0.997</td> <td>-1.41e+04</td> <td> 1.41e+04</td>\n",
       "</tr>\n",
       "<tr>\n",
       "  <th>cap_color[T.CINNAMON]</th> <td>    0.2733</td> <td>    0.648</td> <td>    0.422</td> <td> 0.673</td> <td>   -0.996</td> <td>    1.543</td>\n",
       "</tr>\n",
       "<tr>\n",
       "  <th>cap_color[T.GRAY]</th>     <td>   -1.6234</td> <td>    0.187</td> <td>   -8.684</td> <td> 0.000</td> <td>   -1.990</td> <td>   -1.257</td>\n",
       "</tr>\n",
       "<tr>\n",
       "  <th>cap_color[T.GREEN]</th>    <td>   21.6877</td> <td> 1.56e+05</td> <td>    0.000</td> <td> 1.000</td> <td>-3.06e+05</td> <td> 3.06e+05</td>\n",
       "</tr>\n",
       "<tr>\n",
       "  <th>cap_color[T.PINK]</th>     <td>   -8.8445</td> <td>    0.567</td> <td>  -15.598</td> <td> 0.000</td> <td>   -9.956</td> <td>   -7.733</td>\n",
       "</tr>\n",
       "<tr>\n",
       "  <th>cap_color[T.PURPLE]</th>   <td>   21.6877</td> <td> 1.56e+05</td> <td>    0.000</td> <td> 1.000</td> <td>-3.06e+05</td> <td> 3.06e+05</td>\n",
       "</tr>\n",
       "<tr>\n",
       "  <th>cap_color[T.RED]</th>      <td>   -1.4414</td> <td>    0.222</td> <td>   -6.492</td> <td> 0.000</td> <td>   -1.877</td> <td>   -1.006</td>\n",
       "</tr>\n",
       "<tr>\n",
       "  <th>cap_color[T.WHITE]</th>    <td>    0.9511</td> <td>    0.160</td> <td>    5.940</td> <td> 0.000</td> <td>    0.637</td> <td>    1.265</td>\n",
       "</tr>\n",
       "<tr>\n",
       "  <th>cap_color[T.YELLOW]</th>   <td>    0.6035</td> <td>    0.133</td> <td>    4.535</td> <td> 0.000</td> <td>    0.343</td> <td>    0.864</td>\n",
       "</tr>\n",
       "<tr>\n",
       "  <th>odor</th>                  <td>   -7.3323</td> <td>    0.192</td> <td>  -38.252</td> <td> 0.000</td> <td>   -7.708</td> <td>   -6.957</td>\n",
       "</tr>\n",
       "</table>"
      ],
      "text/plain": [
       "<class 'statsmodels.iolib.summary.Summary'>\n",
       "\"\"\"\n",
       "                           Logit Regression Results                           \n",
       "==============================================================================\n",
       "Dep. Variable:              edibility   No. Observations:                 8416\n",
<<<<<<< Updated upstream
       "Model:                          Logit   Df Residuals:                     8409\n",
       "Method:                           MLE   Df Model:                            6\n",
       "Date:                Mon, 27 Feb 2023   Pseudo R-squ.:                  0.1602\n",
       "Time:                        11:32:24   Log-Likelihood:                -4883.5\n",
=======
       "Model:                          Logit   Df Residuals:                     8399\n",
       "Method:                           MLE   Df Model:                           16\n",
       "Date:                Tue, 28 Feb 2023   Pseudo R-squ.:                  0.7158\n",
       "Time:                        16:24:34   Log-Likelihood:                -1652.5\n",
>>>>>>> Stashed changes
       "converged:                      False   LL-Null:                       -5814.9\n",
       "Covariance Type:            nonrobust   LLR p-value:                     0.000\n",
       "=========================================================================================\n",
       "                            coef    std err          z      P>|z|      [0.025      0.975]\n",
       "-----------------------------------------------------------------------------------------\n",
       "Intercept                 6.4460      0.227     28.383      0.000       6.001       6.891\n",
       "habitat[T.LEAVES]        -3.8802      0.300    -12.954      0.000      -4.467      -3.293\n",
       "habitat[T.MEADOWS]        2.6583      0.245     10.835      0.000       2.177       3.139\n",
       "habitat[T.PATHS]         -1.1457      0.137     -8.376      0.000      -1.414      -0.878\n",
       "habitat[T.URBAN]         -2.9265      0.288    -10.158      0.000      -3.491      -2.362\n",
       "habitat[T.WASTE]         41.6928   7378.323      0.006      0.995   -1.44e+04    1.45e+04\n",
       "habitat[T.WOODS]         -1.4472      0.125    -11.532      0.000      -1.693      -1.201\n",
       "cap_color[T.BUFF]       -29.4166   7184.930     -0.004      0.997   -1.41e+04    1.41e+04\n",
       "cap_color[T.CINNAMON]     0.2733      0.648      0.422      0.673      -0.996       1.543\n",
       "cap_color[T.GRAY]        -1.6234      0.187     -8.684      0.000      -1.990      -1.257\n",
       "cap_color[T.GREEN]       21.6877   1.56e+05      0.000      1.000   -3.06e+05    3.06e+05\n",
       "cap_color[T.PINK]        -8.8445      0.567    -15.598      0.000      -9.956      -7.733\n",
       "cap_color[T.PURPLE]      21.6877   1.56e+05      0.000      1.000   -3.06e+05    3.06e+05\n",
       "cap_color[T.RED]         -1.4414      0.222     -6.492      0.000      -1.877      -1.006\n",
       "cap_color[T.WHITE]        0.9511      0.160      5.940      0.000       0.637       1.265\n",
       "cap_color[T.YELLOW]       0.6035      0.133      4.535      0.000       0.343       0.864\n",
       "odor                     -7.3323      0.192    -38.252      0.000      -7.708      -6.957\n",
       "=========================================================================================\n",
       "\"\"\""
      ]
     },
<<<<<<< Updated upstream
     "execution_count": 16,
=======
     "execution_count": 29,
>>>>>>> Stashed changes
     "metadata": {},
     "output_type": "execute_result"
    }
   ],
   "source": [
    "model = sm.logit(formula = 'edibility~odor+habitat+cap_color', data = train).fit()\n",
    "model.summary()"
   ]
  },
  {
   "cell_type": "markdown",
   "id": "9e9ab0c2",
   "metadata": {},
   "source": [
    "## Model accuracy: Confusion matrix & metrics"
   ]
  },
  {
   "cell_type": "markdown",
   "id": "85dd2dd9",
   "metadata": {},
   "source": [
    "Goals: We need to minimize **False Positive Rate**.\n",
    "- **True positives**: The number of observations correctly classified as edible\n",
    "- **False positives**: The number of observations falsely classified as edible, and are in fact poisonous\n",
    "- **True negatives**: The number of observations correctly classified as poisonous\n",
    "- **False negatives**: The number of observations falsely classified as poisonous, and are in fact edible\n",
    "Our stakeholders only care about eating or cooking mushrooms that are edible. Therefore, if we have a high false positive rate, that would be detrimental to the health of our stakeholders. In this case, we want to minimize False Positive Rate, and we do not care about if False Negatives are high, because even if edible mushrooms are falsely classified as poisonous, that will not lead to unintended consequences for our stakeholders."
   ]
  },
  {
   "cell_type": "code",
   "execution_count": 17,
   "id": "10a0897a",
   "metadata": {},
   "outputs": [],
   "source": [
    "#Function to compute confusion matrix and prediction accuracy\n",
    "def confusion_matrix_data(data,actual_values,model,cutoff=0.5):\n",
    "    pred_values = model.predict(data)\n",
    "    bins=np.array([0,cutoff,1])\n",
    "    cm = np.histogram2d(actual_values, pred_values, bins=bins)[0]\n",
    "    cm_df = pd.DataFrame(cm)\n",
    "    cm_df.columns = ['Predicted 0','Predicted 1']\n",
    "    cm_df = cm_df.rename(index={0: 'Actual 0',1:'Actual 1'})\n",
    "# Calculate the accuracy\n",
    "    accuracy = (cm[0,0]+cm[1,1])/cm.sum()\n",
    "    fnr = (cm[1,0])/(cm[1,0]+cm[1,1])\n",
    "    precision = (cm[1,1])/(cm[0,1]+cm[1,1])\n",
    "    fpr = (cm[0,1])/(cm[0,0]+cm[0,1])\n",
    "    tpr = (cm[1,1])/(cm[1,0]+cm[1,1])\n",
    "    fpr_roc, tpr_roc, auc_thresholds = roc_curve(actual_values, pred_values)\n",
    "    auc_value = (auc(fpr_roc, tpr_roc))# AUC of ROC\n",
    "    sns.heatmap(cm_df, annot=True, cmap='Blues', fmt='g')\n",
    "    plt.ylabel(\"Actual Values\")\n",
    "    plt.xlabel(\"Predicted Values\")\n",
    "    print(\"Classification accuracy = {:.10%}\".format(accuracy))\n",
    "    print(\"Precision = {:.10%}\".format(precision))\n",
    "    print(\"TPR or Recall = {:.10%}\".format(tpr))\n",
    "    print(\"FNR = {:.10%}\".format(fnr))\n",
    "    print(\"FPR = {:.10%}\".format(fpr))\n",
    "    print(\"ROC-AUC = {:.10%}\".format(auc_value))"
   ]
  },
  {
   "cell_type": "code",
<<<<<<< Updated upstream
   "execution_count": 18,
   "id": "ef2bf052",
=======
   "execution_count": 36,
   "id": "6c51579b",
>>>>>>> Stashed changes
   "metadata": {
    "scrolled": false
   },
   "outputs": [
    {
     "name": "stdout",
     "output_type": "stream",
     "text": [
      "Classification accuracy = 69.7%\n",
      "Precision = 66.0%\n",
      "TPR or Recall = 88.9%\n",
      "FNR = 11.1%\n",
      "FPR = 52.3%\n",
      "ROC-AUC = 73.4%\n"
     ]
    },
    {
     "data": {
      "image/png": "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\n",
      "text/plain": [
       "<Figure size 432x288 with 2 Axes>"
      ]
     },
     "metadata": {
      "needs_background": "light"
     },
     "output_type": "display_data"
    }
   ],
   "source": [
    "confusion_matrix_data(train,train.edibility,model,0.5)"
   ]
  },
  {
   "cell_type": "markdown",
   "id": "00819d5e",
   "metadata": {},
   "source": [
    "## Cross-Validation"
   ]
<<<<<<< Updated upstream
  },
  {
   "cell_type": "code",
   "execution_count": null,
   "id": "ffa4ee44",
   "metadata": {},
   "outputs": [],
   "source": []
=======
>>>>>>> Stashed changes
  }
 ],
 "metadata": {
  "kernelspec": {
   "display_name": "Python 3 (ipykernel)",
   "language": "python",
   "name": "python3"
  },
  "language_info": {
   "codemirror_mode": {
    "name": "ipython",
    "version": 3
   },
   "file_extension": ".py",
   "mimetype": "text/x-python",
   "name": "python",
   "nbconvert_exporter": "python",
   "pygments_lexer": "ipython3",
   "version": "3.9.12"
  },
  "vscode": {
   "interpreter": {
    "hash": "1a1af0ee75eeea9e2e1ee996c87e7a2b11a0bebd85af04bb136d915cefc0abce"
   }
  }
 },
 "nbformat": 4,
 "nbformat_minor": 5
}
