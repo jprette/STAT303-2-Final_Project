{
 "cells": [
  {
   "cell_type": "code",
   "execution_count": 17,
   "id": "0a7cd937",
   "metadata": {},
   "outputs": [],
   "source": [
    "import pandas as pd\n",
    "import numpy as np\n",
    "import seaborn as sns\n",
    "import matplotlib.pyplot as plt\n",
    "import statsmodels.formula.api as sm\n",
    "from sklearn.metrics import precision_recall_curve\n",
    "from sklearn.metrics import roc_curve, auc\n",
    "import itertools\n",
    "import time\n",
    "from sklearn.linear_model import Ridge, RidgeCV, Lasso, LassoCV\n",
    "from sklearn.preprocessing import StandardScaler \n",
    "from sklearn.metrics import r2_score"
   ]
  },
  {
   "cell_type": "code",
   "execution_count": 2,
   "id": "8650b320",
   "metadata": {
    "scrolled": true
   },
   "outputs": [],
   "source": [
    "train = pd.read_csv('expanded', delimiter='\\t', header=None, names=['characteristics'])\n",
    "train = train['characteristics'].str.split(',', expand=True)\n",
    "train = train.drop(range(7)).reset_index(drop=True)"
   ]
  },
  {
   "cell_type": "code",
   "execution_count": 3,
   "id": "c1bc6923",
   "metadata": {
    "scrolled": false
   },
   "outputs": [
    {
     "data": {
      "text/html": [
       "<div>\n",
       "<style scoped>\n",
       "    .dataframe tbody tr th:only-of-type {\n",
       "        vertical-align: middle;\n",
       "    }\n",
       "\n",
       "    .dataframe tbody tr th {\n",
       "        vertical-align: top;\n",
       "    }\n",
       "\n",
       "    .dataframe thead th {\n",
       "        text-align: right;\n",
       "    }\n",
       "</style>\n",
       "<table border=\"1\" class=\"dataframe\">\n",
       "  <thead>\n",
       "    <tr style=\"text-align: right;\">\n",
       "      <th></th>\n",
       "      <th>edibility</th>\n",
       "      <th>cap_shape</th>\n",
       "      <th>cap_surface</th>\n",
       "      <th>cap_color</th>\n",
       "      <th>bruises</th>\n",
       "      <th>odor</th>\n",
       "      <th>gill_attachment</th>\n",
       "      <th>gill_spacing</th>\n",
       "      <th>gill_size</th>\n",
       "      <th>gill_color</th>\n",
       "      <th>...</th>\n",
       "      <th>stalk_surface_below_ring</th>\n",
       "      <th>stalk_color_above_ring</th>\n",
       "      <th>stalk_color_below_ring</th>\n",
       "      <th>veil_type</th>\n",
       "      <th>veil_color</th>\n",
       "      <th>ring_number</th>\n",
       "      <th>ring_type</th>\n",
       "      <th>spore_print_color</th>\n",
       "      <th>population</th>\n",
       "      <th>habitat</th>\n",
       "    </tr>\n",
       "  </thead>\n",
       "  <tbody>\n",
       "    <tr>\n",
       "      <th>0</th>\n",
       "      <td>EDIBLE</td>\n",
       "      <td>CONVEX</td>\n",
       "      <td>SMOOTH</td>\n",
       "      <td>WHITE</td>\n",
       "      <td>BRUISES</td>\n",
       "      <td>ALMOND</td>\n",
       "      <td>FREE</td>\n",
       "      <td>CROWDED</td>\n",
       "      <td>NARROW</td>\n",
       "      <td>WHITE</td>\n",
       "      <td>...</td>\n",
       "      <td>SMOOTH</td>\n",
       "      <td>WHITE</td>\n",
       "      <td>WHITE</td>\n",
       "      <td>PARTIAL</td>\n",
       "      <td>WHITE</td>\n",
       "      <td>ONE</td>\n",
       "      <td>PENDANT</td>\n",
       "      <td>PURPLE</td>\n",
       "      <td>SEVERAL</td>\n",
       "      <td>WOODS</td>\n",
       "    </tr>\n",
       "    <tr>\n",
       "      <th>1</th>\n",
       "      <td>EDIBLE</td>\n",
       "      <td>CONVEX</td>\n",
       "      <td>SMOOTH</td>\n",
       "      <td>WHITE</td>\n",
       "      <td>BRUISES</td>\n",
       "      <td>ALMOND</td>\n",
       "      <td>FREE</td>\n",
       "      <td>CROWDED</td>\n",
       "      <td>NARROW</td>\n",
       "      <td>WHITE</td>\n",
       "      <td>...</td>\n",
       "      <td>SMOOTH</td>\n",
       "      <td>WHITE</td>\n",
       "      <td>WHITE</td>\n",
       "      <td>PARTIAL</td>\n",
       "      <td>WHITE</td>\n",
       "      <td>ONE</td>\n",
       "      <td>PENDANT</td>\n",
       "      <td>BROWN</td>\n",
       "      <td>SEVERAL</td>\n",
       "      <td>WOODS</td>\n",
       "    </tr>\n",
       "    <tr>\n",
       "      <th>2</th>\n",
       "      <td>EDIBLE</td>\n",
       "      <td>CONVEX</td>\n",
       "      <td>SMOOTH</td>\n",
       "      <td>WHITE</td>\n",
       "      <td>BRUISES</td>\n",
       "      <td>ALMOND</td>\n",
       "      <td>FREE</td>\n",
       "      <td>CROWDED</td>\n",
       "      <td>NARROW</td>\n",
       "      <td>PINK</td>\n",
       "      <td>...</td>\n",
       "      <td>SMOOTH</td>\n",
       "      <td>WHITE</td>\n",
       "      <td>WHITE</td>\n",
       "      <td>PARTIAL</td>\n",
       "      <td>WHITE</td>\n",
       "      <td>ONE</td>\n",
       "      <td>PENDANT</td>\n",
       "      <td>PURPLE</td>\n",
       "      <td>SEVERAL</td>\n",
       "      <td>WOODS</td>\n",
       "    </tr>\n",
       "    <tr>\n",
       "      <th>3</th>\n",
       "      <td>EDIBLE</td>\n",
       "      <td>CONVEX</td>\n",
       "      <td>SMOOTH</td>\n",
       "      <td>WHITE</td>\n",
       "      <td>BRUISES</td>\n",
       "      <td>ALMOND</td>\n",
       "      <td>FREE</td>\n",
       "      <td>CROWDED</td>\n",
       "      <td>NARROW</td>\n",
       "      <td>PINK</td>\n",
       "      <td>...</td>\n",
       "      <td>SMOOTH</td>\n",
       "      <td>WHITE</td>\n",
       "      <td>WHITE</td>\n",
       "      <td>PARTIAL</td>\n",
       "      <td>WHITE</td>\n",
       "      <td>ONE</td>\n",
       "      <td>PENDANT</td>\n",
       "      <td>BROWN</td>\n",
       "      <td>SEVERAL</td>\n",
       "      <td>WOODS</td>\n",
       "    </tr>\n",
       "    <tr>\n",
       "      <th>4</th>\n",
       "      <td>EDIBLE</td>\n",
       "      <td>CONVEX</td>\n",
       "      <td>SMOOTH</td>\n",
       "      <td>WHITE</td>\n",
       "      <td>BRUISES</td>\n",
       "      <td>ALMOND</td>\n",
       "      <td>FREE</td>\n",
       "      <td>CROWDED</td>\n",
       "      <td>NARROW</td>\n",
       "      <td>BROWN</td>\n",
       "      <td>...</td>\n",
       "      <td>SMOOTH</td>\n",
       "      <td>WHITE</td>\n",
       "      <td>WHITE</td>\n",
       "      <td>PARTIAL</td>\n",
       "      <td>WHITE</td>\n",
       "      <td>ONE</td>\n",
       "      <td>PENDANT</td>\n",
       "      <td>PURPLE</td>\n",
       "      <td>SEVERAL</td>\n",
       "      <td>WOODS</td>\n",
       "    </tr>\n",
       "  </tbody>\n",
       "</table>\n",
       "<p>5 rows × 23 columns</p>\n",
       "</div>"
      ],
      "text/plain": [
       "  edibility cap_shape cap_surface cap_color  bruises    odor gill_attachment  \\\n",
       "0    EDIBLE    CONVEX      SMOOTH     WHITE  BRUISES  ALMOND            FREE   \n",
       "1    EDIBLE    CONVEX      SMOOTH     WHITE  BRUISES  ALMOND            FREE   \n",
       "2    EDIBLE    CONVEX      SMOOTH     WHITE  BRUISES  ALMOND            FREE   \n",
       "3    EDIBLE    CONVEX      SMOOTH     WHITE  BRUISES  ALMOND            FREE   \n",
       "4    EDIBLE    CONVEX      SMOOTH     WHITE  BRUISES  ALMOND            FREE   \n",
       "\n",
       "  gill_spacing gill_size gill_color  ... stalk_surface_below_ring  \\\n",
       "0      CROWDED    NARROW      WHITE  ...                   SMOOTH   \n",
       "1      CROWDED    NARROW      WHITE  ...                   SMOOTH   \n",
       "2      CROWDED    NARROW       PINK  ...                   SMOOTH   \n",
       "3      CROWDED    NARROW       PINK  ...                   SMOOTH   \n",
       "4      CROWDED    NARROW      BROWN  ...                   SMOOTH   \n",
       "\n",
       "  stalk_color_above_ring stalk_color_below_ring veil_type veil_color  \\\n",
       "0                  WHITE                  WHITE   PARTIAL      WHITE   \n",
       "1                  WHITE                  WHITE   PARTIAL      WHITE   \n",
       "2                  WHITE                  WHITE   PARTIAL      WHITE   \n",
       "3                  WHITE                  WHITE   PARTIAL      WHITE   \n",
       "4                  WHITE                  WHITE   PARTIAL      WHITE   \n",
       "\n",
       "  ring_number ring_type spore_print_color population habitat  \n",
       "0         ONE   PENDANT            PURPLE    SEVERAL   WOODS  \n",
       "1         ONE   PENDANT             BROWN    SEVERAL   WOODS  \n",
       "2         ONE   PENDANT            PURPLE    SEVERAL   WOODS  \n",
       "3         ONE   PENDANT             BROWN    SEVERAL   WOODS  \n",
       "4         ONE   PENDANT            PURPLE    SEVERAL   WOODS  \n",
       "\n",
       "[5 rows x 23 columns]"
      ]
     },
     "execution_count": 3,
     "metadata": {},
     "output_type": "execute_result"
    }
   ],
   "source": [
    "# implement descriptive column names\n",
    "column_names = ['edibility','cap_shape', 'cap_surface', 'cap_color', 'bruises', \n",
    "                'odor', 'gill_attachment', 'gill_spacing', 'gill_size', 'gill_color', \n",
    "                'stalk_shape', 'stalk_root', 'stalk_surface_above_ring', 'stalk_surface_below_ring', \n",
    "                'stalk_color_above_ring', 'stalk_color_below_ring', 'veil_type', 'veil_color', \n",
    "                'ring_number', 'ring_type', 'spore_print_color', 'population','habitat']\n",
    "train.columns = column_names\n",
    "train = train.drop(train[train.isnull().any(axis=1)].index)\n",
    "train.head()"
   ]
  },
  {
   "cell_type": "code",
   "execution_count": 4,
   "id": "780d1e9c",
   "metadata": {},
   "outputs": [],
   "source": [
    "# get dummy variables for two-level response\n",
    "def var_transform (data):\n",
    "    data['edibility']=data['edibility'].apply(lambda x: 1 if x=='EDIBLE' else 0)\n",
    "    data['odor']=data['odor'].apply(lambda x: 0 if x=='ALMOND' or x=='ANISE' else 1)\n",
    "    # put further variable transformation here \n",
    "    return data"
   ]
  },
  {
   "cell_type": "code",
   "execution_count": 5,
   "id": "b440e35d",
   "metadata": {
    "scrolled": true
   },
   "outputs": [
    {
     "data": {
      "text/html": [
       "<div>\n",
       "<style scoped>\n",
       "    .dataframe tbody tr th:only-of-type {\n",
       "        vertical-align: middle;\n",
       "    }\n",
       "\n",
       "    .dataframe tbody tr th {\n",
       "        vertical-align: top;\n",
       "    }\n",
       "\n",
       "    .dataframe thead th {\n",
       "        text-align: right;\n",
       "    }\n",
       "</style>\n",
       "<table border=\"1\" class=\"dataframe\">\n",
       "  <thead>\n",
       "    <tr style=\"text-align: right;\">\n",
       "      <th></th>\n",
       "      <th>edibility</th>\n",
       "      <th>cap_shape</th>\n",
       "      <th>cap_surface</th>\n",
       "      <th>cap_color</th>\n",
       "      <th>bruises</th>\n",
       "      <th>odor</th>\n",
       "      <th>gill_attachment</th>\n",
       "      <th>gill_spacing</th>\n",
       "      <th>gill_size</th>\n",
       "      <th>gill_color</th>\n",
       "      <th>...</th>\n",
       "      <th>stalk_surface_below_ring</th>\n",
       "      <th>stalk_color_above_ring</th>\n",
       "      <th>stalk_color_below_ring</th>\n",
       "      <th>veil_type</th>\n",
       "      <th>veil_color</th>\n",
       "      <th>ring_number</th>\n",
       "      <th>ring_type</th>\n",
       "      <th>spore_print_color</th>\n",
       "      <th>population</th>\n",
       "      <th>habitat</th>\n",
       "    </tr>\n",
       "  </thead>\n",
       "  <tbody>\n",
       "    <tr>\n",
       "      <th>0</th>\n",
       "      <td>1</td>\n",
       "      <td>CONVEX</td>\n",
       "      <td>SMOOTH</td>\n",
       "      <td>WHITE</td>\n",
       "      <td>BRUISES</td>\n",
       "      <td>0</td>\n",
       "      <td>FREE</td>\n",
       "      <td>CROWDED</td>\n",
       "      <td>NARROW</td>\n",
       "      <td>WHITE</td>\n",
       "      <td>...</td>\n",
       "      <td>SMOOTH</td>\n",
       "      <td>WHITE</td>\n",
       "      <td>WHITE</td>\n",
       "      <td>PARTIAL</td>\n",
       "      <td>WHITE</td>\n",
       "      <td>ONE</td>\n",
       "      <td>PENDANT</td>\n",
       "      <td>PURPLE</td>\n",
       "      <td>SEVERAL</td>\n",
       "      <td>WOODS</td>\n",
       "    </tr>\n",
       "    <tr>\n",
       "      <th>1</th>\n",
       "      <td>1</td>\n",
       "      <td>CONVEX</td>\n",
       "      <td>SMOOTH</td>\n",
       "      <td>WHITE</td>\n",
       "      <td>BRUISES</td>\n",
       "      <td>0</td>\n",
       "      <td>FREE</td>\n",
       "      <td>CROWDED</td>\n",
       "      <td>NARROW</td>\n",
       "      <td>WHITE</td>\n",
       "      <td>...</td>\n",
       "      <td>SMOOTH</td>\n",
       "      <td>WHITE</td>\n",
       "      <td>WHITE</td>\n",
       "      <td>PARTIAL</td>\n",
       "      <td>WHITE</td>\n",
       "      <td>ONE</td>\n",
       "      <td>PENDANT</td>\n",
       "      <td>BROWN</td>\n",
       "      <td>SEVERAL</td>\n",
       "      <td>WOODS</td>\n",
       "    </tr>\n",
       "  </tbody>\n",
       "</table>\n",
       "<p>2 rows × 23 columns</p>\n",
       "</div>"
      ],
      "text/plain": [
       "   edibility cap_shape cap_surface cap_color  bruises  odor gill_attachment  \\\n",
       "0          1    CONVEX      SMOOTH     WHITE  BRUISES     0            FREE   \n",
       "1          1    CONVEX      SMOOTH     WHITE  BRUISES     0            FREE   \n",
       "\n",
       "  gill_spacing gill_size gill_color  ... stalk_surface_below_ring  \\\n",
       "0      CROWDED    NARROW      WHITE  ...                   SMOOTH   \n",
       "1      CROWDED    NARROW      WHITE  ...                   SMOOTH   \n",
       "\n",
       "  stalk_color_above_ring stalk_color_below_ring veil_type veil_color  \\\n",
       "0                  WHITE                  WHITE   PARTIAL      WHITE   \n",
       "1                  WHITE                  WHITE   PARTIAL      WHITE   \n",
       "\n",
       "  ring_number ring_type spore_print_color population habitat  \n",
       "0         ONE   PENDANT            PURPLE    SEVERAL   WOODS  \n",
       "1         ONE   PENDANT             BROWN    SEVERAL   WOODS  \n",
       "\n",
       "[2 rows x 23 columns]"
      ]
     },
     "execution_count": 5,
     "metadata": {},
     "output_type": "execute_result"
    }
   ],
   "source": [
    "var_transform(train).head(2)"
   ]
  },
  {
   "cell_type": "code",
   "execution_count": 6,
   "id": "df4c75ee",
   "metadata": {},
   "outputs": [],
   "source": [
    "#Creating training and test datasets\n",
    "np.random.seed(2)\n",
    "splitted_train = train.sample(round(train.shape[0]*0.8))\n",
    "test = train.drop(splitted_train.index)\n",
    "train = splitted_train"
   ]
  },
  {
   "cell_type": "code",
   "execution_count": 7,
   "id": "1d986919",
   "metadata": {
    "scrolled": true
   },
   "outputs": [
    {
     "name": "stdout",
     "output_type": "stream",
     "text": [
      "(6733, 23)\n",
      "(1683, 23)\n"
     ]
    }
   ],
   "source": [
    "print(train.shape)\n",
    "print(test.shape)"
   ]
  },
  {
   "cell_type": "code",
   "execution_count": 38,
   "id": "7c82af7e",
   "metadata": {
    "scrolled": true
   },
   "outputs": [
    {
     "data": {
      "text/plain": [
       "BROAD     4702\n",
       "NARROW    2031\n",
       "Name: gill_size, dtype: int64"
      ]
     },
     "execution_count": 38,
     "metadata": {},
     "output_type": "execute_result"
    }
   ],
   "source": [
    "train.gill_size.value_counts()"
   ]
  },
  {
   "cell_type": "code",
   "execution_count": 39,
   "id": "e872cbae",
   "metadata": {
    "scrolled": true
   },
   "outputs": [
    {
     "data": {
      "text/plain": [
       "WOODS      2520\n",
       "GRASSES    1944\n",
       "PATHS       922\n",
       "LEAVES      681\n",
       "URBAN       290\n",
       "MEADOWS     228\n",
       "WASTE       148\n",
       "Name: habitat, dtype: int64"
      ]
     },
     "execution_count": 39,
     "metadata": {},
     "output_type": "execute_result"
    }
   ],
   "source": [
    "train.habitat.value_counts()"
   ]
  },
  {
   "cell_type": "code",
   "execution_count": 40,
   "id": "fe5ec212",
   "metadata": {
    "scrolled": true
   },
   "outputs": [
    {
     "data": {
      "text/plain": [
       "SEVERAL      3247\n",
       "SOLITARY     1371\n",
       "SCATTERED    1109\n",
       "ABUNDANT      411\n",
       "NUMEROUS      322\n",
       "CLUSTERED     273\n",
       "Name: population, dtype: int64"
      ]
     },
     "execution_count": 40,
     "metadata": {},
     "output_type": "execute_result"
    }
   ],
   "source": [
    "train.population.value_counts()"
   ]
  },
  {
   "cell_type": "code",
   "execution_count": 41,
   "id": "0d587f0e",
   "metadata": {
    "scrolled": true
   },
   "outputs": [
    {
     "data": {
      "text/plain": [
       "CONVEX     3076\n",
       "FLAT       2605\n",
       "KNOBBED     670\n",
       "BELL        354\n",
       "SUNKEN       25\n",
       "CONICAL       3\n",
       "Name: cap_shape, dtype: int64"
      ]
     },
     "execution_count": 41,
     "metadata": {},
     "output_type": "execute_result"
    }
   ],
   "source": [
    "train.cap_shape.value_counts()"
   ]
  },
  {
   "cell_type": "code",
   "execution_count": 46,
   "id": "deb8c273",
   "metadata": {},
   "outputs": [
    {
     "data": {
      "text/plain": [
       "NO         4048\n",
       "BRUISES    2685\n",
       "Name: bruises, dtype: int64"
      ]
     },
     "execution_count": 46,
     "metadata": {},
     "output_type": "execute_result"
    }
   ],
   "source": [
    "train.bruises.value_counts()"
   ]
  },
  {
   "cell_type": "code",
   "execution_count": 128,
   "id": "6fc9868c",
   "metadata": {},
   "outputs": [],
   "source": [
    "X1 = train[['odor','habitat','gill_size','population','bruises']]\n",
    "X2 = train[['habitat','gill_size','population','bruises','gill_spacing','cap_surface','cap_color']]\n",
    "X = train[['habitat','population','gill_size','bruises','gill_spacing','cap_surface','cap_color','ring_number','veil_type','stalk_surface_above_ring','gill_spacing','gill_attachment']]"
   ]
  },
  {
   "cell_type": "markdown",
   "id": "56a82b63",
   "metadata": {},
   "source": [
    "- Most variables DO NOT work independenly or when adding on top another predictor. We might need futher feature engineering to get the problem solved."
   ]
  },
  {
   "cell_type": "code",
   "execution_count": 129,
   "id": "fb8000b4",
   "metadata": {},
   "outputs": [],
   "source": [
    "#Function to develop a model based on all predictors in predictor_subset\n",
    "def processSubset(predictor_subset):\n",
    "    # Fit model on feature_set and calculate R-squared\n",
    "    model = sm.logit(formula = 'edibility~'+ '+'.join(predictor_subset), data = train).fit()\n",
    "    #calculate accuracy\n",
    "    pred_values = model.predict(train)\n",
    "    bins=np.array([0,cutoff,1])\n",
    "    cm = np.histogram2d(train.edibility, pred_values, bins=bins)[0]\n",
    "    cm_df = pd.DataFrame(cm)\n",
    "    cm_df.columns = ['Predicted 0','Predicted 1']\n",
    "    cm_df = cm_df.rename(index={0: 'Actual 0',1:'Actual 1'})\n",
    "    accuracy = (cm[0,0]+cm[1,1])/cm.sum()\n",
    "\n",
    "    return {\"model\":model, \"accuracy\":accuracy}"
   ]
  },
  {
   "cell_type": "code",
   "execution_count": 130,
   "id": "d89c26fe",
   "metadata": {},
   "outputs": [],
   "source": [
    "#Function to select the best model amongst all models with 'k' predictors\n",
    "def getBest_model(k):\n",
    "    tic = time.time()\n",
    "    results = []\n",
    "    for combo in itertools.combinations(X.columns, k):\n",
    "        results.append(processSubset((list(combo))))\n",
    "    # Wrap everything up in a dataframe\n",
    "    models = pd.DataFrame(results)\n",
    "    # Choose the model with the highest RSS\n",
    "    best_model = models.loc[models['accuracy'].argmax()]\n",
    "    toc = time.time()\n",
    "    print(\"Processed\", models.shape[0], \"models on\", k, \"predictors in\", (toc-tic), \"seconds.\")\n",
    "    return best_model"
   ]
  },
  {
   "cell_type": "code",
   "execution_count": 131,
   "id": "ec6eb52a",
   "metadata": {},
   "outputs": [
    {
     "name": "stdout",
     "output_type": "stream",
     "text": [
      "Warning: Maximum number of iterations has been exceeded.\n",
      "         Current function value: 0.582508\n",
      "         Iterations: 35\n",
      "Warning: Maximum number of iterations has been exceeded.\n",
      "         Current function value: 0.543111\n",
      "         Iterations: 35\n",
      "Optimization terminated successfully.\n",
      "         Current function value: 0.531600\n",
      "         Iterations 6\n",
      "Optimization terminated successfully.\n",
      "         Current function value: 0.577099\n",
      "         Iterations 5\n",
      "Optimization terminated successfully.\n",
      "         Current function value: 0.603369\n",
      "         Iterations 7\n",
      "Warning: Maximum number of iterations has been exceeded.\n",
      "         Current function value: 0.668321\n",
      "         Iterations: 35\n",
      "Warning: Maximum number of iterations has been exceeded.\n",
      "         Current function value: inf\n",
      "         Iterations: 35\n"
     ]
    },
    {
     "name": "stderr",
     "output_type": "stream",
     "text": [
      "/Users/lucyhan/opt/anaconda3/lib/python3.9/site-packages/statsmodels/base/model.py:604: ConvergenceWarning: Maximum Likelihood optimization failed to converge. Check mle_retvals\n",
      "  warnings.warn(\"Maximum Likelihood optimization failed to \"\n",
      "/Users/lucyhan/opt/anaconda3/lib/python3.9/site-packages/statsmodels/base/model.py:604: ConvergenceWarning: Maximum Likelihood optimization failed to converge. Check mle_retvals\n",
      "  warnings.warn(\"Maximum Likelihood optimization failed to \"\n",
      "/Users/lucyhan/opt/anaconda3/lib/python3.9/site-packages/statsmodels/base/model.py:604: ConvergenceWarning: Maximum Likelihood optimization failed to converge. Check mle_retvals\n",
      "  warnings.warn(\"Maximum Likelihood optimization failed to \"\n",
      "/Users/lucyhan/opt/anaconda3/lib/python3.9/site-packages/statsmodels/discrete/discrete_model.py:1819: RuntimeWarning: overflow encountered in exp\n",
      "  return 1/(1+np.exp(-X))\n",
      "/Users/lucyhan/opt/anaconda3/lib/python3.9/site-packages/statsmodels/discrete/discrete_model.py:1872: RuntimeWarning: divide by zero encountered in log\n",
      "  return np.sum(np.log(self.cdf(q*np.dot(X,params))))\n"
     ]
    },
    {
     "ename": "LinAlgError",
     "evalue": "Singular matrix",
     "output_type": "error",
     "traceback": [
      "\u001b[0;31m---------------------------------------------------------------------------\u001b[0m",
      "\u001b[0;31mLinAlgError\u001b[0m                               Traceback (most recent call last)",
      "Input \u001b[0;32mIn [131]\u001b[0m, in \u001b[0;36m<cell line: 5>\u001b[0;34m()\u001b[0m\n\u001b[1;32m      4\u001b[0m tic \u001b[38;5;241m=\u001b[39m time\u001b[38;5;241m.\u001b[39mtime()\n\u001b[1;32m      5\u001b[0m \u001b[38;5;28;01mfor\u001b[39;00m i \u001b[38;5;129;01min\u001b[39;00m \u001b[38;5;28mrange\u001b[39m(\u001b[38;5;241m1\u001b[39m,\u001b[38;5;241m1\u001b[39m\u001b[38;5;241m+\u001b[39mX\u001b[38;5;241m.\u001b[39mshape[\u001b[38;5;241m1\u001b[39m]):\n\u001b[0;32m----> 6\u001b[0m     models_best\u001b[38;5;241m.\u001b[39mloc[i] \u001b[38;5;241m=\u001b[39m \u001b[43mgetBest_model\u001b[49m\u001b[43m(\u001b[49m\u001b[43mi\u001b[49m\u001b[43m)\u001b[49m\n\u001b[1;32m      8\u001b[0m toc \u001b[38;5;241m=\u001b[39m time\u001b[38;5;241m.\u001b[39mtime()\n\u001b[1;32m      9\u001b[0m \u001b[38;5;28mprint\u001b[39m(\u001b[38;5;124m\"\u001b[39m\u001b[38;5;124mTotal elapsed time:\u001b[39m\u001b[38;5;124m\"\u001b[39m, (toc\u001b[38;5;241m-\u001b[39mtic), \u001b[38;5;124m\"\u001b[39m\u001b[38;5;124mseconds.\u001b[39m\u001b[38;5;124m\"\u001b[39m)\n",
      "Input \u001b[0;32mIn [130]\u001b[0m, in \u001b[0;36mgetBest_model\u001b[0;34m(k)\u001b[0m\n\u001b[1;32m      4\u001b[0m results \u001b[38;5;241m=\u001b[39m []\n\u001b[1;32m      5\u001b[0m \u001b[38;5;28;01mfor\u001b[39;00m combo \u001b[38;5;129;01min\u001b[39;00m itertools\u001b[38;5;241m.\u001b[39mcombinations(X\u001b[38;5;241m.\u001b[39mcolumns, k):\n\u001b[0;32m----> 6\u001b[0m     results\u001b[38;5;241m.\u001b[39mappend(\u001b[43mprocessSubset\u001b[49m\u001b[43m(\u001b[49m\u001b[43m(\u001b[49m\u001b[38;5;28;43mlist\u001b[39;49m\u001b[43m(\u001b[49m\u001b[43mcombo\u001b[49m\u001b[43m)\u001b[49m\u001b[43m)\u001b[49m\u001b[43m)\u001b[49m)\n\u001b[1;32m      7\u001b[0m \u001b[38;5;66;03m# Wrap everything up in a dataframe\u001b[39;00m\n\u001b[1;32m      8\u001b[0m models \u001b[38;5;241m=\u001b[39m pd\u001b[38;5;241m.\u001b[39mDataFrame(results)\n",
      "Input \u001b[0;32mIn [129]\u001b[0m, in \u001b[0;36mprocessSubset\u001b[0;34m(predictor_subset)\u001b[0m\n\u001b[1;32m      2\u001b[0m \u001b[38;5;28;01mdef\u001b[39;00m \u001b[38;5;21mprocessSubset\u001b[39m(predictor_subset):\n\u001b[1;32m      3\u001b[0m     \u001b[38;5;66;03m# Fit model on feature_set and calculate R-squared\u001b[39;00m\n\u001b[0;32m----> 4\u001b[0m     model \u001b[38;5;241m=\u001b[39m \u001b[43msm\u001b[49m\u001b[38;5;241;43m.\u001b[39;49m\u001b[43mlogit\u001b[49m\u001b[43m(\u001b[49m\u001b[43mformula\u001b[49m\u001b[43m \u001b[49m\u001b[38;5;241;43m=\u001b[39;49m\u001b[43m \u001b[49m\u001b[38;5;124;43m'\u001b[39;49m\u001b[38;5;124;43medibility~\u001b[39;49m\u001b[38;5;124;43m'\u001b[39;49m\u001b[38;5;241;43m+\u001b[39;49m\u001b[43m \u001b[49m\u001b[38;5;124;43m'\u001b[39;49m\u001b[38;5;124;43m+\u001b[39;49m\u001b[38;5;124;43m'\u001b[39;49m\u001b[38;5;241;43m.\u001b[39;49m\u001b[43mjoin\u001b[49m\u001b[43m(\u001b[49m\u001b[43mpredictor_subset\u001b[49m\u001b[43m)\u001b[49m\u001b[43m,\u001b[49m\u001b[43m \u001b[49m\u001b[43mdata\u001b[49m\u001b[43m \u001b[49m\u001b[38;5;241;43m=\u001b[39;49m\u001b[43m \u001b[49m\u001b[43mtrain\u001b[49m\u001b[43m)\u001b[49m\u001b[38;5;241;43m.\u001b[39;49m\u001b[43mfit\u001b[49m\u001b[43m(\u001b[49m\u001b[43m)\u001b[49m\n\u001b[1;32m      5\u001b[0m     \u001b[38;5;66;03m#calculate accuracy\u001b[39;00m\n\u001b[1;32m      6\u001b[0m     pred_values \u001b[38;5;241m=\u001b[39m model\u001b[38;5;241m.\u001b[39mpredict(train)\n",
      "File \u001b[0;32m~/opt/anaconda3/lib/python3.9/site-packages/statsmodels/discrete/discrete_model.py:1983\u001b[0m, in \u001b[0;36mLogit.fit\u001b[0;34m(self, start_params, method, maxiter, full_output, disp, callback, **kwargs)\u001b[0m\n\u001b[1;32m   1980\u001b[0m \u001b[38;5;129m@Appender\u001b[39m(DiscreteModel\u001b[38;5;241m.\u001b[39mfit\u001b[38;5;241m.\u001b[39m\u001b[38;5;18m__doc__\u001b[39m)\n\u001b[1;32m   1981\u001b[0m \u001b[38;5;28;01mdef\u001b[39;00m \u001b[38;5;21mfit\u001b[39m(\u001b[38;5;28mself\u001b[39m, start_params\u001b[38;5;241m=\u001b[39m\u001b[38;5;28;01mNone\u001b[39;00m, method\u001b[38;5;241m=\u001b[39m\u001b[38;5;124m'\u001b[39m\u001b[38;5;124mnewton\u001b[39m\u001b[38;5;124m'\u001b[39m, maxiter\u001b[38;5;241m=\u001b[39m\u001b[38;5;241m35\u001b[39m,\n\u001b[1;32m   1982\u001b[0m         full_output\u001b[38;5;241m=\u001b[39m\u001b[38;5;241m1\u001b[39m, disp\u001b[38;5;241m=\u001b[39m\u001b[38;5;241m1\u001b[39m, callback\u001b[38;5;241m=\u001b[39m\u001b[38;5;28;01mNone\u001b[39;00m, \u001b[38;5;241m*\u001b[39m\u001b[38;5;241m*\u001b[39mkwargs):\n\u001b[0;32m-> 1983\u001b[0m     bnryfit \u001b[38;5;241m=\u001b[39m \u001b[38;5;28;43msuper\u001b[39;49m\u001b[43m(\u001b[49m\u001b[43m)\u001b[49m\u001b[38;5;241;43m.\u001b[39;49m\u001b[43mfit\u001b[49m\u001b[43m(\u001b[49m\u001b[43mstart_params\u001b[49m\u001b[38;5;241;43m=\u001b[39;49m\u001b[43mstart_params\u001b[49m\u001b[43m,\u001b[49m\n\u001b[1;32m   1984\u001b[0m \u001b[43m                          \u001b[49m\u001b[43mmethod\u001b[49m\u001b[38;5;241;43m=\u001b[39;49m\u001b[43mmethod\u001b[49m\u001b[43m,\u001b[49m\n\u001b[1;32m   1985\u001b[0m \u001b[43m                          \u001b[49m\u001b[43mmaxiter\u001b[49m\u001b[38;5;241;43m=\u001b[39;49m\u001b[43mmaxiter\u001b[49m\u001b[43m,\u001b[49m\n\u001b[1;32m   1986\u001b[0m \u001b[43m                          \u001b[49m\u001b[43mfull_output\u001b[49m\u001b[38;5;241;43m=\u001b[39;49m\u001b[43mfull_output\u001b[49m\u001b[43m,\u001b[49m\n\u001b[1;32m   1987\u001b[0m \u001b[43m                          \u001b[49m\u001b[43mdisp\u001b[49m\u001b[38;5;241;43m=\u001b[39;49m\u001b[43mdisp\u001b[49m\u001b[43m,\u001b[49m\n\u001b[1;32m   1988\u001b[0m \u001b[43m                          \u001b[49m\u001b[43mcallback\u001b[49m\u001b[38;5;241;43m=\u001b[39;49m\u001b[43mcallback\u001b[49m\u001b[43m,\u001b[49m\n\u001b[1;32m   1989\u001b[0m \u001b[43m                          \u001b[49m\u001b[38;5;241;43m*\u001b[39;49m\u001b[38;5;241;43m*\u001b[39;49m\u001b[43mkwargs\u001b[49m\u001b[43m)\u001b[49m\n\u001b[1;32m   1991\u001b[0m     discretefit \u001b[38;5;241m=\u001b[39m LogitResults(\u001b[38;5;28mself\u001b[39m, bnryfit)\n\u001b[1;32m   1992\u001b[0m     \u001b[38;5;28;01mreturn\u001b[39;00m BinaryResultsWrapper(discretefit)\n",
      "File \u001b[0;32m~/opt/anaconda3/lib/python3.9/site-packages/statsmodels/discrete/discrete_model.py:230\u001b[0m, in \u001b[0;36mDiscreteModel.fit\u001b[0;34m(self, start_params, method, maxiter, full_output, disp, callback, **kwargs)\u001b[0m\n\u001b[1;32m    227\u001b[0m \u001b[38;5;28;01melse\u001b[39;00m:\n\u001b[1;32m    228\u001b[0m     \u001b[38;5;28;01mpass\u001b[39;00m  \u001b[38;5;66;03m# TODO: make a function factory to have multiple call-backs\u001b[39;00m\n\u001b[0;32m--> 230\u001b[0m mlefit \u001b[38;5;241m=\u001b[39m \u001b[38;5;28;43msuper\u001b[39;49m\u001b[43m(\u001b[49m\u001b[43m)\u001b[49m\u001b[38;5;241;43m.\u001b[39;49m\u001b[43mfit\u001b[49m\u001b[43m(\u001b[49m\u001b[43mstart_params\u001b[49m\u001b[38;5;241;43m=\u001b[39;49m\u001b[43mstart_params\u001b[49m\u001b[43m,\u001b[49m\n\u001b[1;32m    231\u001b[0m \u001b[43m                     \u001b[49m\u001b[43mmethod\u001b[49m\u001b[38;5;241;43m=\u001b[39;49m\u001b[43mmethod\u001b[49m\u001b[43m,\u001b[49m\n\u001b[1;32m    232\u001b[0m \u001b[43m                     \u001b[49m\u001b[43mmaxiter\u001b[49m\u001b[38;5;241;43m=\u001b[39;49m\u001b[43mmaxiter\u001b[49m\u001b[43m,\u001b[49m\n\u001b[1;32m    233\u001b[0m \u001b[43m                     \u001b[49m\u001b[43mfull_output\u001b[49m\u001b[38;5;241;43m=\u001b[39;49m\u001b[43mfull_output\u001b[49m\u001b[43m,\u001b[49m\n\u001b[1;32m    234\u001b[0m \u001b[43m                     \u001b[49m\u001b[43mdisp\u001b[49m\u001b[38;5;241;43m=\u001b[39;49m\u001b[43mdisp\u001b[49m\u001b[43m,\u001b[49m\n\u001b[1;32m    235\u001b[0m \u001b[43m                     \u001b[49m\u001b[43mcallback\u001b[49m\u001b[38;5;241;43m=\u001b[39;49m\u001b[43mcallback\u001b[49m\u001b[43m,\u001b[49m\n\u001b[1;32m    236\u001b[0m \u001b[43m                     \u001b[49m\u001b[38;5;241;43m*\u001b[39;49m\u001b[38;5;241;43m*\u001b[39;49m\u001b[43mkwargs\u001b[49m\u001b[43m)\u001b[49m\n\u001b[1;32m    238\u001b[0m \u001b[38;5;28;01mreturn\u001b[39;00m mlefit\n",
      "File \u001b[0;32m~/opt/anaconda3/lib/python3.9/site-packages/statsmodels/base/model.py:579\u001b[0m, in \u001b[0;36mLikelihoodModel.fit\u001b[0;34m(self, start_params, method, maxiter, full_output, disp, fargs, callback, retall, skip_hessian, **kwargs)\u001b[0m\n\u001b[1;32m    577\u001b[0m     Hinv \u001b[38;5;241m=\u001b[39m cov_params_func(\u001b[38;5;28mself\u001b[39m, xopt, retvals)\n\u001b[1;32m    578\u001b[0m \u001b[38;5;28;01melif\u001b[39;00m method \u001b[38;5;241m==\u001b[39m \u001b[38;5;124m'\u001b[39m\u001b[38;5;124mnewton\u001b[39m\u001b[38;5;124m'\u001b[39m \u001b[38;5;129;01mand\u001b[39;00m full_output:\n\u001b[0;32m--> 579\u001b[0m     Hinv \u001b[38;5;241m=\u001b[39m \u001b[43mnp\u001b[49m\u001b[38;5;241;43m.\u001b[39;49m\u001b[43mlinalg\u001b[49m\u001b[38;5;241;43m.\u001b[39;49m\u001b[43minv\u001b[49m\u001b[43m(\u001b[49m\u001b[38;5;241;43m-\u001b[39;49m\u001b[43mretvals\u001b[49m\u001b[43m[\u001b[49m\u001b[38;5;124;43m'\u001b[39;49m\u001b[38;5;124;43mHessian\u001b[39;49m\u001b[38;5;124;43m'\u001b[39;49m\u001b[43m]\u001b[49m\u001b[43m)\u001b[49m \u001b[38;5;241m/\u001b[39m nobs\n\u001b[1;32m    580\u001b[0m \u001b[38;5;28;01melif\u001b[39;00m \u001b[38;5;129;01mnot\u001b[39;00m skip_hessian:\n\u001b[1;32m    581\u001b[0m     H \u001b[38;5;241m=\u001b[39m \u001b[38;5;241m-\u001b[39m\u001b[38;5;241m1\u001b[39m \u001b[38;5;241m*\u001b[39m \u001b[38;5;28mself\u001b[39m\u001b[38;5;241m.\u001b[39mhessian(xopt)\n",
      "File \u001b[0;32m<__array_function__ internals>:5\u001b[0m, in \u001b[0;36minv\u001b[0;34m(*args, **kwargs)\u001b[0m\n",
      "File \u001b[0;32m~/opt/anaconda3/lib/python3.9/site-packages/numpy/linalg/linalg.py:545\u001b[0m, in \u001b[0;36minv\u001b[0;34m(a)\u001b[0m\n\u001b[1;32m    543\u001b[0m signature \u001b[38;5;241m=\u001b[39m \u001b[38;5;124m'\u001b[39m\u001b[38;5;124mD->D\u001b[39m\u001b[38;5;124m'\u001b[39m \u001b[38;5;28;01mif\u001b[39;00m isComplexType(t) \u001b[38;5;28;01melse\u001b[39;00m \u001b[38;5;124m'\u001b[39m\u001b[38;5;124md->d\u001b[39m\u001b[38;5;124m'\u001b[39m\n\u001b[1;32m    544\u001b[0m extobj \u001b[38;5;241m=\u001b[39m get_linalg_error_extobj(_raise_linalgerror_singular)\n\u001b[0;32m--> 545\u001b[0m ainv \u001b[38;5;241m=\u001b[39m \u001b[43m_umath_linalg\u001b[49m\u001b[38;5;241;43m.\u001b[39;49m\u001b[43minv\u001b[49m\u001b[43m(\u001b[49m\u001b[43ma\u001b[49m\u001b[43m,\u001b[49m\u001b[43m \u001b[49m\u001b[43msignature\u001b[49m\u001b[38;5;241;43m=\u001b[39;49m\u001b[43msignature\u001b[49m\u001b[43m,\u001b[49m\u001b[43m \u001b[49m\u001b[43mextobj\u001b[49m\u001b[38;5;241;43m=\u001b[39;49m\u001b[43mextobj\u001b[49m\u001b[43m)\u001b[49m\n\u001b[1;32m    546\u001b[0m \u001b[38;5;28;01mreturn\u001b[39;00m wrap(ainv\u001b[38;5;241m.\u001b[39mastype(result_t, copy\u001b[38;5;241m=\u001b[39m\u001b[38;5;28;01mFalse\u001b[39;00m))\n",
      "File \u001b[0;32m~/opt/anaconda3/lib/python3.9/site-packages/numpy/linalg/linalg.py:88\u001b[0m, in \u001b[0;36m_raise_linalgerror_singular\u001b[0;34m(err, flag)\u001b[0m\n\u001b[1;32m     87\u001b[0m \u001b[38;5;28;01mdef\u001b[39;00m \u001b[38;5;21m_raise_linalgerror_singular\u001b[39m(err, flag):\n\u001b[0;32m---> 88\u001b[0m     \u001b[38;5;28;01mraise\u001b[39;00m LinAlgError(\u001b[38;5;124m\"\u001b[39m\u001b[38;5;124mSingular matrix\u001b[39m\u001b[38;5;124m\"\u001b[39m)\n",
      "\u001b[0;31mLinAlgError\u001b[0m: Singular matrix"
     ]
    }
   ],
   "source": [
    "#Function to select the best model amongst the best models for 'k' predictors, where k = 1,2,3,..\n",
    "models_best = pd.DataFrame(columns=[\"accuracy\", \"model\"])\n",
    "\n",
    "tic = time.time()\n",
    "for i in range(1,1+X.shape[1]):\n",
    "    models_best.loc[i] = getBest_model(i)\n",
    "\n",
    "toc = time.time()\n",
    "print(\"Total elapsed time:\", (toc-tic), \"seconds.\")"
   ]
  },
  {
   "cell_type": "code",
   "execution_count": null,
   "id": "4af8df02",
   "metadata": {},
   "outputs": [],
   "source": []
  },
  {
   "cell_type": "markdown",
   "id": "6fd11935",
   "metadata": {},
   "source": [
    "# Forward selection"
   ]
  },
  {
   "cell_type": "code",
   "execution_count": 136,
   "id": "ce3f357b",
   "metadata": {},
   "outputs": [],
   "source": [
    "#Function to find the best predictor out of p-k predictors and add it to the model containing the k predictors\n",
    "def forward(predictors):\n",
    "    # Pull out predictors we still need to process\n",
    "    remaining_predictors = [p for p in X.columns if p not in predictors]\n",
    "    tic = time.time()\n",
    "    results = []\n",
    "    for p in remaining_predictors:\n",
    "        results.append(processSubset(predictors+[p]))\n",
    "    # Wrap everything up in a nice dataframe\n",
    "    models = pd.DataFrame(results)\n",
    "    # Choose the model with the highest classification accuracy\n",
    "    best_model = models.loc[models['accuracy'].argmax()]\n",
    "    \n",
    "    toc = time.time()\n",
    "    print(\"Processed \", models.shape[0], \"models on\", len(predictors)+1, \"predictors in\", (toc-tic), \"seconds.\")\n",
    "    \n",
    "    # Return the best model, along with some other useful information about the model\n",
    "    return best_model"
   ]
  },
  {
   "cell_type": "code",
   "execution_count": 137,
   "id": "ceb561ba",
   "metadata": {},
   "outputs": [],
   "source": [
    "def forward_selection():\n",
    "    models_best = pd.DataFrame(columns=[\"accuracy\", \"model\"])\n",
    "\n",
    "    tic = time.time()\n",
    "    predictors = []\n",
    "\n",
    "    for i in range(1,len(X.columns)+1):    \n",
    "        models_best.loc[i] = forward(predictors)\n",
    "        predictors = list(models_best.loc[i][\"model\"].params.index[1:])\n",
    "\n",
    "    toc = time.time()\n",
    "    print(\"Total elapsed time:\", (toc-tic), \"seconds.\")\n",
    "    return models_best"
   ]
  },
  {
   "cell_type": "code",
   "execution_count": 138,
   "id": "22103dbd",
   "metadata": {},
   "outputs": [
    {
     "name": "stdout",
     "output_type": "stream",
     "text": [
      "Warning: Maximum number of iterations has been exceeded.\n",
      "         Current function value: 0.582508\n",
      "         Iterations: 35\n",
      "Warning: Maximum number of iterations has been exceeded.\n",
      "         Current function value: 0.543111\n",
      "         Iterations: 35\n",
      "Optimization terminated successfully.\n",
      "         Current function value: 0.531600\n",
      "         Iterations 6\n",
      "Optimization terminated successfully.\n",
      "         Current function value: 0.577099\n",
      "         Iterations 5\n",
      "Optimization terminated successfully.\n",
      "         Current function value: 0.603369\n",
      "         Iterations 7\n",
      "Warning: Maximum number of iterations has been exceeded.\n",
      "         Current function value: 0.668321\n",
      "         Iterations: 35\n",
      "Warning: Maximum number of iterations has been exceeded.\n",
      "         Current function value: inf\n",
      "         Iterations: 35\n"
     ]
    },
    {
     "name": "stderr",
     "output_type": "stream",
     "text": [
      "/Users/lucyhan/opt/anaconda3/lib/python3.9/site-packages/statsmodels/base/model.py:604: ConvergenceWarning: Maximum Likelihood optimization failed to converge. Check mle_retvals\n",
      "  warnings.warn(\"Maximum Likelihood optimization failed to \"\n",
      "/Users/lucyhan/opt/anaconda3/lib/python3.9/site-packages/statsmodels/base/model.py:604: ConvergenceWarning: Maximum Likelihood optimization failed to converge. Check mle_retvals\n",
      "  warnings.warn(\"Maximum Likelihood optimization failed to \"\n",
      "/Users/lucyhan/opt/anaconda3/lib/python3.9/site-packages/statsmodels/base/model.py:604: ConvergenceWarning: Maximum Likelihood optimization failed to converge. Check mle_retvals\n",
      "  warnings.warn(\"Maximum Likelihood optimization failed to \"\n",
      "/Users/lucyhan/opt/anaconda3/lib/python3.9/site-packages/statsmodels/discrete/discrete_model.py:1819: RuntimeWarning: overflow encountered in exp\n",
      "  return 1/(1+np.exp(-X))\n",
      "/Users/lucyhan/opt/anaconda3/lib/python3.9/site-packages/statsmodels/discrete/discrete_model.py:1872: RuntimeWarning: divide by zero encountered in log\n",
      "  return np.sum(np.log(self.cdf(q*np.dot(X,params))))\n"
     ]
    },
    {
     "ename": "LinAlgError",
     "evalue": "Singular matrix",
     "output_type": "error",
     "traceback": [
      "\u001b[0;31m---------------------------------------------------------------------------\u001b[0m",
      "\u001b[0;31mLinAlgError\u001b[0m                               Traceback (most recent call last)",
      "Input \u001b[0;32mIn [138]\u001b[0m, in \u001b[0;36m<cell line: 1>\u001b[0;34m()\u001b[0m\n\u001b[0;32m----> 1\u001b[0m models_best \u001b[38;5;241m=\u001b[39m \u001b[43mforward_selection\u001b[49m\u001b[43m(\u001b[49m\u001b[43m)\u001b[49m\n",
      "Input \u001b[0;32mIn [137]\u001b[0m, in \u001b[0;36mforward_selection\u001b[0;34m()\u001b[0m\n\u001b[1;32m      5\u001b[0m predictors \u001b[38;5;241m=\u001b[39m []\n\u001b[1;32m      7\u001b[0m \u001b[38;5;28;01mfor\u001b[39;00m i \u001b[38;5;129;01min\u001b[39;00m \u001b[38;5;28mrange\u001b[39m(\u001b[38;5;241m1\u001b[39m,\u001b[38;5;28mlen\u001b[39m(X\u001b[38;5;241m.\u001b[39mcolumns)\u001b[38;5;241m+\u001b[39m\u001b[38;5;241m1\u001b[39m):    \n\u001b[0;32m----> 8\u001b[0m     models_best\u001b[38;5;241m.\u001b[39mloc[i] \u001b[38;5;241m=\u001b[39m \u001b[43mforward\u001b[49m\u001b[43m(\u001b[49m\u001b[43mpredictors\u001b[49m\u001b[43m)\u001b[49m\n\u001b[1;32m      9\u001b[0m     predictors \u001b[38;5;241m=\u001b[39m \u001b[38;5;28mlist\u001b[39m(models_best\u001b[38;5;241m.\u001b[39mloc[i][\u001b[38;5;124m\"\u001b[39m\u001b[38;5;124mmodel\u001b[39m\u001b[38;5;124m\"\u001b[39m]\u001b[38;5;241m.\u001b[39mparams\u001b[38;5;241m.\u001b[39mindex[\u001b[38;5;241m1\u001b[39m:])\n\u001b[1;32m     11\u001b[0m toc \u001b[38;5;241m=\u001b[39m time\u001b[38;5;241m.\u001b[39mtime()\n",
      "Input \u001b[0;32mIn [136]\u001b[0m, in \u001b[0;36mforward\u001b[0;34m(predictors)\u001b[0m\n\u001b[1;32m      6\u001b[0m results \u001b[38;5;241m=\u001b[39m []\n\u001b[1;32m      7\u001b[0m \u001b[38;5;28;01mfor\u001b[39;00m p \u001b[38;5;129;01min\u001b[39;00m remaining_predictors:\n\u001b[0;32m----> 8\u001b[0m     results\u001b[38;5;241m.\u001b[39mappend(\u001b[43mprocessSubset\u001b[49m\u001b[43m(\u001b[49m\u001b[43mpredictors\u001b[49m\u001b[38;5;241;43m+\u001b[39;49m\u001b[43m[\u001b[49m\u001b[43mp\u001b[49m\u001b[43m]\u001b[49m\u001b[43m)\u001b[49m)\n\u001b[1;32m      9\u001b[0m \u001b[38;5;66;03m# Wrap everything up in a nice dataframe\u001b[39;00m\n\u001b[1;32m     10\u001b[0m models \u001b[38;5;241m=\u001b[39m pd\u001b[38;5;241m.\u001b[39mDataFrame(results)\n",
      "Input \u001b[0;32mIn [129]\u001b[0m, in \u001b[0;36mprocessSubset\u001b[0;34m(predictor_subset)\u001b[0m\n\u001b[1;32m      2\u001b[0m \u001b[38;5;28;01mdef\u001b[39;00m \u001b[38;5;21mprocessSubset\u001b[39m(predictor_subset):\n\u001b[1;32m      3\u001b[0m     \u001b[38;5;66;03m# Fit model on feature_set and calculate R-squared\u001b[39;00m\n\u001b[0;32m----> 4\u001b[0m     model \u001b[38;5;241m=\u001b[39m \u001b[43msm\u001b[49m\u001b[38;5;241;43m.\u001b[39;49m\u001b[43mlogit\u001b[49m\u001b[43m(\u001b[49m\u001b[43mformula\u001b[49m\u001b[43m \u001b[49m\u001b[38;5;241;43m=\u001b[39;49m\u001b[43m \u001b[49m\u001b[38;5;124;43m'\u001b[39;49m\u001b[38;5;124;43medibility~\u001b[39;49m\u001b[38;5;124;43m'\u001b[39;49m\u001b[38;5;241;43m+\u001b[39;49m\u001b[43m \u001b[49m\u001b[38;5;124;43m'\u001b[39;49m\u001b[38;5;124;43m+\u001b[39;49m\u001b[38;5;124;43m'\u001b[39;49m\u001b[38;5;241;43m.\u001b[39;49m\u001b[43mjoin\u001b[49m\u001b[43m(\u001b[49m\u001b[43mpredictor_subset\u001b[49m\u001b[43m)\u001b[49m\u001b[43m,\u001b[49m\u001b[43m \u001b[49m\u001b[43mdata\u001b[49m\u001b[43m \u001b[49m\u001b[38;5;241;43m=\u001b[39;49m\u001b[43m \u001b[49m\u001b[43mtrain\u001b[49m\u001b[43m)\u001b[49m\u001b[38;5;241;43m.\u001b[39;49m\u001b[43mfit\u001b[49m\u001b[43m(\u001b[49m\u001b[43m)\u001b[49m\n\u001b[1;32m      5\u001b[0m     \u001b[38;5;66;03m#calculate accuracy\u001b[39;00m\n\u001b[1;32m      6\u001b[0m     pred_values \u001b[38;5;241m=\u001b[39m model\u001b[38;5;241m.\u001b[39mpredict(train)\n",
      "File \u001b[0;32m~/opt/anaconda3/lib/python3.9/site-packages/statsmodels/discrete/discrete_model.py:1983\u001b[0m, in \u001b[0;36mLogit.fit\u001b[0;34m(self, start_params, method, maxiter, full_output, disp, callback, **kwargs)\u001b[0m\n\u001b[1;32m   1980\u001b[0m \u001b[38;5;129m@Appender\u001b[39m(DiscreteModel\u001b[38;5;241m.\u001b[39mfit\u001b[38;5;241m.\u001b[39m\u001b[38;5;18m__doc__\u001b[39m)\n\u001b[1;32m   1981\u001b[0m \u001b[38;5;28;01mdef\u001b[39;00m \u001b[38;5;21mfit\u001b[39m(\u001b[38;5;28mself\u001b[39m, start_params\u001b[38;5;241m=\u001b[39m\u001b[38;5;28;01mNone\u001b[39;00m, method\u001b[38;5;241m=\u001b[39m\u001b[38;5;124m'\u001b[39m\u001b[38;5;124mnewton\u001b[39m\u001b[38;5;124m'\u001b[39m, maxiter\u001b[38;5;241m=\u001b[39m\u001b[38;5;241m35\u001b[39m,\n\u001b[1;32m   1982\u001b[0m         full_output\u001b[38;5;241m=\u001b[39m\u001b[38;5;241m1\u001b[39m, disp\u001b[38;5;241m=\u001b[39m\u001b[38;5;241m1\u001b[39m, callback\u001b[38;5;241m=\u001b[39m\u001b[38;5;28;01mNone\u001b[39;00m, \u001b[38;5;241m*\u001b[39m\u001b[38;5;241m*\u001b[39mkwargs):\n\u001b[0;32m-> 1983\u001b[0m     bnryfit \u001b[38;5;241m=\u001b[39m \u001b[38;5;28;43msuper\u001b[39;49m\u001b[43m(\u001b[49m\u001b[43m)\u001b[49m\u001b[38;5;241;43m.\u001b[39;49m\u001b[43mfit\u001b[49m\u001b[43m(\u001b[49m\u001b[43mstart_params\u001b[49m\u001b[38;5;241;43m=\u001b[39;49m\u001b[43mstart_params\u001b[49m\u001b[43m,\u001b[49m\n\u001b[1;32m   1984\u001b[0m \u001b[43m                          \u001b[49m\u001b[43mmethod\u001b[49m\u001b[38;5;241;43m=\u001b[39;49m\u001b[43mmethod\u001b[49m\u001b[43m,\u001b[49m\n\u001b[1;32m   1985\u001b[0m \u001b[43m                          \u001b[49m\u001b[43mmaxiter\u001b[49m\u001b[38;5;241;43m=\u001b[39;49m\u001b[43mmaxiter\u001b[49m\u001b[43m,\u001b[49m\n\u001b[1;32m   1986\u001b[0m \u001b[43m                          \u001b[49m\u001b[43mfull_output\u001b[49m\u001b[38;5;241;43m=\u001b[39;49m\u001b[43mfull_output\u001b[49m\u001b[43m,\u001b[49m\n\u001b[1;32m   1987\u001b[0m \u001b[43m                          \u001b[49m\u001b[43mdisp\u001b[49m\u001b[38;5;241;43m=\u001b[39;49m\u001b[43mdisp\u001b[49m\u001b[43m,\u001b[49m\n\u001b[1;32m   1988\u001b[0m \u001b[43m                          \u001b[49m\u001b[43mcallback\u001b[49m\u001b[38;5;241;43m=\u001b[39;49m\u001b[43mcallback\u001b[49m\u001b[43m,\u001b[49m\n\u001b[1;32m   1989\u001b[0m \u001b[43m                          \u001b[49m\u001b[38;5;241;43m*\u001b[39;49m\u001b[38;5;241;43m*\u001b[39;49m\u001b[43mkwargs\u001b[49m\u001b[43m)\u001b[49m\n\u001b[1;32m   1991\u001b[0m     discretefit \u001b[38;5;241m=\u001b[39m LogitResults(\u001b[38;5;28mself\u001b[39m, bnryfit)\n\u001b[1;32m   1992\u001b[0m     \u001b[38;5;28;01mreturn\u001b[39;00m BinaryResultsWrapper(discretefit)\n",
      "File \u001b[0;32m~/opt/anaconda3/lib/python3.9/site-packages/statsmodels/discrete/discrete_model.py:230\u001b[0m, in \u001b[0;36mDiscreteModel.fit\u001b[0;34m(self, start_params, method, maxiter, full_output, disp, callback, **kwargs)\u001b[0m\n\u001b[1;32m    227\u001b[0m \u001b[38;5;28;01melse\u001b[39;00m:\n\u001b[1;32m    228\u001b[0m     \u001b[38;5;28;01mpass\u001b[39;00m  \u001b[38;5;66;03m# TODO: make a function factory to have multiple call-backs\u001b[39;00m\n\u001b[0;32m--> 230\u001b[0m mlefit \u001b[38;5;241m=\u001b[39m \u001b[38;5;28;43msuper\u001b[39;49m\u001b[43m(\u001b[49m\u001b[43m)\u001b[49m\u001b[38;5;241;43m.\u001b[39;49m\u001b[43mfit\u001b[49m\u001b[43m(\u001b[49m\u001b[43mstart_params\u001b[49m\u001b[38;5;241;43m=\u001b[39;49m\u001b[43mstart_params\u001b[49m\u001b[43m,\u001b[49m\n\u001b[1;32m    231\u001b[0m \u001b[43m                     \u001b[49m\u001b[43mmethod\u001b[49m\u001b[38;5;241;43m=\u001b[39;49m\u001b[43mmethod\u001b[49m\u001b[43m,\u001b[49m\n\u001b[1;32m    232\u001b[0m \u001b[43m                     \u001b[49m\u001b[43mmaxiter\u001b[49m\u001b[38;5;241;43m=\u001b[39;49m\u001b[43mmaxiter\u001b[49m\u001b[43m,\u001b[49m\n\u001b[1;32m    233\u001b[0m \u001b[43m                     \u001b[49m\u001b[43mfull_output\u001b[49m\u001b[38;5;241;43m=\u001b[39;49m\u001b[43mfull_output\u001b[49m\u001b[43m,\u001b[49m\n\u001b[1;32m    234\u001b[0m \u001b[43m                     \u001b[49m\u001b[43mdisp\u001b[49m\u001b[38;5;241;43m=\u001b[39;49m\u001b[43mdisp\u001b[49m\u001b[43m,\u001b[49m\n\u001b[1;32m    235\u001b[0m \u001b[43m                     \u001b[49m\u001b[43mcallback\u001b[49m\u001b[38;5;241;43m=\u001b[39;49m\u001b[43mcallback\u001b[49m\u001b[43m,\u001b[49m\n\u001b[1;32m    236\u001b[0m \u001b[43m                     \u001b[49m\u001b[38;5;241;43m*\u001b[39;49m\u001b[38;5;241;43m*\u001b[39;49m\u001b[43mkwargs\u001b[49m\u001b[43m)\u001b[49m\n\u001b[1;32m    238\u001b[0m \u001b[38;5;28;01mreturn\u001b[39;00m mlefit\n",
      "File \u001b[0;32m~/opt/anaconda3/lib/python3.9/site-packages/statsmodels/base/model.py:579\u001b[0m, in \u001b[0;36mLikelihoodModel.fit\u001b[0;34m(self, start_params, method, maxiter, full_output, disp, fargs, callback, retall, skip_hessian, **kwargs)\u001b[0m\n\u001b[1;32m    577\u001b[0m     Hinv \u001b[38;5;241m=\u001b[39m cov_params_func(\u001b[38;5;28mself\u001b[39m, xopt, retvals)\n\u001b[1;32m    578\u001b[0m \u001b[38;5;28;01melif\u001b[39;00m method \u001b[38;5;241m==\u001b[39m \u001b[38;5;124m'\u001b[39m\u001b[38;5;124mnewton\u001b[39m\u001b[38;5;124m'\u001b[39m \u001b[38;5;129;01mand\u001b[39;00m full_output:\n\u001b[0;32m--> 579\u001b[0m     Hinv \u001b[38;5;241m=\u001b[39m \u001b[43mnp\u001b[49m\u001b[38;5;241;43m.\u001b[39;49m\u001b[43mlinalg\u001b[49m\u001b[38;5;241;43m.\u001b[39;49m\u001b[43minv\u001b[49m\u001b[43m(\u001b[49m\u001b[38;5;241;43m-\u001b[39;49m\u001b[43mretvals\u001b[49m\u001b[43m[\u001b[49m\u001b[38;5;124;43m'\u001b[39;49m\u001b[38;5;124;43mHessian\u001b[39;49m\u001b[38;5;124;43m'\u001b[39;49m\u001b[43m]\u001b[49m\u001b[43m)\u001b[49m \u001b[38;5;241m/\u001b[39m nobs\n\u001b[1;32m    580\u001b[0m \u001b[38;5;28;01melif\u001b[39;00m \u001b[38;5;129;01mnot\u001b[39;00m skip_hessian:\n\u001b[1;32m    581\u001b[0m     H \u001b[38;5;241m=\u001b[39m \u001b[38;5;241m-\u001b[39m\u001b[38;5;241m1\u001b[39m \u001b[38;5;241m*\u001b[39m \u001b[38;5;28mself\u001b[39m\u001b[38;5;241m.\u001b[39mhessian(xopt)\n",
      "File \u001b[0;32m<__array_function__ internals>:5\u001b[0m, in \u001b[0;36minv\u001b[0;34m(*args, **kwargs)\u001b[0m\n",
      "File \u001b[0;32m~/opt/anaconda3/lib/python3.9/site-packages/numpy/linalg/linalg.py:545\u001b[0m, in \u001b[0;36minv\u001b[0;34m(a)\u001b[0m\n\u001b[1;32m    543\u001b[0m signature \u001b[38;5;241m=\u001b[39m \u001b[38;5;124m'\u001b[39m\u001b[38;5;124mD->D\u001b[39m\u001b[38;5;124m'\u001b[39m \u001b[38;5;28;01mif\u001b[39;00m isComplexType(t) \u001b[38;5;28;01melse\u001b[39;00m \u001b[38;5;124m'\u001b[39m\u001b[38;5;124md->d\u001b[39m\u001b[38;5;124m'\u001b[39m\n\u001b[1;32m    544\u001b[0m extobj \u001b[38;5;241m=\u001b[39m get_linalg_error_extobj(_raise_linalgerror_singular)\n\u001b[0;32m--> 545\u001b[0m ainv \u001b[38;5;241m=\u001b[39m \u001b[43m_umath_linalg\u001b[49m\u001b[38;5;241;43m.\u001b[39;49m\u001b[43minv\u001b[49m\u001b[43m(\u001b[49m\u001b[43ma\u001b[49m\u001b[43m,\u001b[49m\u001b[43m \u001b[49m\u001b[43msignature\u001b[49m\u001b[38;5;241;43m=\u001b[39;49m\u001b[43msignature\u001b[49m\u001b[43m,\u001b[49m\u001b[43m \u001b[49m\u001b[43mextobj\u001b[49m\u001b[38;5;241;43m=\u001b[39;49m\u001b[43mextobj\u001b[49m\u001b[43m)\u001b[49m\n\u001b[1;32m    546\u001b[0m \u001b[38;5;28;01mreturn\u001b[39;00m wrap(ainv\u001b[38;5;241m.\u001b[39mastype(result_t, copy\u001b[38;5;241m=\u001b[39m\u001b[38;5;28;01mFalse\u001b[39;00m))\n",
      "File \u001b[0;32m~/opt/anaconda3/lib/python3.9/site-packages/numpy/linalg/linalg.py:88\u001b[0m, in \u001b[0;36m_raise_linalgerror_singular\u001b[0;34m(err, flag)\u001b[0m\n\u001b[1;32m     87\u001b[0m \u001b[38;5;28;01mdef\u001b[39;00m \u001b[38;5;21m_raise_linalgerror_singular\u001b[39m(err, flag):\n\u001b[0;32m---> 88\u001b[0m     \u001b[38;5;28;01mraise\u001b[39;00m LinAlgError(\u001b[38;5;124m\"\u001b[39m\u001b[38;5;124mSingular matrix\u001b[39m\u001b[38;5;124m\"\u001b[39m)\n",
      "\u001b[0;31mLinAlgError\u001b[0m: Singular matrix"
     ]
    }
   ],
   "source": [
    "models_best = forward_selection()"
   ]
  },
  {
   "cell_type": "markdown",
   "id": "9e9ab342",
   "metadata": {},
   "source": [
    "# Model Performance"
   ]
  },
  {
   "cell_type": "code",
   "execution_count": 13,
   "id": "b351aef0",
   "metadata": {},
   "outputs": [],
   "source": [
    "#Function to compute confusion matrix and prediction accuracy\n",
    "def confusion_matrix_data(data,actual_values,model,cutoff=0.5):\n",
    "    pred_values = model.predict(data)\n",
    "    bins=np.array([0,cutoff,1])\n",
    "    cm = np.histogram2d(actual_values, pred_values, bins=bins)[0]\n",
    "    cm_df = pd.DataFrame(cm)\n",
    "    cm_df.columns = ['Predicted 0','Predicted 1']\n",
    "    cm_df = cm_df.rename(index={0: 'Actual 0',1:'Actual 1'})\n",
    "# Calculate the accuracy\n",
    "    accuracy = (cm[0,0]+cm[1,1])/cm.sum()\n",
    "    fnr = (cm[1,0])/(cm[1,0]+cm[1,1])\n",
    "    precision = (cm[1,1])/(cm[0,1]+cm[1,1])\n",
    "    fpr = (cm[0,1])/(cm[0,0]+cm[0,1])\n",
    "    tpr = (cm[1,1])/(cm[1,0]+cm[1,1])\n",
    "    fpr_roc, tpr_roc, auc_thresholds = roc_curve(actual_values, pred_values)\n",
    "    auc_value = (auc(fpr_roc, tpr_roc))# AUC of ROC\n",
    "    sns.heatmap(cm_df, annot=True, cmap='Blues', fmt='g')\n",
    "    plt.ylabel(\"Actual Values\")\n",
    "    plt.xlabel(\"Predicted Values\")\n",
    "    print(\"Classification accuracy = {:.1%}\".format(accuracy))\n",
    "    print(\"Precision = {:.1%}\".format(precision))\n",
    "    print(\"TPR or Recall = {:.1%}\".format(tpr))\n",
    "    print(\"FNR = {:.1%}\".format(fnr))\n",
    "    print(\"FPR = {:.1%}\".format(fpr))\n",
    "    print(\"ROC-AUC = {:.1%}\".format(auc_value))"
   ]
  },
  {
   "cell_type": "code",
   "execution_count": 96,
   "id": "61c0ee0b",
   "metadata": {},
   "outputs": [],
   "source": [
    "#model=sm.logit(formula='edibility~cap_shape+cap_surface+cap_color+bruises+gill_spacing+gill_size+stalk_color_above_ring',data=train).fit() \n",
    "#model.summary()"
   ]
  },
  {
   "cell_type": "code",
   "execution_count": null,
   "id": "6cc119d2",
   "metadata": {},
   "outputs": [],
   "source": [
    "column = ['edibility','cap_shape', 'cap_surface', 'cap_color', 'bruises', \n",
    "                'odor', 'gill_attachment', 'gill_spacing', 'gill_size', 'gill_color', \n",
    "                'stalk_shape', 'stalk_root', 'stalk_surface_above_ring', 'stalk_surface_below_ring', \n",
    "                'stalk_color_above_ring', 'stalk_color_below_ring', 'veil_type', 'veil_color', \n",
    "                'ring_number', 'ring_type', 'spore_print_color', 'population','habitat']"
   ]
  },
  {
   "cell_type": "code",
   "execution_count": 169,
   "id": "82f41e67",
   "metadata": {
    "scrolled": true
   },
   "outputs": [
    {
     "name": "stdout",
     "output_type": "stream",
     "text": [
      "Warning: Maximum number of iterations has been exceeded.\n",
      "         Current function value: 0.081606\n",
      "         Iterations: 35\n"
     ]
    },
    {
     "name": "stderr",
     "output_type": "stream",
     "text": [
      "/Users/lucyhan/opt/anaconda3/lib/python3.9/site-packages/statsmodels/base/model.py:604: ConvergenceWarning: Maximum Likelihood optimization failed to converge. Check mle_retvals\n",
      "  warnings.warn(\"Maximum Likelihood optimization failed to \"\n"
     ]
    },
    {
     "data": {
      "text/html": [
       "<table class=\"simpletable\">\n",
       "<caption>Logit Regression Results</caption>\n",
       "<tr>\n",
       "  <th>Dep. Variable:</th>       <td>edibility</td>    <th>  No. Observations:  </th>  <td>  6733</td> \n",
       "</tr>\n",
       "<tr>\n",
       "  <th>Model:</th>                 <td>Logit</td>      <th>  Df Residuals:      </th>  <td>  6700</td> \n",
       "</tr>\n",
       "<tr>\n",
       "  <th>Method:</th>                 <td>MLE</td>       <th>  Df Model:          </th>  <td>    32</td> \n",
       "</tr>\n",
       "<tr>\n",
       "  <th>Date:</th>            <td>Wed, 01 Mar 2023</td> <th>  Pseudo R-squ.:     </th>  <td>0.8818</td> \n",
       "</tr>\n",
       "<tr>\n",
       "  <th>Time:</th>                <td>15:22:42</td>     <th>  Log-Likelihood:    </th> <td> -549.46</td>\n",
       "</tr>\n",
       "<tr>\n",
       "  <th>converged:</th>             <td>False</td>      <th>  LL-Null:           </th> <td> -4648.2</td>\n",
       "</tr>\n",
       "<tr>\n",
       "  <th>Covariance Type:</th>     <td>nonrobust</td>    <th>  LLR p-value:       </th>  <td> 0.000</td> \n",
       "</tr>\n",
       "</table>\n",
       "<table class=\"simpletable\">\n",
       "<tr>\n",
       "                   <td></td>                     <th>coef</th>     <th>std err</th>      <th>z</th>      <th>P>|z|</th>  <th>[0.025</th>    <th>0.975]</th>  \n",
       "</tr>\n",
       "<tr>\n",
       "  <th>Intercept</th>                          <td>   22.3686</td> <td> 3.41e+05</td> <td> 6.56e-05</td> <td> 1.000</td> <td>-6.69e+05</td> <td> 6.69e+05</td>\n",
       "</tr>\n",
       "<tr>\n",
       "  <th>habitat[T.LEAVES]</th>                  <td>   -0.7751</td> <td>    0.557</td> <td>   -1.391</td> <td> 0.164</td> <td>   -1.867</td> <td>    0.317</td>\n",
       "</tr>\n",
       "<tr>\n",
       "  <th>habitat[T.MEADOWS]</th>                 <td>    0.7879</td> <td>    0.368</td> <td>    2.142</td> <td> 0.032</td> <td>    0.067</td> <td>    1.509</td>\n",
       "</tr>\n",
       "<tr>\n",
       "  <th>habitat[T.PATHS]</th>                   <td>   -1.0382</td> <td>    0.414</td> <td>   -2.507</td> <td> 0.012</td> <td>   -1.850</td> <td>   -0.227</td>\n",
       "</tr>\n",
       "<tr>\n",
       "  <th>habitat[T.URBAN]</th>                   <td>    0.8125</td> <td>    0.301</td> <td>    2.696</td> <td> 0.007</td> <td>    0.222</td> <td>    1.403</td>\n",
       "</tr>\n",
       "<tr>\n",
       "  <th>habitat[T.WASTE]</th>                   <td>   73.2672</td> <td>    1e+05</td> <td>    0.001</td> <td> 0.999</td> <td>-1.96e+05</td> <td> 1.96e+05</td>\n",
       "</tr>\n",
       "<tr>\n",
       "  <th>habitat[T.WOODS]</th>                   <td>   -0.3493</td> <td>    0.301</td> <td>   -1.161</td> <td> 0.246</td> <td>   -0.939</td> <td>    0.240</td>\n",
       "</tr>\n",
       "<tr>\n",
       "  <th>population[T.CLUSTERED]</th>            <td>  -55.5621</td> <td> 1.01e+05</td> <td>   -0.001</td> <td> 1.000</td> <td>-1.99e+05</td> <td> 1.99e+05</td>\n",
       "</tr>\n",
       "<tr>\n",
       "  <th>population[T.NUMEROUS]</th>             <td>    9.7820</td> <td> 2.25e+05</td> <td> 4.35e-05</td> <td> 1.000</td> <td>-4.41e+05</td> <td> 4.41e+05</td>\n",
       "</tr>\n",
       "<tr>\n",
       "  <th>population[T.SCATTERED]</th>            <td>  -19.5632</td> <td>  1.6e+04</td> <td>   -0.001</td> <td> 0.999</td> <td>-3.14e+04</td> <td> 3.14e+04</td>\n",
       "</tr>\n",
       "<tr>\n",
       "  <th>population[T.SEVERAL]</th>              <td>  -20.3130</td> <td>  1.6e+04</td> <td>   -0.001</td> <td> 0.999</td> <td>-3.14e+04</td> <td> 3.14e+04</td>\n",
       "</tr>\n",
       "<tr>\n",
       "  <th>population[T.SOLITARY]</th>             <td>  -17.2896</td> <td>  1.6e+04</td> <td>   -0.001</td> <td> 0.999</td> <td>-3.14e+04</td> <td> 3.14e+04</td>\n",
       "</tr>\n",
       "<tr>\n",
       "  <th>gill_size[T.NARROW]</th>                <td>   -6.4452</td> <td>    0.372</td> <td>  -17.309</td> <td> 0.000</td> <td>   -7.175</td> <td>   -5.715</td>\n",
       "</tr>\n",
       "<tr>\n",
       "  <th>bruises[T.NO]</th>                      <td>   -0.2621</td> <td>    0.320</td> <td>   -0.818</td> <td> 0.413</td> <td>   -0.890</td> <td>    0.366</td>\n",
       "</tr>\n",
       "<tr>\n",
       "  <th>gill_spacing[T.CROWDED]</th>            <td>    7.2945</td> <td>    0.419</td> <td>   17.399</td> <td> 0.000</td> <td>    6.473</td> <td>    8.116</td>\n",
       "</tr>\n",
       "<tr>\n",
       "  <th>cap_surface[T.GROOVES]</th>             <td>    3.9094</td> <td> 6.47e+05</td> <td> 6.05e-06</td> <td> 1.000</td> <td>-1.27e+06</td> <td> 1.27e+06</td>\n",
       "</tr>\n",
       "<tr>\n",
       "  <th>cap_surface[T.SCALY]</th>               <td>   -1.3854</td> <td>    0.285</td> <td>   -4.860</td> <td> 0.000</td> <td>   -1.944</td> <td>   -0.827</td>\n",
       "</tr>\n",
       "<tr>\n",
       "  <th>cap_surface[T.SMOOTH]</th>              <td>   -4.1487</td> <td>    0.331</td> <td>  -12.526</td> <td> 0.000</td> <td>   -4.798</td> <td>   -3.500</td>\n",
       "</tr>\n",
       "<tr>\n",
       "  <th>cap_color[T.BUFF]</th>                  <td>  -24.6596</td> <td> 2805.115</td> <td>   -0.009</td> <td> 0.993</td> <td>-5522.584</td> <td> 5473.265</td>\n",
       "</tr>\n",
       "<tr>\n",
       "  <th>cap_color[T.CINNAMON]</th>              <td>   15.2596</td> <td> 1336.529</td> <td>    0.011</td> <td> 0.991</td> <td>-2604.289</td> <td> 2634.808</td>\n",
       "</tr>\n",
       "<tr>\n",
       "  <th>cap_color[T.GRAY]</th>                  <td>   -1.6991</td> <td>    0.331</td> <td>   -5.140</td> <td> 0.000</td> <td>   -2.347</td> <td>   -1.051</td>\n",
       "</tr>\n",
       "<tr>\n",
       "  <th>cap_color[T.GREEN]</th>                 <td>   11.3852</td> <td>   27.107</td> <td>    0.420</td> <td> 0.674</td> <td>  -41.743</td> <td>   64.514</td>\n",
       "</tr>\n",
       "<tr>\n",
       "  <th>cap_color[T.PINK]</th>                  <td>   -8.3993</td> <td>    0.654</td> <td>  -12.833</td> <td> 0.000</td> <td>   -9.682</td> <td>   -7.117</td>\n",
       "</tr>\n",
       "<tr>\n",
       "  <th>cap_color[T.PURPLE]</th>                <td>   24.5644</td> <td> 2.13e+04</td> <td>    0.001</td> <td> 0.999</td> <td>-4.17e+04</td> <td> 4.18e+04</td>\n",
       "</tr>\n",
       "<tr>\n",
       "  <th>cap_color[T.RED]</th>                   <td>   -0.5093</td> <td>    0.406</td> <td>   -1.256</td> <td> 0.209</td> <td>   -1.304</td> <td>    0.286</td>\n",
       "</tr>\n",
       "<tr>\n",
       "  <th>cap_color[T.WHITE]</th>                 <td>   -2.5047</td> <td>    0.363</td> <td>   -6.910</td> <td> 0.000</td> <td>   -3.215</td> <td>   -1.794</td>\n",
       "</tr>\n",
       "<tr>\n",
       "  <th>cap_color[T.YELLOW]</th>                <td>   -0.7253</td> <td>    0.415</td> <td>   -1.749</td> <td> 0.080</td> <td>   -1.538</td> <td>    0.088</td>\n",
       "</tr>\n",
       "<tr>\n",
       "  <th>ring_number[T.ONE]</th>                 <td>   57.7463</td> <td> 3.26e+05</td> <td>    0.000</td> <td> 1.000</td> <td>-6.38e+05</td> <td> 6.38e+05</td>\n",
       "</tr>\n",
       "<tr>\n",
       "  <th>ring_number[T.TWO]</th>                 <td>   59.9942</td> <td> 3.26e+05</td> <td>    0.000</td> <td> 1.000</td> <td>-6.38e+05</td> <td> 6.38e+05</td>\n",
       "</tr>\n",
       "<tr>\n",
       "  <th>stalk_surface_above_ring[T.SCALY]</th>  <td>   22.3066</td> <td>    1e+05</td> <td>    0.000</td> <td> 1.000</td> <td>-1.96e+05</td> <td> 1.96e+05</td>\n",
       "</tr>\n",
       "<tr>\n",
       "  <th>stalk_surface_above_ring[T.SILKY]</th>  <td>   -6.8374</td> <td>    0.613</td> <td>  -11.158</td> <td> 0.000</td> <td>   -8.039</td> <td>   -5.636</td>\n",
       "</tr>\n",
       "<tr>\n",
       "  <th>stalk_surface_above_ring[T.SMOOTH]</th> <td>    2.9932</td> <td>    0.440</td> <td>    6.807</td> <td> 0.000</td> <td>    2.131</td> <td>    3.855</td>\n",
       "</tr>\n",
       "<tr>\n",
       "  <th>gill_attachment[T.FREE]</th>            <td>  -57.1460</td> <td>    1e+05</td> <td>   -0.001</td> <td> 1.000</td> <td>-1.97e+05</td> <td> 1.97e+05</td>\n",
       "</tr>\n",
       "</table><br/><br/>Possibly complete quasi-separation: A fraction 0.32 of observations can be<br/>perfectly predicted. This might indicate that there is complete<br/>quasi-separation. In this case some parameters will not be identified."
      ],
      "text/plain": [
       "<class 'statsmodels.iolib.summary.Summary'>\n",
       "\"\"\"\n",
       "                           Logit Regression Results                           \n",
       "==============================================================================\n",
       "Dep. Variable:              edibility   No. Observations:                 6733\n",
       "Model:                          Logit   Df Residuals:                     6700\n",
       "Method:                           MLE   Df Model:                           32\n",
       "Date:                Wed, 01 Mar 2023   Pseudo R-squ.:                  0.8818\n",
       "Time:                        15:22:42   Log-Likelihood:                -549.46\n",
       "converged:                      False   LL-Null:                       -4648.2\n",
       "Covariance Type:            nonrobust   LLR p-value:                     0.000\n",
       "======================================================================================================\n",
       "                                         coef    std err          z      P>|z|      [0.025      0.975]\n",
       "------------------------------------------------------------------------------------------------------\n",
       "Intercept                             22.3686   3.41e+05   6.56e-05      1.000   -6.69e+05    6.69e+05\n",
       "habitat[T.LEAVES]                     -0.7751      0.557     -1.391      0.164      -1.867       0.317\n",
       "habitat[T.MEADOWS]                     0.7879      0.368      2.142      0.032       0.067       1.509\n",
       "habitat[T.PATHS]                      -1.0382      0.414     -2.507      0.012      -1.850      -0.227\n",
       "habitat[T.URBAN]                       0.8125      0.301      2.696      0.007       0.222       1.403\n",
       "habitat[T.WASTE]                      73.2672      1e+05      0.001      0.999   -1.96e+05    1.96e+05\n",
       "habitat[T.WOODS]                      -0.3493      0.301     -1.161      0.246      -0.939       0.240\n",
       "population[T.CLUSTERED]              -55.5621   1.01e+05     -0.001      1.000   -1.99e+05    1.99e+05\n",
       "population[T.NUMEROUS]                 9.7820   2.25e+05   4.35e-05      1.000   -4.41e+05    4.41e+05\n",
       "population[T.SCATTERED]              -19.5632    1.6e+04     -0.001      0.999   -3.14e+04    3.14e+04\n",
       "population[T.SEVERAL]                -20.3130    1.6e+04     -0.001      0.999   -3.14e+04    3.14e+04\n",
       "population[T.SOLITARY]               -17.2896    1.6e+04     -0.001      0.999   -3.14e+04    3.14e+04\n",
       "gill_size[T.NARROW]                   -6.4452      0.372    -17.309      0.000      -7.175      -5.715\n",
       "bruises[T.NO]                         -0.2621      0.320     -0.818      0.413      -0.890       0.366\n",
       "gill_spacing[T.CROWDED]                7.2945      0.419     17.399      0.000       6.473       8.116\n",
       "cap_surface[T.GROOVES]                 3.9094   6.47e+05   6.05e-06      1.000   -1.27e+06    1.27e+06\n",
       "cap_surface[T.SCALY]                  -1.3854      0.285     -4.860      0.000      -1.944      -0.827\n",
       "cap_surface[T.SMOOTH]                 -4.1487      0.331    -12.526      0.000      -4.798      -3.500\n",
       "cap_color[T.BUFF]                    -24.6596   2805.115     -0.009      0.993   -5522.584    5473.265\n",
       "cap_color[T.CINNAMON]                 15.2596   1336.529      0.011      0.991   -2604.289    2634.808\n",
       "cap_color[T.GRAY]                     -1.6991      0.331     -5.140      0.000      -2.347      -1.051\n",
       "cap_color[T.GREEN]                    11.3852     27.107      0.420      0.674     -41.743      64.514\n",
       "cap_color[T.PINK]                     -8.3993      0.654    -12.833      0.000      -9.682      -7.117\n",
       "cap_color[T.PURPLE]                   24.5644   2.13e+04      0.001      0.999   -4.17e+04    4.18e+04\n",
       "cap_color[T.RED]                      -0.5093      0.406     -1.256      0.209      -1.304       0.286\n",
       "cap_color[T.WHITE]                    -2.5047      0.363     -6.910      0.000      -3.215      -1.794\n",
       "cap_color[T.YELLOW]                   -0.7253      0.415     -1.749      0.080      -1.538       0.088\n",
       "ring_number[T.ONE]                    57.7463   3.26e+05      0.000      1.000   -6.38e+05    6.38e+05\n",
       "ring_number[T.TWO]                    59.9942   3.26e+05      0.000      1.000   -6.38e+05    6.38e+05\n",
       "stalk_surface_above_ring[T.SCALY]     22.3066      1e+05      0.000      1.000   -1.96e+05    1.96e+05\n",
       "stalk_surface_above_ring[T.SILKY]     -6.8374      0.613    -11.158      0.000      -8.039      -5.636\n",
       "stalk_surface_above_ring[T.SMOOTH]     2.9932      0.440      6.807      0.000       2.131       3.855\n",
       "gill_attachment[T.FREE]              -57.1460      1e+05     -0.001      1.000   -1.97e+05    1.97e+05\n",
       "======================================================================================================\n",
       "\n",
       "Possibly complete quasi-separation: A fraction 0.32 of observations can be\n",
       "perfectly predicted. This might indicate that there is complete\n",
       "quasi-separation. In this case some parameters will not be identified.\n",
       "\"\"\""
      ]
     },
     "execution_count": 169,
     "metadata": {},
     "output_type": "execute_result"
    }
   ],
   "source": [
    "model_ma = sm.logit(formula = 'edibility~habitat+population+gill_size+bruises+gill_spacing+cap_surface+cap_color+ring_number+veil_type+gill_spacing+stalk_surface_above_ring+gill_attachment', data = train).fit()\n",
    "model_max.summary()"
   ]
  },
  {
   "cell_type": "code",
   "execution_count": 187,
   "id": "86abb88a",
   "metadata": {},
   "outputs": [
    {
     "name": "stdout",
     "output_type": "stream",
     "text": [
      "Warning: Maximum number of iterations has been exceeded.\n",
      "         Current function value: 0.088104\n",
      "         Iterations: 35\n"
     ]
    },
    {
     "name": "stderr",
     "output_type": "stream",
     "text": [
      "/Users/lucyhan/opt/anaconda3/lib/python3.9/site-packages/statsmodels/base/model.py:604: ConvergenceWarning: Maximum Likelihood optimization failed to converge. Check mle_retvals\n",
      "  warnings.warn(\"Maximum Likelihood optimization failed to \"\n"
     ]
    },
    {
     "data": {
      "text/html": [
       "<table class=\"simpletable\">\n",
       "<caption>Logit Regression Results</caption>\n",
       "<tr>\n",
       "  <th>Dep. Variable:</th>       <td>edibility</td>    <th>  No. Observations:  </th>  <td>  6733</td> \n",
       "</tr>\n",
       "<tr>\n",
       "  <th>Model:</th>                 <td>Logit</td>      <th>  Df Residuals:      </th>  <td>  6706</td> \n",
       "</tr>\n",
       "<tr>\n",
       "  <th>Method:</th>                 <td>MLE</td>       <th>  Df Model:          </th>  <td>    26</td> \n",
       "</tr>\n",
       "<tr>\n",
       "  <th>Date:</th>            <td>Wed, 01 Mar 2023</td> <th>  Pseudo R-squ.:     </th>  <td>0.8724</td> \n",
       "</tr>\n",
       "<tr>\n",
       "  <th>Time:</th>                <td>15:23:49</td>     <th>  Log-Likelihood:    </th> <td> -593.21</td>\n",
       "</tr>\n",
       "<tr>\n",
       "  <th>converged:</th>             <td>False</td>      <th>  LL-Null:           </th> <td> -4648.2</td>\n",
       "</tr>\n",
       "<tr>\n",
       "  <th>Covariance Type:</th>     <td>nonrobust</td>    <th>  LLR p-value:       </th>  <td> 0.000</td> \n",
       "</tr>\n",
       "</table>\n",
       "<table class=\"simpletable\">\n",
       "<tr>\n",
       "                   <td></td>                     <th>coef</th>     <th>std err</th>      <th>z</th>      <th>P>|z|</th>  <th>[0.025</th>    <th>0.975]</th>  \n",
       "</tr>\n",
       "<tr>\n",
       "  <th>Intercept</th>                          <td>  -83.2605</td> <td> 3.68e+06</td> <td>-2.26e-05</td> <td> 1.000</td> <td>-7.22e+06</td> <td> 7.22e+06</td>\n",
       "</tr>\n",
       "<tr>\n",
       "  <th>population[T.CLUSTERED]</th>            <td>  -30.7903</td> <td>      nan</td> <td>      nan</td> <td>   nan</td> <td>      nan</td> <td>      nan</td>\n",
       "</tr>\n",
       "<tr>\n",
       "  <th>population[T.NUMEROUS]</th>             <td>   -6.0245</td> <td>      nan</td> <td>      nan</td> <td>   nan</td> <td>      nan</td> <td>      nan</td>\n",
       "</tr>\n",
       "<tr>\n",
       "  <th>population[T.SCATTERED]</th>            <td>  -34.9038</td> <td>      nan</td> <td>      nan</td> <td>   nan</td> <td>      nan</td> <td>      nan</td>\n",
       "</tr>\n",
       "<tr>\n",
       "  <th>population[T.SEVERAL]</th>              <td>  -35.9498</td> <td>      nan</td> <td>      nan</td> <td>   nan</td> <td>      nan</td> <td>      nan</td>\n",
       "</tr>\n",
       "<tr>\n",
       "  <th>population[T.SOLITARY]</th>             <td>  -32.2112</td> <td>      nan</td> <td>      nan</td> <td>   nan</td> <td>      nan</td> <td>      nan</td>\n",
       "</tr>\n",
       "<tr>\n",
       "  <th>gill_size[T.NARROW]</th>                <td>   -6.4030</td> <td>    0.354</td> <td>  -18.103</td> <td> 0.000</td> <td>   -7.096</td> <td>   -5.710</td>\n",
       "</tr>\n",
       "<tr>\n",
       "  <th>bruises[T.NO]</th>                      <td>   -0.4682</td> <td>    0.296</td> <td>   -1.582</td> <td> 0.114</td> <td>   -1.048</td> <td>    0.112</td>\n",
       "</tr>\n",
       "<tr>\n",
       "  <th>cap_surface[T.GROOVES]</th>             <td>  -35.4660</td> <td> 3.72e+05</td> <td>-9.54e-05</td> <td> 1.000</td> <td>-7.29e+05</td> <td> 7.29e+05</td>\n",
       "</tr>\n",
       "<tr>\n",
       "  <th>cap_surface[T.SCALY]</th>               <td>   -2.0625</td> <td>    0.286</td> <td>   -7.209</td> <td> 0.000</td> <td>   -2.623</td> <td>   -1.502</td>\n",
       "</tr>\n",
       "<tr>\n",
       "  <th>cap_surface[T.SMOOTH]</th>              <td>   -3.9518</td> <td>    0.311</td> <td>  -12.691</td> <td> 0.000</td> <td>   -4.562</td> <td>   -3.342</td>\n",
       "</tr>\n",
       "<tr>\n",
       "  <th>cap_color[T.BUFF]</th>                  <td>   -8.5849</td> <td>    0.809</td> <td>  -10.617</td> <td> 0.000</td> <td>  -10.170</td> <td>   -7.000</td>\n",
       "</tr>\n",
       "<tr>\n",
       "  <th>cap_color[T.CINNAMON]</th>              <td>   69.0097</td> <td> 4.91e+11</td> <td>  1.4e-10</td> <td> 1.000</td> <td>-9.63e+11</td> <td> 9.63e+11</td>\n",
       "</tr>\n",
       "<tr>\n",
       "  <th>cap_color[T.GRAY]</th>                  <td>   -2.1462</td> <td>    0.325</td> <td>   -6.609</td> <td> 0.000</td> <td>   -2.783</td> <td>   -1.510</td>\n",
       "</tr>\n",
       "<tr>\n",
       "  <th>cap_color[T.GREEN]</th>                 <td>   14.8395</td> <td>  161.048</td> <td>    0.092</td> <td> 0.927</td> <td> -300.809</td> <td>  330.488</td>\n",
       "</tr>\n",
       "<tr>\n",
       "  <th>cap_color[T.PINK]</th>                  <td>   -8.8104</td> <td>    0.646</td> <td>  -13.635</td> <td> 0.000</td> <td>  -10.077</td> <td>   -7.544</td>\n",
       "</tr>\n",
       "<tr>\n",
       "  <th>cap_color[T.PURPLE]</th>                <td>   22.7971</td> <td> 9298.245</td> <td>    0.002</td> <td> 0.998</td> <td>-1.82e+04</td> <td> 1.82e+04</td>\n",
       "</tr>\n",
       "<tr>\n",
       "  <th>cap_color[T.RED]</th>                   <td>   -0.9461</td> <td>    0.383</td> <td>   -2.469</td> <td> 0.014</td> <td>   -1.697</td> <td>   -0.195</td>\n",
       "</tr>\n",
       "<tr>\n",
       "  <th>cap_color[T.WHITE]</th>                 <td>   -3.0451</td> <td>    0.356</td> <td>   -8.564</td> <td> 0.000</td> <td>   -3.742</td> <td>   -2.348</td>\n",
       "</tr>\n",
       "<tr>\n",
       "  <th>cap_color[T.YELLOW]</th>                <td>   -1.3986</td> <td>    0.400</td> <td>   -3.495</td> <td> 0.000</td> <td>   -2.183</td> <td>   -0.614</td>\n",
       "</tr>\n",
       "<tr>\n",
       "  <th>ring_number[T.ONE]</th>                 <td>  185.5483</td> <td> 3.08e+06</td> <td> 6.02e-05</td> <td> 1.000</td> <td>-6.04e+06</td> <td> 6.05e+06</td>\n",
       "</tr>\n",
       "<tr>\n",
       "  <th>ring_number[T.TWO]</th>                 <td>  189.0090</td> <td> 3.08e+06</td> <td> 6.13e-05</td> <td> 1.000</td> <td>-6.04e+06</td> <td> 6.05e+06</td>\n",
       "</tr>\n",
       "<tr>\n",
       "  <th>stalk_surface_above_ring[T.SCALY]</th>  <td>   -5.1479</td> <td>    0.850</td> <td>   -6.056</td> <td> 0.000</td> <td>   -6.814</td> <td>   -3.482</td>\n",
       "</tr>\n",
       "<tr>\n",
       "  <th>stalk_surface_above_ring[T.SILKY]</th>  <td>   -7.6550</td> <td>    0.567</td> <td>  -13.503</td> <td> 0.000</td> <td>   -8.766</td> <td>   -6.544</td>\n",
       "</tr>\n",
       "<tr>\n",
       "  <th>stalk_surface_above_ring[T.SMOOTH]</th> <td>    2.8967</td> <td>    0.391</td> <td>    7.408</td> <td> 0.000</td> <td>    2.130</td> <td>    3.663</td>\n",
       "</tr>\n",
       "<tr>\n",
       "  <th>gill_spacing[T.CROWDED]</th>            <td>    6.4892</td> <td>    0.347</td> <td>   18.710</td> <td> 0.000</td> <td>    5.809</td> <td>    7.169</td>\n",
       "</tr>\n",
       "<tr>\n",
       "  <th>gill_attachment[T.FREE]</th>            <td>  -63.0077</td> <td>      nan</td> <td>      nan</td> <td>   nan</td> <td>      nan</td> <td>      nan</td>\n",
       "</tr>\n",
       "</table><br/><br/>Possibly complete quasi-separation: A fraction 0.32 of observations can be<br/>perfectly predicted. This might indicate that there is complete<br/>quasi-separation. In this case some parameters will not be identified."
      ],
      "text/plain": [
       "<class 'statsmodels.iolib.summary.Summary'>\n",
       "\"\"\"\n",
       "                           Logit Regression Results                           \n",
       "==============================================================================\n",
       "Dep. Variable:              edibility   No. Observations:                 6733\n",
       "Model:                          Logit   Df Residuals:                     6706\n",
       "Method:                           MLE   Df Model:                           26\n",
       "Date:                Wed, 01 Mar 2023   Pseudo R-squ.:                  0.8724\n",
       "Time:                        15:23:49   Log-Likelihood:                -593.21\n",
       "converged:                      False   LL-Null:                       -4648.2\n",
       "Covariance Type:            nonrobust   LLR p-value:                     0.000\n",
       "======================================================================================================\n",
       "                                         coef    std err          z      P>|z|      [0.025      0.975]\n",
       "------------------------------------------------------------------------------------------------------\n",
       "Intercept                            -83.2605   3.68e+06  -2.26e-05      1.000   -7.22e+06    7.22e+06\n",
       "population[T.CLUSTERED]              -30.7903        nan        nan        nan         nan         nan\n",
       "population[T.NUMEROUS]                -6.0245        nan        nan        nan         nan         nan\n",
       "population[T.SCATTERED]              -34.9038        nan        nan        nan         nan         nan\n",
       "population[T.SEVERAL]                -35.9498        nan        nan        nan         nan         nan\n",
       "population[T.SOLITARY]               -32.2112        nan        nan        nan         nan         nan\n",
       "gill_size[T.NARROW]                   -6.4030      0.354    -18.103      0.000      -7.096      -5.710\n",
       "bruises[T.NO]                         -0.4682      0.296     -1.582      0.114      -1.048       0.112\n",
       "cap_surface[T.GROOVES]               -35.4660   3.72e+05  -9.54e-05      1.000   -7.29e+05    7.29e+05\n",
       "cap_surface[T.SCALY]                  -2.0625      0.286     -7.209      0.000      -2.623      -1.502\n",
       "cap_surface[T.SMOOTH]                 -3.9518      0.311    -12.691      0.000      -4.562      -3.342\n",
       "cap_color[T.BUFF]                     -8.5849      0.809    -10.617      0.000     -10.170      -7.000\n",
       "cap_color[T.CINNAMON]                 69.0097   4.91e+11    1.4e-10      1.000   -9.63e+11    9.63e+11\n",
       "cap_color[T.GRAY]                     -2.1462      0.325     -6.609      0.000      -2.783      -1.510\n",
       "cap_color[T.GREEN]                    14.8395    161.048      0.092      0.927    -300.809     330.488\n",
       "cap_color[T.PINK]                     -8.8104      0.646    -13.635      0.000     -10.077      -7.544\n",
       "cap_color[T.PURPLE]                   22.7971   9298.245      0.002      0.998   -1.82e+04    1.82e+04\n",
       "cap_color[T.RED]                      -0.9461      0.383     -2.469      0.014      -1.697      -0.195\n",
       "cap_color[T.WHITE]                    -3.0451      0.356     -8.564      0.000      -3.742      -2.348\n",
       "cap_color[T.YELLOW]                   -1.3986      0.400     -3.495      0.000      -2.183      -0.614\n",
       "ring_number[T.ONE]                   185.5483   3.08e+06   6.02e-05      1.000   -6.04e+06    6.05e+06\n",
       "ring_number[T.TWO]                   189.0090   3.08e+06   6.13e-05      1.000   -6.04e+06    6.05e+06\n",
       "stalk_surface_above_ring[T.SCALY]     -5.1479      0.850     -6.056      0.000      -6.814      -3.482\n",
       "stalk_surface_above_ring[T.SILKY]     -7.6550      0.567    -13.503      0.000      -8.766      -6.544\n",
       "stalk_surface_above_ring[T.SMOOTH]     2.8967      0.391      7.408      0.000       2.130       3.663\n",
       "gill_spacing[T.CROWDED]                6.4892      0.347     18.710      0.000       5.809       7.169\n",
       "gill_attachment[T.FREE]              -63.0077        nan        nan        nan         nan         nan\n",
       "======================================================================================================\n",
       "\n",
       "Possibly complete quasi-separation: A fraction 0.32 of observations can be\n",
       "perfectly predicted. This might indicate that there is complete\n",
       "quasi-separation. In this case some parameters will not be identified.\n",
       "\"\"\""
      ]
     },
     "execution_count": 187,
     "metadata": {},
     "output_type": "execute_result"
    }
   ],
   "source": [
    "model = sm.logit(formula = 'edibility~population+gill_size+bruises+cap_surface+cap_color+ring_number+stalk_surface_above_ring+gill_spacing+gill_attachment', data = train).fit()\n",
    "model.summary()"
   ]
  },
  {
   "cell_type": "code",
   "execution_count": 188,
   "id": "19da2cd4",
   "metadata": {},
   "outputs": [
    {
     "name": "stdout",
     "output_type": "stream",
     "text": [
      "Classification accuracy = 97.1%\n",
      "Precision = 97.0%\n",
      "TPR or Recall = 97.7%\n",
      "FNR = 2.3%\n",
      "FPR = 3.5%\n",
      "ROC-AUC = 99.4%\n"
     ]
    },
    {
     "data": {
      "image/png": "[encoded data removed]",
      "text/plain": [
       "<Figure size 432x288 with 2 Axes>"
      ]
     },
     "metadata": {
      "needs_background": "light"
     },
     "output_type": "display_data"
    }
   ],
   "source": [
    "confusion_matrix_data(train,train.edibility,model,0.5)"
   ]
  },
  {
   "cell_type": "markdown",
   "id": "97ae16ab",
   "metadata": {},
   "source": [
    "# Ridge Regression"
   ]
  },
  {
   "cell_type": "code",
   "execution_count": 20,
   "id": "d59b78cc",
   "metadata": {},
   "outputs": [],
   "source": [
    "#The tuning parameter lambda is referred as alpha in sklearn\n",
    "\n",
    "#Creating a range of values of the tuning parameter to visualize the ridge regression coefficients\n",
    "#for different values of the tuning parameter\n",
    "alphas = 10**np.linspace(10,-2,200)*0.5"
   ]
  },
  {
   "cell_type": "code",
   "execution_count": null,
   "id": "659d7bb8",
   "metadata": {},
   "outputs": [],
   "source": []
  }
 ],
 "metadata": {
  "kernelspec": {
   "display_name": "Python 3 (ipykernel)",
   "language": "python",
   "name": "python3"
  },
  "language_info": {
   "codemirror_mode": {
    "name": "ipython",
    "version": 3
   },
   "file_extension": ".py",
   "mimetype": "text/x-python",
   "name": "python",
   "nbconvert_exporter": "python",
   "pygments_lexer": "ipython3",
   "version": "3.9.12"
  }
 },
 "nbformat": 4,
 "nbformat_minor": 5
}
