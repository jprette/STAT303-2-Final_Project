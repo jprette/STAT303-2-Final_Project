{
 "cells": [
  {
   "cell_type": "code",
   "execution_count": null,
   "id": "33dd6c4c",
   "metadata": {
    "vscode": {
     "languageId": "json"
    }
   },
   "outputs": [],
   "source": [
    "---\n",
    "title: \"Project proposal\"\n",
    "format: \n",
    "  html:\n",
    "    toc: true\n",
    "    toc-title: Contents\n",
    "    code-fold: show\n",
    "    self-contained: true\n",
    "jupyter: python3\n",
    "---"
   ]
  },
  {
   "cell_type": "markdown",
   "id": "0116f49b",
   "metadata": {},
   "source": [
    "## Instructions {-}\n",
    "\n",
    "1. Please answer the following questions as part of your project proposal.\n",
    "\n",
    "2. Write your answers in the *Markdown* cells of the Jupyter notebook. You don't need to write any code, but if you want to, you may use the *Code* cells.\n",
    "\n",
    "3. Use [Quarto](https://quarto.org/docs/output-formats/html-basics.html) to print the *.ipynb* file as HTML. You will need to open the command prompt, navigate to the directory containing the file, and use the command: `quarto render filename.ipynb --to html`. Submit the HTML file.\n",
    "\n",
    "4. The project proposal is worth 8 points, and is due on **27th January 2023 at 11:59 pm**. \n",
    "\n",
    "5. You must make one submission as a group, and not individually.\n",
    "\n",
    "6. Each team member must have at least **one commit** on the team's github repository. No points will be awarded to the team member(s) with no commits.\n",
    "\n",
    "7. Share the link of your project's GitHub repository [here](https://docs.google.com/spreadsheets/d/1khao3unpj_vsx4kOSg_Zzo77YK1UWL2w73Oa0aAirOo/edit#gid=0)."
   ]
  },
  {
   "cell_type": "markdown",
   "id": "fe7ea9bb",
   "metadata": {},
   "source": [
    "# 1) Team name\n",
    "Mention your team name.\n",
    "\n",
    "*(0 points)*"
   ]
  },
  {
   "cell_type": "markdown",
   "id": "a0984d72",
   "metadata": {},
   "source": [
    "<b>Shake Shack</b>"
   ]
  },
  {
   "cell_type": "markdown",
   "id": "16fccc9b",
   "metadata": {},
   "source": [
    "# 2) Member names\n",
    "Mention the names of your team members.\n",
    "\n",
    "*(0 points)*"
   ]
  },
  {
   "cell_type": "markdown",
   "id": "4ec84cf2",
   "metadata": {},
   "source": [
    "<b>Chanel Sun, Lucy Han, Joseph Prette, Jackson Bremen</b>"
   ]
  },
  {
   "cell_type": "markdown",
   "id": "220a6528",
   "metadata": {},
   "source": [
    "# 3) Link to the GitHub repository\n",
    "Share the link of the team's project repository on GitHub.\n",
    "\n",
    "Also, put the link of your project's GitHub repository [here](https://docs.google.com/spreadsheets/d/1khao3unpj_vsx4kOSg_Zzo77YK1UWL2w73Oa0aAirOo/edit#gid=0).\n",
    "\n",
    "We believe there is no harm in having other teams view your GitHub repository. However, if you don't want anyone to see your team's work, you may make the repository *Private* and add your instructor and graduate TA as *Colloborators* in it.\n",
    "\n",
    "*(0 points)*"
   ]
  },
  {
   "cell_type": "markdown",
   "id": "9828b91c",
   "metadata": {},
   "source": [
    "<b>GitHub Repository: [GitHub Repository](https://github.com/jprette/STAT303-2_Project_Information_Superhighway)</b>"
   ]
  },
  {
   "cell_type": "markdown",
   "id": "16c1a490",
   "metadata": {},
   "source": [
    "# 4) Topic\n",
    "Mention the topic of your course project.\n",
    "\n",
    "*(0.25 points)*"
   ]
  },
  {
   "cell_type": "markdown",
   "id": "4a95d2f8",
   "metadata": {},
   "source": [
    "Classfication of Mushroom as Edible or Poisonous Based On Secondary Characteristics"
   ]
  },
  {
   "cell_type": "markdown",
   "id": "9403cdfb",
   "metadata": {},
   "source": [
    "# 5) Problem statement\n",
    "Explain the problem statement. The problem statement must include:\n",
    "\n",
    "1. The problem\n",
    "\n",
    "2. Is it a regression or classification problem or a combination of both?\n",
    "\n",
    "3. Is it an inference or prediction problem or a combination of both?\n",
    "\n",
    "4. How will you assess model accuracy?\n",
    "\n",
    "  - If it is a classification problem, then which measure(s) will you optimize for your model – precision, recall, false negative rate (FNR), accuracy, ROC-AUC etc., and why?\n",
    "  - If it is a regression problem, then which measure(s) will you optimize for your model – RMSE (Root mean squared error), MAE (mean absolute error), maximum absolute error etc., and why?\n",
    "\n",
    "5. What techniques do you think you may need to use to improve your model? If you have too many variables, some of which are  correlated or collinear, you may need to do variable selection *(techniques for variable selection that you will learn later in the course - stepwise regression, lasso, ridge regression)*. If the variables do not have a linear relationship with the response, or if some of the modeling assumptions are not satisfied, you may need to transform the predictors and/or the response (variable transformation) to obtain a better fit.\n",
    "\n",
    "*(5 points)*"
   ]
  },
  {
   "cell_type": "markdown",
   "id": "02a6a1a8",
   "metadata": {},
   "source": [
    "1.) We will be using a data set on mushroom secondary characterists and using them to determine wheter or not they are poisonous. We will be training the model using a portion of the data set found (see below), and using the remainder to test our accuracy.\n",
    "\n",
    "2.) This will be a classification problem as we are looking to determine a categorical variable of either 'Posionous' or 'Not Poisonous'.\n",
    "\n",
    "3.) Our results will be an inference as we are making a determination of something fully within the scope of our data, not looking forward to assess potential future.\n",
    "\n",
    "4.) Because of the nature of our problem, if we consider poisonous to be a 'positive' result, we will want to optimize the model to reduce the rate of false negatives (ie determining the musroom to be 'Not Poisonous' when in fact it is 'Poisonous') to ensure safety of our stakeholders.\n",
    "\n",
    "5.) At this time, we are not certain of the specific techniques that we will be utilizing to perform this analysis. Based on the large number of variables, we will likely need to do variable selection to determine which are most useful. Because our input variables will be categorical, we will need dummy variables."
   ]
  },
  {
   "cell_type": "markdown",
   "id": "3eb2d4f2",
   "metadata": {},
   "source": [
    "# 6) Data sources\n",
    "\n",
    "What data sources will you use, and how will the data help answer the questions? Explain.\n",
    "\n",
    "If the data is open source, share the link of the data.\n",
    "\n",
    "*(1 point)*"
   ]
  },
  {
   "cell_type": "markdown",
   "id": "2b147927",
   "metadata": {},
   "source": [
    "We used a public dataset from UC Irvin Machine Learning Repository. This dataset consists of descriptions of hypothetical samples corresponding to 23 species of gilled mushrooms in the Agaricus and Lepiota family with over 22 different attributes or characteristics of each species. Each species is identified as definitely edible, definitely poisonous, or of unknown edibility and not recommended. \n",
    "\n",
    "https://archive.ics.uci.edu/ml/datasets/Mushroom"
   ]
  },
  {
   "cell_type": "markdown",
   "id": "cb8a845f",
   "metadata": {},
   "source": [
    "# 7) Stakeholders"
   ]
  },
  {
   "cell_type": "markdown",
   "id": "d39c782c",
   "metadata": {},
   "source": [
    "Who are the stakeholders, and how will your project benefit them? Explain.\n",
    "\n",
    "*(1 point)*"
   ]
  },
  {
   "cell_type": "markdown",
   "id": "84db0d5f",
   "metadata": {},
   "source": [
    "Our stakeholders can be a lot of people - they can be mushroom lovers, restaurant cooks, or even people who are lost in the woods. Many instances where people were poisoned by mushrooms were either because people are confused between an edible species with a toxic one or they failed to cook mushrooms that have heat-liable toxins. Our project will help stakeholders to predict the probability that the mushrooms they have are poisonous or edible, with the purpose of keeping them safe and informed."
   ]
  },
  {
   "cell_type": "markdown",
   "id": "57e41b2a",
   "metadata": {},
   "source": [
    "# 8) Results\n",
    "What kind of results do you expect? \n",
    "\n",
    "How much accuracy is required / desired in your model (based on the metric(s) chosen in question 5), such that it is useful to the stakeholders and why?\n",
    "\n",
    "**Hint:** If it is a classification model, then your model must be at least better than random classification. If it is a regression model, then your model must be at least better than trivial models, such as the one with only the intercept term.\n",
    "\n",
    "*(0.5 point)*"
   ]
  },
  {
   "cell_type": "markdown",
   "id": "6bb3e71f",
   "metadata": {},
   "source": [
    "We would expect the model to be able to accurately classify a large percentage of mushrooms in the test set as either poisonous or edible. However, the data set includes an class \"of unknown edibility and not recommended\". This can complicate the classification problem as the model may not have enough information to make a confident prediction.\n",
    "\n",
    "Considering the stakeholders, mushroom lovers would want a high precision and recall to avoid eating poisonous mushrooms, restaurant cooks would want a high precision to avoid serving poisonous mushrooms to their customers, and people who are lost in the woods would want a high recall to identify poisonous mushrooms to avoid. We need to minimize false negative rate, i.e. the level of poisonous mushrooms that are identified as edible, for the safety of our stakeholders. "
   ]
  },
  {
   "cell_type": "markdown",
   "id": "0c874b4f",
   "metadata": {},
   "source": [
    "# 9) Work-split\n",
    "How do you plan to split the project work amongst individual team members?\n",
    "\n",
    "*(0.25 point)*"
   ]
  },
  {
   "cell_type": "markdown",
   "id": "e8fb150a",
   "metadata": {},
   "source": [
    "Part1: explore data, conduct statiscal testing and domain research\n",
    "\n",
    "Part2: develop manual and lasso model; assumptions and fitting\n",
    "\n",
    "Part3: subset selection models; test model accuracy\n",
    "\n",
    "Part4: report writing "
   ]
  }
 ],
 "metadata": {
  "kernelspec": {
   "display_name": "Python 3 (ipykernel)",
   "language": "python",
   "name": "python3"
  },
  "language_info": {
   "codemirror_mode": {
    "name": "ipython",
    "version": 3
   },
   "file_extension": ".py",
   "mimetype": "text/x-python",
   "name": "python",
   "nbconvert_exporter": "python",
   "pygments_lexer": "ipython3",
   "version": "3.9.12"
  }
 },
 "nbformat": 4,
 "nbformat_minor": 5
}
